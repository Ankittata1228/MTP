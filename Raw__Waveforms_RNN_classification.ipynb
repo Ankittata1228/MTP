{
  "cells": [
    {
      "cell_type": "markdown",
      "source": [
        "Using librosa for audio preprocessing"
      ],
      "metadata": {
        "id": "hwfD18byWINY"
      }
    },
    {
      "cell_type": "code",
      "execution_count": null,
      "metadata": {
        "colab": {
          "base_uri": "https://localhost:8080/"
        },
        "id": "hQPjxPTXYaRM",
        "outputId": "c42bd933-b724-418d-fe01-55c1c636859e"
      },
      "outputs": [
        {
          "output_type": "stream",
          "name": "stdout",
          "text": [
            "Requirement already satisfied: librosa in /usr/local/lib/python3.10/dist-packages (0.10.1)\n",
            "Requirement already satisfied: audioread>=2.1.9 in /usr/local/lib/python3.10/dist-packages (from librosa) (3.0.1)\n",
            "Requirement already satisfied: numpy!=1.22.0,!=1.22.1,!=1.22.2,>=1.20.3 in /usr/local/lib/python3.10/dist-packages (from librosa) (1.23.5)\n",
            "Requirement already satisfied: scipy>=1.2.0 in /usr/local/lib/python3.10/dist-packages (from librosa) (1.11.3)\n",
            "Requirement already satisfied: scikit-learn>=0.20.0 in /usr/local/lib/python3.10/dist-packages (from librosa) (1.2.2)\n",
            "Requirement already satisfied: joblib>=0.14 in /usr/local/lib/python3.10/dist-packages (from librosa) (1.3.2)\n",
            "Requirement already satisfied: decorator>=4.3.0 in /usr/local/lib/python3.10/dist-packages (from librosa) (4.4.2)\n",
            "Requirement already satisfied: numba>=0.51.0 in /usr/local/lib/python3.10/dist-packages (from librosa) (0.56.4)\n",
            "Requirement already satisfied: soundfile>=0.12.1 in /usr/local/lib/python3.10/dist-packages (from librosa) (0.12.1)\n",
            "Requirement already satisfied: pooch>=1.0 in /usr/local/lib/python3.10/dist-packages (from librosa) (1.7.0)\n",
            "Requirement already satisfied: soxr>=0.3.2 in /usr/local/lib/python3.10/dist-packages (from librosa) (0.3.7)\n",
            "Requirement already satisfied: typing-extensions>=4.1.1 in /usr/local/lib/python3.10/dist-packages (from librosa) (4.5.0)\n",
            "Requirement already satisfied: lazy-loader>=0.1 in /usr/local/lib/python3.10/dist-packages (from librosa) (0.3)\n",
            "Requirement already satisfied: msgpack>=1.0 in /usr/local/lib/python3.10/dist-packages (from librosa) (1.0.7)\n",
            "Requirement already satisfied: llvmlite<0.40,>=0.39.0dev0 in /usr/local/lib/python3.10/dist-packages (from numba>=0.51.0->librosa) (0.39.1)\n",
            "Requirement already satisfied: setuptools in /usr/local/lib/python3.10/dist-packages (from numba>=0.51.0->librosa) (67.7.2)\n",
            "Requirement already satisfied: platformdirs>=2.5.0 in /usr/local/lib/python3.10/dist-packages (from pooch>=1.0->librosa) (3.11.0)\n",
            "Requirement already satisfied: packaging>=20.0 in /usr/local/lib/python3.10/dist-packages (from pooch>=1.0->librosa) (23.2)\n",
            "Requirement already satisfied: requests>=2.19.0 in /usr/local/lib/python3.10/dist-packages (from pooch>=1.0->librosa) (2.31.0)\n",
            "Requirement already satisfied: threadpoolctl>=2.0.0 in /usr/local/lib/python3.10/dist-packages (from scikit-learn>=0.20.0->librosa) (3.2.0)\n",
            "Requirement already satisfied: cffi>=1.0 in /usr/local/lib/python3.10/dist-packages (from soundfile>=0.12.1->librosa) (1.16.0)\n",
            "Requirement already satisfied: pycparser in /usr/local/lib/python3.10/dist-packages (from cffi>=1.0->soundfile>=0.12.1->librosa) (2.21)\n",
            "Requirement already satisfied: charset-normalizer<4,>=2 in /usr/local/lib/python3.10/dist-packages (from requests>=2.19.0->pooch>=1.0->librosa) (3.3.0)\n",
            "Requirement already satisfied: idna<4,>=2.5 in /usr/local/lib/python3.10/dist-packages (from requests>=2.19.0->pooch>=1.0->librosa) (3.4)\n",
            "Requirement already satisfied: urllib3<3,>=1.21.1 in /usr/local/lib/python3.10/dist-packages (from requests>=2.19.0->pooch>=1.0->librosa) (2.0.6)\n",
            "Requirement already satisfied: certifi>=2017.4.17 in /usr/local/lib/python3.10/dist-packages (from requests>=2.19.0->pooch>=1.0->librosa) (2023.7.22)\n"
          ]
        }
      ],
      "source": [
        "!pip install librosa"
      ]
    },
    {
      "cell_type": "markdown",
      "source": [
        "Mounting drive"
      ],
      "metadata": {
        "id": "iR-5LvC4WAJJ"
      }
    },
    {
      "cell_type": "code",
      "execution_count": null,
      "metadata": {
        "colab": {
          "base_uri": "https://localhost:8080/"
        },
        "id": "ab2mss2yYusn",
        "outputId": "b1606a91-5764-4915-91bb-c36277e92582"
      },
      "outputs": [
        {
          "output_type": "stream",
          "name": "stdout",
          "text": [
            "Drive already mounted at /content/drive; to attempt to forcibly remount, call drive.mount(\"/content/drive\", force_remount=True).\n"
          ]
        }
      ],
      "source": [
        "from google.colab import drive\n",
        "drive.mount('/content/drive')"
      ]
    },
    {
      "cell_type": "markdown",
      "source": [
        "Importing Libraries"
      ],
      "metadata": {
        "id": "_fj5-nk3V2eC"
      }
    },
    {
      "cell_type": "code",
      "execution_count": null,
      "metadata": {
        "id": "pOM6NdsrYxN7"
      },
      "outputs": [],
      "source": [
        "import librosa\n",
        "import os\n",
        "import pandas as pd\n",
        "import numpy as np\n",
        "import torch\n",
        "import torch.nn.functional as F\n",
        "from torch.nn.utils.rnn import pad_sequence\n",
        "import torch.nn as nn\n",
        "import torch.optim as optim\n",
        "import cv2"
      ]
    },
    {
      "cell_type": "markdown",
      "source": [
        "Accesing GPU"
      ],
      "metadata": {
        "id": "1ut_xkDFWPgq"
      }
    },
    {
      "cell_type": "code",
      "execution_count": null,
      "metadata": {
        "id": "sVFB9XmNIdg2"
      },
      "outputs": [],
      "source": [
        "if torch.cuda.is_available():\n",
        "    device = torch.device(\"cuda\")\n",
        "else:\n",
        "    device = torch.device(\"cpu\")"
      ]
    },
    {
      "cell_type": "markdown",
      "source": [
        "Loading Data"
      ],
      "metadata": {
        "id": "4UBQNzTJWTp2"
      }
    },
    {
      "cell_type": "code",
      "execution_count": null,
      "metadata": {
        "id": "itw3N3UCY6fR"
      },
      "outputs": [],
      "source": [
        "csv_file_path='/content/drive/MyDrive/archive (24)/TRAIN.csv'\n",
        "folder_path_train='/content/drive/MyDrive/archive (24)/TRAIN'\n"
      ]
    },
    {
      "cell_type": "code",
      "execution_count": null,
      "metadata": {
        "id": "82wijGw7ITd2"
      },
      "outputs": [],
      "source": [
        "df=pd.read_csv('/content/drive/MyDrive/archive (24)/TRAIN.csv')"
      ]
    },
    {
      "cell_type": "code",
      "execution_count": null,
      "metadata": {
        "colab": {
          "base_uri": "https://localhost:8080/",
          "height": 423
        },
        "id": "OgisS_sEJQit",
        "outputId": "045919f3-1d18-4d09-f84c-d3b28b2c2000"
      },
      "outputs": [
        {
          "output_type": "execute_result",
          "data": {
            "text/plain": [
              "    Filename     Class\n",
              "0    346.wav  Negative\n",
              "1    163.wav   Neutral\n",
              "2    288.wav  Negative\n",
              "3    279.wav  Negative\n",
              "4    244.wav  Negative\n",
              "..       ...       ...\n",
              "245  204.wav   Neutral\n",
              "246   46.wav  Positive\n",
              "247  318.wav  Negative\n",
              "248   49.wav  Positive\n",
              "249  191.wav   Neutral\n",
              "\n",
              "[250 rows x 2 columns]"
            ],
            "text/html": [
              "\n",
              "  <div id=\"df-832b3a62-9fa0-42ca-a053-832805edd142\" class=\"colab-df-container\">\n",
              "    <div>\n",
              "<style scoped>\n",
              "    .dataframe tbody tr th:only-of-type {\n",
              "        vertical-align: middle;\n",
              "    }\n",
              "\n",
              "    .dataframe tbody tr th {\n",
              "        vertical-align: top;\n",
              "    }\n",
              "\n",
              "    .dataframe thead th {\n",
              "        text-align: right;\n",
              "    }\n",
              "</style>\n",
              "<table border=\"1\" class=\"dataframe\">\n",
              "  <thead>\n",
              "    <tr style=\"text-align: right;\">\n",
              "      <th></th>\n",
              "      <th>Filename</th>\n",
              "      <th>Class</th>\n",
              "    </tr>\n",
              "  </thead>\n",
              "  <tbody>\n",
              "    <tr>\n",
              "      <th>0</th>\n",
              "      <td>346.wav</td>\n",
              "      <td>Negative</td>\n",
              "    </tr>\n",
              "    <tr>\n",
              "      <th>1</th>\n",
              "      <td>163.wav</td>\n",
              "      <td>Neutral</td>\n",
              "    </tr>\n",
              "    <tr>\n",
              "      <th>2</th>\n",
              "      <td>288.wav</td>\n",
              "      <td>Negative</td>\n",
              "    </tr>\n",
              "    <tr>\n",
              "      <th>3</th>\n",
              "      <td>279.wav</td>\n",
              "      <td>Negative</td>\n",
              "    </tr>\n",
              "    <tr>\n",
              "      <th>4</th>\n",
              "      <td>244.wav</td>\n",
              "      <td>Negative</td>\n",
              "    </tr>\n",
              "    <tr>\n",
              "      <th>...</th>\n",
              "      <td>...</td>\n",
              "      <td>...</td>\n",
              "    </tr>\n",
              "    <tr>\n",
              "      <th>245</th>\n",
              "      <td>204.wav</td>\n",
              "      <td>Neutral</td>\n",
              "    </tr>\n",
              "    <tr>\n",
              "      <th>246</th>\n",
              "      <td>46.wav</td>\n",
              "      <td>Positive</td>\n",
              "    </tr>\n",
              "    <tr>\n",
              "      <th>247</th>\n",
              "      <td>318.wav</td>\n",
              "      <td>Negative</td>\n",
              "    </tr>\n",
              "    <tr>\n",
              "      <th>248</th>\n",
              "      <td>49.wav</td>\n",
              "      <td>Positive</td>\n",
              "    </tr>\n",
              "    <tr>\n",
              "      <th>249</th>\n",
              "      <td>191.wav</td>\n",
              "      <td>Neutral</td>\n",
              "    </tr>\n",
              "  </tbody>\n",
              "</table>\n",
              "<p>250 rows × 2 columns</p>\n",
              "</div>\n",
              "    <div class=\"colab-df-buttons\">\n",
              "\n",
              "  <div class=\"colab-df-container\">\n",
              "    <button class=\"colab-df-convert\" onclick=\"convertToInteractive('df-832b3a62-9fa0-42ca-a053-832805edd142')\"\n",
              "            title=\"Convert this dataframe to an interactive table.\"\n",
              "            style=\"display:none;\">\n",
              "\n",
              "  <svg xmlns=\"http://www.w3.org/2000/svg\" height=\"24px\" viewBox=\"0 -960 960 960\">\n",
              "    <path d=\"M120-120v-720h720v720H120Zm60-500h600v-160H180v160Zm220 220h160v-160H400v160Zm0 220h160v-160H400v160ZM180-400h160v-160H180v160Zm440 0h160v-160H620v160ZM180-180h160v-160H180v160Zm440 0h160v-160H620v160Z\"/>\n",
              "  </svg>\n",
              "    </button>\n",
              "\n",
              "  <style>\n",
              "    .colab-df-container {\n",
              "      display:flex;\n",
              "      gap: 12px;\n",
              "    }\n",
              "\n",
              "    .colab-df-convert {\n",
              "      background-color: #E8F0FE;\n",
              "      border: none;\n",
              "      border-radius: 50%;\n",
              "      cursor: pointer;\n",
              "      display: none;\n",
              "      fill: #1967D2;\n",
              "      height: 32px;\n",
              "      padding: 0 0 0 0;\n",
              "      width: 32px;\n",
              "    }\n",
              "\n",
              "    .colab-df-convert:hover {\n",
              "      background-color: #E2EBFA;\n",
              "      box-shadow: 0px 1px 2px rgba(60, 64, 67, 0.3), 0px 1px 3px 1px rgba(60, 64, 67, 0.15);\n",
              "      fill: #174EA6;\n",
              "    }\n",
              "\n",
              "    .colab-df-buttons div {\n",
              "      margin-bottom: 4px;\n",
              "    }\n",
              "\n",
              "    [theme=dark] .colab-df-convert {\n",
              "      background-color: #3B4455;\n",
              "      fill: #D2E3FC;\n",
              "    }\n",
              "\n",
              "    [theme=dark] .colab-df-convert:hover {\n",
              "      background-color: #434B5C;\n",
              "      box-shadow: 0px 1px 3px 1px rgba(0, 0, 0, 0.15);\n",
              "      filter: drop-shadow(0px 1px 2px rgba(0, 0, 0, 0.3));\n",
              "      fill: #FFFFFF;\n",
              "    }\n",
              "  </style>\n",
              "\n",
              "    <script>\n",
              "      const buttonEl =\n",
              "        document.querySelector('#df-832b3a62-9fa0-42ca-a053-832805edd142 button.colab-df-convert');\n",
              "      buttonEl.style.display =\n",
              "        google.colab.kernel.accessAllowed ? 'block' : 'none';\n",
              "\n",
              "      async function convertToInteractive(key) {\n",
              "        const element = document.querySelector('#df-832b3a62-9fa0-42ca-a053-832805edd142');\n",
              "        const dataTable =\n",
              "          await google.colab.kernel.invokeFunction('convertToInteractive',\n",
              "                                                    [key], {});\n",
              "        if (!dataTable) return;\n",
              "\n",
              "        const docLinkHtml = 'Like what you see? Visit the ' +\n",
              "          '<a target=\"_blank\" href=https://colab.research.google.com/notebooks/data_table.ipynb>data table notebook</a>'\n",
              "          + ' to learn more about interactive tables.';\n",
              "        element.innerHTML = '';\n",
              "        dataTable['output_type'] = 'display_data';\n",
              "        await google.colab.output.renderOutput(dataTable, element);\n",
              "        const docLink = document.createElement('div');\n",
              "        docLink.innerHTML = docLinkHtml;\n",
              "        element.appendChild(docLink);\n",
              "      }\n",
              "    </script>\n",
              "  </div>\n",
              "\n",
              "\n",
              "<div id=\"df-5edaff42-4af4-4267-abe9-1fc8c3540bea\">\n",
              "  <button class=\"colab-df-quickchart\" onclick=\"quickchart('df-5edaff42-4af4-4267-abe9-1fc8c3540bea')\"\n",
              "            title=\"Suggest charts.\"\n",
              "            style=\"display:none;\">\n",
              "\n",
              "<svg xmlns=\"http://www.w3.org/2000/svg\" height=\"24px\"viewBox=\"0 0 24 24\"\n",
              "     width=\"24px\">\n",
              "    <g>\n",
              "        <path d=\"M19 3H5c-1.1 0-2 .9-2 2v14c0 1.1.9 2 2 2h14c1.1 0 2-.9 2-2V5c0-1.1-.9-2-2-2zM9 17H7v-7h2v7zm4 0h-2V7h2v10zm4 0h-2v-4h2v4z\"/>\n",
              "    </g>\n",
              "</svg>\n",
              "  </button>\n",
              "\n",
              "<style>\n",
              "  .colab-df-quickchart {\n",
              "      --bg-color: #E8F0FE;\n",
              "      --fill-color: #1967D2;\n",
              "      --hover-bg-color: #E2EBFA;\n",
              "      --hover-fill-color: #174EA6;\n",
              "      --disabled-fill-color: #AAA;\n",
              "      --disabled-bg-color: #DDD;\n",
              "  }\n",
              "\n",
              "  [theme=dark] .colab-df-quickchart {\n",
              "      --bg-color: #3B4455;\n",
              "      --fill-color: #D2E3FC;\n",
              "      --hover-bg-color: #434B5C;\n",
              "      --hover-fill-color: #FFFFFF;\n",
              "      --disabled-bg-color: #3B4455;\n",
              "      --disabled-fill-color: #666;\n",
              "  }\n",
              "\n",
              "  .colab-df-quickchart {\n",
              "    background-color: var(--bg-color);\n",
              "    border: none;\n",
              "    border-radius: 50%;\n",
              "    cursor: pointer;\n",
              "    display: none;\n",
              "    fill: var(--fill-color);\n",
              "    height: 32px;\n",
              "    padding: 0;\n",
              "    width: 32px;\n",
              "  }\n",
              "\n",
              "  .colab-df-quickchart:hover {\n",
              "    background-color: var(--hover-bg-color);\n",
              "    box-shadow: 0 1px 2px rgba(60, 64, 67, 0.3), 0 1px 3px 1px rgba(60, 64, 67, 0.15);\n",
              "    fill: var(--button-hover-fill-color);\n",
              "  }\n",
              "\n",
              "  .colab-df-quickchart-complete:disabled,\n",
              "  .colab-df-quickchart-complete:disabled:hover {\n",
              "    background-color: var(--disabled-bg-color);\n",
              "    fill: var(--disabled-fill-color);\n",
              "    box-shadow: none;\n",
              "  }\n",
              "\n",
              "  .colab-df-spinner {\n",
              "    border: 2px solid var(--fill-color);\n",
              "    border-color: transparent;\n",
              "    border-bottom-color: var(--fill-color);\n",
              "    animation:\n",
              "      spin 1s steps(1) infinite;\n",
              "  }\n",
              "\n",
              "  @keyframes spin {\n",
              "    0% {\n",
              "      border-color: transparent;\n",
              "      border-bottom-color: var(--fill-color);\n",
              "      border-left-color: var(--fill-color);\n",
              "    }\n",
              "    20% {\n",
              "      border-color: transparent;\n",
              "      border-left-color: var(--fill-color);\n",
              "      border-top-color: var(--fill-color);\n",
              "    }\n",
              "    30% {\n",
              "      border-color: transparent;\n",
              "      border-left-color: var(--fill-color);\n",
              "      border-top-color: var(--fill-color);\n",
              "      border-right-color: var(--fill-color);\n",
              "    }\n",
              "    40% {\n",
              "      border-color: transparent;\n",
              "      border-right-color: var(--fill-color);\n",
              "      border-top-color: var(--fill-color);\n",
              "    }\n",
              "    60% {\n",
              "      border-color: transparent;\n",
              "      border-right-color: var(--fill-color);\n",
              "    }\n",
              "    80% {\n",
              "      border-color: transparent;\n",
              "      border-right-color: var(--fill-color);\n",
              "      border-bottom-color: var(--fill-color);\n",
              "    }\n",
              "    90% {\n",
              "      border-color: transparent;\n",
              "      border-bottom-color: var(--fill-color);\n",
              "    }\n",
              "  }\n",
              "</style>\n",
              "\n",
              "  <script>\n",
              "    async function quickchart(key) {\n",
              "      const quickchartButtonEl =\n",
              "        document.querySelector('#' + key + ' button');\n",
              "      quickchartButtonEl.disabled = true;  // To prevent multiple clicks.\n",
              "      quickchartButtonEl.classList.add('colab-df-spinner');\n",
              "      try {\n",
              "        const charts = await google.colab.kernel.invokeFunction(\n",
              "            'suggestCharts', [key], {});\n",
              "      } catch (error) {\n",
              "        console.error('Error during call to suggestCharts:', error);\n",
              "      }\n",
              "      quickchartButtonEl.classList.remove('colab-df-spinner');\n",
              "      quickchartButtonEl.classList.add('colab-df-quickchart-complete');\n",
              "    }\n",
              "    (() => {\n",
              "      let quickchartButtonEl =\n",
              "        document.querySelector('#df-5edaff42-4af4-4267-abe9-1fc8c3540bea button');\n",
              "      quickchartButtonEl.style.display =\n",
              "        google.colab.kernel.accessAllowed ? 'block' : 'none';\n",
              "    })();\n",
              "  </script>\n",
              "</div>\n",
              "    </div>\n",
              "  </div>\n"
            ]
          },
          "metadata": {},
          "execution_count": 7
        }
      ],
      "source": [
        "df"
      ]
    },
    {
      "cell_type": "markdown",
      "source": [
        "Spliting the dataset"
      ],
      "metadata": {
        "id": "0Nus9jNeWYc3"
      }
    },
    {
      "cell_type": "code",
      "execution_count": null,
      "metadata": {
        "id": "QGghhUe-JTKB"
      },
      "outputs": [],
      "source": [
        "#split df into train,test,validation\n",
        "from sklearn.model_selection import train_test_split\n",
        "train_df,temp=train_test_split(df,test_size=0.3,random_state=28)\n",
        "test_df,valid_df=train_test_split(temp,test_size=0.6,random_state=28)"
      ]
    },
    {
      "cell_type": "code",
      "execution_count": null,
      "metadata": {
        "colab": {
          "base_uri": "https://localhost:8080/"
        },
        "id": "5dvUd18sJrZX",
        "outputId": "3ae12d87-dd23-4e60-e142-45845c3460f2"
      },
      "outputs": [
        {
          "output_type": "execute_result",
          "data": {
            "text/plain": [
              "(175, 2)"
            ]
          },
          "metadata": {},
          "execution_count": 9
        }
      ],
      "source": [
        "train_df.shape"
      ]
    },
    {
      "cell_type": "code",
      "execution_count": null,
      "metadata": {
        "colab": {
          "base_uri": "https://localhost:8080/"
        },
        "id": "gQJ9E5UyJvd5",
        "outputId": "625db4ac-3c97-4421-ff4f-c4b83b67084e"
      },
      "outputs": [
        {
          "output_type": "execute_result",
          "data": {
            "text/plain": [
              "(45, 2)"
            ]
          },
          "metadata": {},
          "execution_count": 10
        }
      ],
      "source": [
        "valid_df.shape"
      ]
    },
    {
      "cell_type": "code",
      "execution_count": null,
      "metadata": {
        "colab": {
          "base_uri": "https://localhost:8080/"
        },
        "id": "juqyrDw4Jtjr",
        "outputId": "91e6b0ac-4232-47d7-e572-cad345dbebc9"
      },
      "outputs": [
        {
          "output_type": "execute_result",
          "data": {
            "text/plain": [
              "(30, 2)"
            ]
          },
          "metadata": {},
          "execution_count": 11
        }
      ],
      "source": [
        "test_df.shape"
      ]
    },
    {
      "cell_type": "markdown",
      "source": [
        "Class for loading the audio files"
      ],
      "metadata": {
        "id": "HsHW5EqsWeKr"
      }
    },
    {
      "cell_type": "code",
      "execution_count": null,
      "metadata": {
        "id": "sGb1dQ5yYztx"
      },
      "outputs": [],
      "source": [
        "class AudioDataset(torch.utils.data.Dataset):\n",
        "  def __init__(self, folder_path, target_sample_rate, csv_file,max_audio_length):\n",
        "    self.csv_file = csv_file\n",
        "    self.folder_path = folder_path\n",
        "    self.sample_rate = target_sample_rate\n",
        "    self.mapping = {\"Positive\": [1, 0, 0], \"Neutral\": [0, 1, 0], \"Negative\": [0, 0, 1]}\n",
        "    self.max_audio_length=max_audio_length\n",
        "\n",
        "  def __len__(self):\n",
        "    return len(self.csv_file)\n",
        "\n",
        "  '''def __getitem__(self, idx):\n",
        "    filename = os.path.join(self.folder_path, self.csv_file.iloc[idx, 0])\n",
        "    audio_data, sr = librosa.load(filename, sr=self.sample_rate)\n",
        "    audio_data=audio_data.reshape(1,-1)\n",
        "    print(audio_data)\n",
        "    #audio_data=list(torch.tensor(audio_data))\n",
        "    audio_data=pad_sequence(audio_data, batch_first=True)\n",
        "    audio_data=audio_data[0]\n",
        "    print(audio_data)\n",
        "    labels = self.csv_file.iloc[idx, 1]\n",
        "    labels = np.array(self.mapping[labels])\n",
        "    return audio_data, labels'''\n",
        "\n",
        "\n",
        "  def __getitem__(self, idx):\n",
        "    filename = os.path.join(self.folder_path, self.csv_file.iloc[idx, 0])\n",
        "    audio_data, sr = librosa.load(filename, sr=self.sample_rate)\n",
        "    audio_data = audio_data.reshape(1, -1)  # Reshape to (1, audio_length)\n",
        "    audio_data = torch.tensor(audio_data, dtype=torch.float32)\n",
        "\n",
        "    # Determine the maximum length in the dataset\n",
        "    max_length = max(len(audio_data[0]), self.max_audio_length)\n",
        "\n",
        "    # Padding\n",
        "    if audio_data.size(1) < max_length:\n",
        "        # Calculate the amount of padding needed\n",
        "        pad_length = max_length - audio_data.size(1)\n",
        "\n",
        "        # Pad the audio_data with zeros\n",
        "        audio_data = F.pad(audio_data, (0, pad_length))\n",
        "\n",
        "    labels = self.csv_file.iloc[idx, 1]\n",
        "    labels = np.array(self.mapping[labels])\n",
        "\n",
        "    return audio_data, labels\n"
      ]
    },
    {
      "cell_type": "code",
      "execution_count": null,
      "metadata": {
        "colab": {
          "base_uri": "https://localhost:8080/",
          "height": 72
        },
        "id": "8deKbR3cY1tB",
        "outputId": "5a872310-3095-4c70-9778-12dae5315c0c"
      },
      "outputs": [
        {
          "output_type": "execute_result",
          "data": {
            "text/plain": [
              "'def collate_fn(batch):\\n  audios = []\\n  labels = []\\n  for audio, label in batch:\\n     audios.append(audio)###\\n     #print(audio.dtype)\\n     labels.append(label)\\n\\n\\n  #convert to tensor\\n   audios = np.array(audios)\\n   audios = torch.from_numpy(audios)\\n   audios=torch.tensor(audios)\\n   audios = torch.stack(audios, axis=0)\\n   labels=torch.tensor(labels, dtype=torch.float32)\\n   labels=labels.shape\\n\\n  return audios,labels'"
            ],
            "application/vnd.google.colaboratory.intrinsic+json": {
              "type": "string"
            }
          },
          "metadata": {},
          "execution_count": 17
        }
      ],
      "source": [
        "'''def collate_fn(batch):\n",
        "  audios = []\n",
        "  labels = []\n",
        "  for audio, label in batch:\n",
        "     audios.append(audio)###\n",
        "     #print(audio.dtype)\n",
        "     labels.append(label)\n",
        "\n",
        "\n",
        "  #convert to tensor\n",
        "   audios = np.array(audios)\n",
        "   audios = torch.from_numpy(audios)\n",
        "   audios=torch.tensor(audios)\n",
        "   audios = torch.stack(audios, axis=0)\n",
        "   labels=torch.tensor(labels, dtype=torch.float32)\n",
        "   labels=labels.shape\n",
        "\n",
        "  return audios,labels'''\n"
      ]
    },
    {
      "cell_type": "code",
      "execution_count": null,
      "metadata": {
        "id": "DRm51GOcZrVD"
      },
      "outputs": [],
      "source": [
        "target_sample_rate=44100#setting the sample rate"
      ]
    },
    {
      "cell_type": "code",
      "execution_count": null,
      "metadata": {
        "id": "8RYj3lg3YeQf"
      },
      "outputs": [],
      "source": [
        "train_data=AudioDataset(folder_path_train,44100,train_df,max_audio_length)\n",
        "valid_data=AudioDataset(folder_path_train,44100,valid_df,max_audio_length)\n",
        "test_data=AudioDataset(folder_path_train,44100,test_df,max_audio_length)"
      ]
    },
    {
      "cell_type": "code",
      "execution_count": null,
      "metadata": {
        "colab": {
          "base_uri": "https://localhost:8080/"
        },
        "id": "Ik4-M7dnL4Nv",
        "outputId": "2ab788e8-8b56-4e11-f965-870dfae074bd"
      },
      "outputs": [
        {
          "output_type": "execute_result",
          "data": {
            "text/plain": [
              "torch.Size([1, 173952])"
            ]
          },
          "metadata": {},
          "execution_count": 20
        }
      ],
      "source": [
        "train_data[14][0].shape"
      ]
    },
    {
      "cell_type": "markdown",
      "source": [
        "Creating batches Using Dataloader"
      ],
      "metadata": {
        "id": "hfg5POSiXh9z"
      }
    },
    {
      "cell_type": "code",
      "execution_count": null,
      "metadata": {
        "id": "WJLbNpitcFoo"
      },
      "outputs": [],
      "source": [
        "from torch.utils.data import  DataLoader\n",
        "train_dataloader = DataLoader(train_data, batch_size=8, shuffle=True, drop_last=True)\n",
        "test_dataloader = DataLoader(test_data, batch_size=8,shuffle=True, drop_last=True)\n",
        "valid_dataloader = DataLoader(valid_data, batch_size=8,shuffle=True, drop_last=True)"
      ]
    },
    {
      "cell_type": "code",
      "execution_count": null,
      "metadata": {
        "colab": {
          "base_uri": "https://localhost:8080/"
        },
        "id": "032snSQYcFoo",
        "outputId": "a962eb7b-d29c-4f7c-c08a-4bae2c5ac9d5"
      },
      "outputs": [
        {
          "output_type": "stream",
          "name": "stdout",
          "text": [
            "torch.Size([8, 1, 173952]) torch.Size([8, 3])\n"
          ]
        }
      ],
      "source": [
        "for audios,labels in train_dataloader:\n",
        "  print(audios.shape,labels.shape)\n",
        "  break"
      ]
    },
    {
      "cell_type": "markdown",
      "source": [
        "Model"
      ],
      "metadata": {
        "id": "UcsJl8FMXqgr"
      }
    },
    {
      "cell_type": "code",
      "execution_count": null,
      "metadata": {
        "id": "SvmVT7mHUCma"
      },
      "outputs": [],
      "source": [
        "class ConvolutionRNN1(nn.Module):\n",
        "    def __init__(self,input_size,hidden_size, num_layers, out_features):\n",
        "        super(ConvolutionRNN1, self).__init__()\n",
        "        '''we have used this many convolution layer because the input size which we are giving to RNN was too large and\n",
        "           because of that our model would not remember the information ,so that's why we have used conv1d to reduce\n",
        "          the size.'''\n",
        "        self.conv1 = nn.Sequential(nn.Conv1d(1, 256, kernel_size=10, stride=1, padding=0),\n",
        "                                   nn.MaxPool1d(kernel_size=4))\n",
        "        self.conv2 = nn.Sequential(nn.Conv1d(256, 128, kernel_size=10, stride=1, padding=0),\n",
        "                                   nn.MaxPool1d(kernel_size=4))\n",
        "        self.conv3 = nn.Sequential(nn.Conv1d(128, 64, kernel_size=10, stride=1, padding=0),\n",
        "                                   nn.MaxPool1d(kernel_size=4))\n",
        "        self.conv4 = nn.Sequential(nn.Conv1d(64, 32, kernel_size=10, stride=1, padding=0),\n",
        "                                   nn.MaxPool1d(kernel_size=4))\n",
        "        self.conv5 = nn.Sequential(nn.Conv1d(32,16, kernel_size=10, stride=1, padding=0),\n",
        "                                   nn.MaxPool1d(kernel_size=4))\n",
        "        self.hidden_size=hidden_size\n",
        "        self.num_layers=num_layers\n",
        "        self.rnn = nn.RNN(input_size, hidden_size, num_layers, batch_first=True)\n",
        "\n",
        "        self.fc = nn.Linear(hidden_size*16, out_features)\n",
        "\n",
        "\n",
        "    def forward(self, x):\n",
        "        x = self.conv1(x)\n",
        "        #print('conv1',x.shape)\n",
        "        x = self.conv2(x)\n",
        "        #print('conv2',x.shape)\n",
        "        x = self.conv3(x)\n",
        "        #print('conv3',x.shape)\n",
        "        x = self.conv4(x)\n",
        "        #print('conv4',x.shape)\n",
        "        x = self.conv5(x)\n",
        "        #print('conv5',x.shape)\n",
        "\n",
        "        input_shape=x.shape\n",
        "        out, _ = self.rnn(x)\n",
        "        #print('rnn output',out.shape)\n",
        "        out=out.reshape(-1,input_shape[1]*self.hidden_size)\n",
        "        out = self.fc(out)\n",
        "        #print('fully connected layer',x.shape)\n",
        "        return out\n",
        "\n"
      ]
    },
    {
      "cell_type": "code",
      "execution_count": null,
      "metadata": {
        "id": "qnD7dmxqUN0F"
      },
      "outputs": [],
      "source": [
        "model = ConvolutionRNN1(input_size=166, hidden_size=10, num_layers=2, out_features=3)"
      ]
    },
    {
      "cell_type": "code",
      "execution_count": null,
      "metadata": {
        "colab": {
          "base_uri": "https://localhost:8080/"
        },
        "id": "k1VdT_QzeUP2",
        "outputId": "6d10a4cd-8a03-48ee-b850-e144c61c6fee"
      },
      "outputs": [
        {
          "output_type": "execute_result",
          "data": {
            "text/plain": [
              "ConvolutionRNN1(\n",
              "  (conv1): Sequential(\n",
              "    (0): Conv1d(1, 256, kernel_size=(10,), stride=(1,))\n",
              "    (1): MaxPool1d(kernel_size=4, stride=4, padding=0, dilation=1, ceil_mode=False)\n",
              "  )\n",
              "  (conv2): Sequential(\n",
              "    (0): Conv1d(256, 128, kernel_size=(10,), stride=(1,))\n",
              "    (1): MaxPool1d(kernel_size=4, stride=4, padding=0, dilation=1, ceil_mode=False)\n",
              "  )\n",
              "  (conv3): Sequential(\n",
              "    (0): Conv1d(128, 64, kernel_size=(10,), stride=(1,))\n",
              "    (1): MaxPool1d(kernel_size=4, stride=4, padding=0, dilation=1, ceil_mode=False)\n",
              "  )\n",
              "  (conv4): Sequential(\n",
              "    (0): Conv1d(64, 32, kernel_size=(10,), stride=(1,))\n",
              "    (1): MaxPool1d(kernel_size=4, stride=4, padding=0, dilation=1, ceil_mode=False)\n",
              "  )\n",
              "  (conv5): Sequential(\n",
              "    (0): Conv1d(32, 16, kernel_size=(10,), stride=(1,))\n",
              "    (1): MaxPool1d(kernel_size=4, stride=4, padding=0, dilation=1, ceil_mode=False)\n",
              "  )\n",
              "  (rnn): RNN(166, 10, num_layers=2, batch_first=True)\n",
              "  (fc): Linear(in_features=160, out_features=3, bias=True)\n",
              ")"
            ]
          },
          "metadata": {},
          "execution_count": 25
        }
      ],
      "source": [
        "model.to(device)"
      ]
    },
    {
      "cell_type": "code",
      "execution_count": null,
      "metadata": {
        "id": "i69Mu3XZakDZ"
      },
      "outputs": [],
      "source": [
        "import torch.optim as optim"
      ]
    },
    {
      "cell_type": "markdown",
      "source": [
        "Defining Loss and optimizer"
      ],
      "metadata": {
        "id": "7QgoYCt8Yu5f"
      }
    },
    {
      "cell_type": "code",
      "execution_count": null,
      "metadata": {
        "id": "LU0oJjmNYBzb"
      },
      "outputs": [],
      "source": [
        "criterion = nn.CrossEntropyLoss()\n",
        "optimizer = optim.SGD(model.parameters(), lr=0.01)\n",
        "num_epochs=100"
      ]
    },
    {
      "cell_type": "markdown",
      "source": [
        "Trianing and Validation"
      ],
      "metadata": {
        "id": "lPwbqT2UYrpw"
      }
    },
    {
      "cell_type": "code",
      "source": [
        "num_epochs = 50\n",
        "patience = 5  # Number of epochs with no improvement after which training will stop\n",
        "best_valid_loss = float('inf')\n",
        "best_model_state = None\n",
        "\n",
        "train_losses = []  # To store training losses for each epoch\n",
        "valid_losses = []  # To store validation losses for each epoch\n",
        "\n",
        "for epoch in range(num_epochs):\n",
        "    model.train()\n",
        "    total_train_loss = 0.0\n",
        "\n",
        "    for audios, labels in train_dataloader:\n",
        "        audios = audios.to(device)\n",
        "        labels = labels.to(device)\n",
        "        #audios = audios.reshape(8, 1, 224, 224)\n",
        "        outputs = model(audios)\n",
        "        labels = labels.float()\n",
        "        loss = criterion(outputs, labels)\n",
        "        optimizer.zero_grad()\n",
        "        loss.backward()\n",
        "        optimizer.step()\n",
        "        total_train_loss += loss.item()\n",
        "\n",
        "    average_train_loss = total_train_loss / len(train_dataloader)\n",
        "    train_losses.append(average_train_loss)\n",
        "\n",
        "    model.eval()\n",
        "    total_valid_loss = 0.0\n",
        "\n",
        "    with torch.no_grad():\n",
        "        for audios, labels in valid_dataloader:\n",
        "            audios = audios.to(device)\n",
        "            labels = labels.to(device)\n",
        "            #audios = audios.reshape(8, 1, 224, 224)\n",
        "            outputs = model(audios)\n",
        "            labels = labels.float()\n",
        "            loss = criterion(outputs, labels)\n",
        "            total_valid_loss += loss.item()\n",
        "\n",
        "    average_valid_loss = total_valid_loss / len(valid_dataloader)\n",
        "    valid_losses.append(average_valid_loss)\n",
        "\n",
        "    print(f'Epoch [{epoch + 1}/{num_epochs}], Train Loss: {average_train_loss:.4f}, Valid Loss: {average_valid_loss:.4f}')\n",
        "\n",
        "    # Check for early stopping\n",
        "    if average_valid_loss < best_valid_loss:\n",
        "        best_valid_loss = average_valid_loss\n",
        "        best_model_state = model.state_dict()  # Save the best model state\n",
        "\n",
        "    # If there is no improvement for 'patience' epochs, stop training\n",
        "    if epoch - np.argmin(valid_losses) >= patience:\n",
        "        print(f'Early stopping after {patience} epochs of no improvement.')\n",
        "        break\n",
        "\n",
        "# Load the best model state for testing\n",
        "if best_model_state is not None:\n",
        "    model.load_state_dict(best_model_state)"
      ],
      "metadata": {
        "colab": {
          "base_uri": "https://localhost:8080/"
        },
        "id": "XbaFcphtrZiI",
        "outputId": "d3812d6e-6ae8-483e-98a9-65897bb75901"
      },
      "execution_count": null,
      "outputs": [
        {
          "output_type": "stream",
          "name": "stdout",
          "text": [
            "Epoch [1/50], Train Loss: 1.0811, Valid Loss: 1.0339\n",
            "Epoch [2/50], Train Loss: 0.9912, Valid Loss: 0.9701\n",
            "Epoch [3/50], Train Loss: 0.9443, Valid Loss: 0.9471\n",
            "Epoch [4/50], Train Loss: 0.8974, Valid Loss: 0.9146\n",
            "Epoch [5/50], Train Loss: 0.8562, Valid Loss: 0.9560\n",
            "Epoch [6/50], Train Loss: 0.8386, Valid Loss: 1.0164\n",
            "Epoch [7/50], Train Loss: 0.8066, Valid Loss: 0.9398\n",
            "Epoch [8/50], Train Loss: 0.8234, Valid Loss: 0.9165\n",
            "Epoch [9/50], Train Loss: 0.7924, Valid Loss: 0.8869\n",
            "Epoch [10/50], Train Loss: 0.7924, Valid Loss: 0.9762\n",
            "Epoch [11/50], Train Loss: 0.7807, Valid Loss: 0.8806\n",
            "Epoch [12/50], Train Loss: 0.7684, Valid Loss: 0.8620\n",
            "Epoch [13/50], Train Loss: 0.7653, Valid Loss: 0.8068\n",
            "Epoch [14/50], Train Loss: 0.7399, Valid Loss: 0.8355\n",
            "Epoch [15/50], Train Loss: 0.7775, Valid Loss: 0.8280\n",
            "Epoch [16/50], Train Loss: 0.8802, Valid Loss: 0.9115\n",
            "Epoch [17/50], Train Loss: 0.8006, Valid Loss: 1.0136\n",
            "Epoch [18/50], Train Loss: 0.7596, Valid Loss: 0.9304\n",
            "Early stopping after 5 epochs of no improvement.\n"
          ]
        }
      ]
    },
    {
      "cell_type": "markdown",
      "source": [
        "Visualizing the  results"
      ],
      "metadata": {
        "id": "DQrRyUJZYz8q"
      }
    },
    {
      "cell_type": "code",
      "execution_count": null,
      "metadata": {
        "id": "Ndx9tClCKVu-",
        "colab": {
          "base_uri": "https://localhost:8080/",
          "height": 564
        },
        "outputId": "dff61d9a-540f-44c2-d1f1-a04f3bb2d3d4"
      },
      "outputs": [
        {
          "output_type": "display_data",
          "data": {
            "text/plain": [
              "<Figure size 1000x600 with 1 Axes>"
            ],
            "image/png": "[encoded data removed]"
          },
          "metadata": {}
        }
      ],
      "source": [
        "import matplotlib.pyplot as plt\n",
        "plt.figure(figsize=(10, 6))\n",
        "plt.plot(range(1, len(train_losses) + 1), train_losses, label='Train Loss')\n",
        "plt.plot(range(1, len(valid_losses) + 1), valid_losses, label='Valid Loss')\n",
        "plt.xlabel('Epoch')\n",
        "plt.ylabel('Loss')\n",
        "plt.legend()\n",
        "plt.title('Training and Validation Loss')\n",
        "plt.show()"
      ]
    },
    {
      "cell_type": "markdown",
      "source": [
        "Testing"
      ],
      "metadata": {
        "id": "1Jqm1LO5Y20u"
      }
    },
    {
      "cell_type": "code",
      "execution_count": null,
      "metadata": {
        "id": "oMrPKxPyKlHy",
        "colab": {
          "base_uri": "https://localhost:8080/"
        },
        "outputId": "de4d3079-22fb-4441-aeb2-3cc187d33353"
      },
      "outputs": [
        {
          "output_type": "stream",
          "name": "stdout",
          "text": [
            "Total Correct Predictions: 13\n",
            "Total Samples: 24\n",
            "Test Accuracy: 54.17%\n"
          ]
        }
      ],
      "source": [
        "total_correct = 0\n",
        "correct=0\n",
        "total_samples = 0\n",
        "sample=0\n",
        "\n",
        "with torch.no_grad():\n",
        "     for audios, labels in test_dataloader:\n",
        "\n",
        "        audios = audios.to(device)\n",
        "        labels = labels.to(device)\n",
        "\n",
        "        outputs = model(audios)\n",
        "        threshold = 0.2\n",
        "        preds = (outputs > threshold).float()\n",
        "        preds=preds.cpu()\n",
        "\n",
        "        for i in range(len(labels)):\n",
        "          labels=labels.cpu()\n",
        "          if np.argmax(preds[i] == np.argmax(labels[i])):\n",
        "             correct = correct + 1\n",
        "          sample=sample+1\n",
        "\n",
        "          total_samples=sample\n",
        "\n",
        "# Calculate test accuracy\n",
        "test_accuracy = correct / sample\n",
        "\n",
        "print(f'Total Correct Predictions: {correct}')\n",
        "print(f'Total Samples: {total_samples}')\n",
        "print(f'Test Accuracy: {test_accuracy*100:.2f}%')"
      ]
    }
  ],
  "metadata": {
    "colab": {
      "provenance": [],
      "gpuType": "T4"
    },
    "kernelspec": {
      "display_name": "Python 3",
      "name": "python3"
    },
    "language_info": {
      "name": "python"
    },
    "accelerator": "GPU"
  },
  "nbformat": 4,
  "nbformat_minor": 0
}