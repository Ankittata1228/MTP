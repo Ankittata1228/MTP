{
  "nbformat": 4,
  "nbformat_minor": 0,
  "metadata": {
    "colab": {
      "provenance": [],
      "gpuType": "T4"
    },
    "kernelspec": {
      "name": "python3",
      "display_name": "Python 3"
    },
    "language_info": {
      "name": "python"
    },
    "accelerator": "GPU"
  },
  "cells": [
    {
      "cell_type": "markdown",
      "source": [
        "Importing libraries"
      ],
      "metadata": {
        "id": "QrLlGWRCTMaD"
      }
    },
    {
      "cell_type": "code",
      "source": [
        "import librosa\n",
        "import os\n",
        "import pandas as pd\n",
        "import numpy as np\n",
        "import torch\n",
        "from torch.nn.utils.rnn import pad_sequence\n",
        "import torch.nn as nn\n",
        "import torch.optim as optim\n",
        "import cv2\n",
        "import numpy as np"
      ],
      "metadata": {
        "id": "ZEGi6_Qmq2t5"
      },
      "execution_count": null,
      "outputs": []
    },
    {
      "cell_type": "markdown",
      "source": [
        "Accesing GPU"
      ],
      "metadata": {
        "id": "gwlNsc8JTQ-W"
      }
    },
    {
      "cell_type": "code",
      "source": [
        "if torch.cuda.is_available():\n",
        "    device = torch.device(\"cuda\")\n",
        "else:\n",
        "    device = torch.device(\"cpu\")"
      ],
      "metadata": {
        "id": "BdC1_XiwxM3p"
      },
      "execution_count": null,
      "outputs": []
    },
    {
      "cell_type": "markdown",
      "source": [
        "Loading Dataset"
      ],
      "metadata": {
        "id": "HbYK3RpqTW5N"
      }
    },
    {
      "cell_type": "code",
      "source": [
        "csv_file_path='/content/drive/MyDrive/archive (24)/TRAIN.csv'\n",
        "folder_path_train='/content/drive/MyDrive/archive (24)/TRAIN'#audio file folder path\n"
      ],
      "metadata": {
        "id": "itw3N3UCY6fR"
      },
      "execution_count": null,
      "outputs": []
    },
    {
      "cell_type": "code",
      "source": [
        "df=pd.read_csv('/content/drive/MyDrive/archive (24)/TRAIN.csv')"
      ],
      "metadata": {
        "id": "82wijGw7ITd2"
      },
      "execution_count": null,
      "outputs": []
    },
    {
      "cell_type": "code",
      "source": [
        "df"
      ],
      "metadata": {
        "colab": {
          "base_uri": "https://localhost:8080/",
          "height": 423
        },
        "id": "OgisS_sEJQit",
        "outputId": "988510c0-f48d-4b83-fef3-f47e072c7215"
      },
      "execution_count": null,
      "outputs": [
        {
          "output_type": "execute_result",
          "data": {
            "text/plain": [
              "    Filename     Class\n",
              "0    346.wav  Negative\n",
              "1    163.wav   Neutral\n",
              "2    288.wav  Negative\n",
              "3    279.wav  Negative\n",
              "4    244.wav  Negative\n",
              "..       ...       ...\n",
              "245  204.wav   Neutral\n",
              "246   46.wav  Positive\n",
              "247  318.wav  Negative\n",
              "248   49.wav  Positive\n",
              "249  191.wav   Neutral\n",
              "\n",
              "[250 rows x 2 columns]"
            ],
            "text/html": [
              "\n",
              "  <div id=\"df-83f410f4-8e04-459d-b37e-0a7c71bc666c\" class=\"colab-df-container\">\n",
              "    <div>\n",
              "<style scoped>\n",
              "    .dataframe tbody tr th:only-of-type {\n",
              "        vertical-align: middle;\n",
              "    }\n",
              "\n",
              "    .dataframe tbody tr th {\n",
              "        vertical-align: top;\n",
              "    }\n",
              "\n",
              "    .dataframe thead th {\n",
              "        text-align: right;\n",
              "    }\n",
              "</style>\n",
              "<table border=\"1\" class=\"dataframe\">\n",
              "  <thead>\n",
              "    <tr style=\"text-align: right;\">\n",
              "      <th></th>\n",
              "      <th>Filename</th>\n",
              "      <th>Class</th>\n",
              "    </tr>\n",
              "  </thead>\n",
              "  <tbody>\n",
              "    <tr>\n",
              "      <th>0</th>\n",
              "      <td>346.wav</td>\n",
              "      <td>Negative</td>\n",
              "    </tr>\n",
              "    <tr>\n",
              "      <th>1</th>\n",
              "      <td>163.wav</td>\n",
              "      <td>Neutral</td>\n",
              "    </tr>\n",
              "    <tr>\n",
              "      <th>2</th>\n",
              "      <td>288.wav</td>\n",
              "      <td>Negative</td>\n",
              "    </tr>\n",
              "    <tr>\n",
              "      <th>3</th>\n",
              "      <td>279.wav</td>\n",
              "      <td>Negative</td>\n",
              "    </tr>\n",
              "    <tr>\n",
              "      <th>4</th>\n",
              "      <td>244.wav</td>\n",
              "      <td>Negative</td>\n",
              "    </tr>\n",
              "    <tr>\n",
              "      <th>...</th>\n",
              "      <td>...</td>\n",
              "      <td>...</td>\n",
              "    </tr>\n",
              "    <tr>\n",
              "      <th>245</th>\n",
              "      <td>204.wav</td>\n",
              "      <td>Neutral</td>\n",
              "    </tr>\n",
              "    <tr>\n",
              "      <th>246</th>\n",
              "      <td>46.wav</td>\n",
              "      <td>Positive</td>\n",
              "    </tr>\n",
              "    <tr>\n",
              "      <th>247</th>\n",
              "      <td>318.wav</td>\n",
              "      <td>Negative</td>\n",
              "    </tr>\n",
              "    <tr>\n",
              "      <th>248</th>\n",
              "      <td>49.wav</td>\n",
              "      <td>Positive</td>\n",
              "    </tr>\n",
              "    <tr>\n",
              "      <th>249</th>\n",
              "      <td>191.wav</td>\n",
              "      <td>Neutral</td>\n",
              "    </tr>\n",
              "  </tbody>\n",
              "</table>\n",
              "<p>250 rows × 2 columns</p>\n",
              "</div>\n",
              "    <div class=\"colab-df-buttons\">\n",
              "\n",
              "  <div class=\"colab-df-container\">\n",
              "    <button class=\"colab-df-convert\" onclick=\"convertToInteractive('df-83f410f4-8e04-459d-b37e-0a7c71bc666c')\"\n",
              "            title=\"Convert this dataframe to an interactive table.\"\n",
              "            style=\"display:none;\">\n",
              "\n",
              "  <svg xmlns=\"http://www.w3.org/2000/svg\" height=\"24px\" viewBox=\"0 -960 960 960\">\n",
              "    <path d=\"M120-120v-720h720v720H120Zm60-500h600v-160H180v160Zm220 220h160v-160H400v160Zm0 220h160v-160H400v160ZM180-400h160v-160H180v160Zm440 0h160v-160H620v160ZM180-180h160v-160H180v160Zm440 0h160v-160H620v160Z\"/>\n",
              "  </svg>\n",
              "    </button>\n",
              "\n",
              "  <style>\n",
              "    .colab-df-container {\n",
              "      display:flex;\n",
              "      gap: 12px;\n",
              "    }\n",
              "\n",
              "    .colab-df-convert {\n",
              "      background-color: #E8F0FE;\n",
              "      border: none;\n",
              "      border-radius: 50%;\n",
              "      cursor: pointer;\n",
              "      display: none;\n",
              "      fill: #1967D2;\n",
              "      height: 32px;\n",
              "      padding: 0 0 0 0;\n",
              "      width: 32px;\n",
              "    }\n",
              "\n",
              "    .colab-df-convert:hover {\n",
              "      background-color: #E2EBFA;\n",
              "      box-shadow: 0px 1px 2px rgba(60, 64, 67, 0.3), 0px 1px 3px 1px rgba(60, 64, 67, 0.15);\n",
              "      fill: #174EA6;\n",
              "    }\n",
              "\n",
              "    .colab-df-buttons div {\n",
              "      margin-bottom: 4px;\n",
              "    }\n",
              "\n",
              "    [theme=dark] .colab-df-convert {\n",
              "      background-color: #3B4455;\n",
              "      fill: #D2E3FC;\n",
              "    }\n",
              "\n",
              "    [theme=dark] .colab-df-convert:hover {\n",
              "      background-color: #434B5C;\n",
              "      box-shadow: 0px 1px 3px 1px rgba(0, 0, 0, 0.15);\n",
              "      filter: drop-shadow(0px 1px 2px rgba(0, 0, 0, 0.3));\n",
              "      fill: #FFFFFF;\n",
              "    }\n",
              "  </style>\n",
              "\n",
              "    <script>\n",
              "      const buttonEl =\n",
              "        document.querySelector('#df-83f410f4-8e04-459d-b37e-0a7c71bc666c button.colab-df-convert');\n",
              "      buttonEl.style.display =\n",
              "        google.colab.kernel.accessAllowed ? 'block' : 'none';\n",
              "\n",
              "      async function convertToInteractive(key) {\n",
              "        const element = document.querySelector('#df-83f410f4-8e04-459d-b37e-0a7c71bc666c');\n",
              "        const dataTable =\n",
              "          await google.colab.kernel.invokeFunction('convertToInteractive',\n",
              "                                                    [key], {});\n",
              "        if (!dataTable) return;\n",
              "\n",
              "        const docLinkHtml = 'Like what you see? Visit the ' +\n",
              "          '<a target=\"_blank\" href=https://colab.research.google.com/notebooks/data_table.ipynb>data table notebook</a>'\n",
              "          + ' to learn more about interactive tables.';\n",
              "        element.innerHTML = '';\n",
              "        dataTable['output_type'] = 'display_data';\n",
              "        await google.colab.output.renderOutput(dataTable, element);\n",
              "        const docLink = document.createElement('div');\n",
              "        docLink.innerHTML = docLinkHtml;\n",
              "        element.appendChild(docLink);\n",
              "      }\n",
              "    </script>\n",
              "  </div>\n",
              "\n",
              "\n",
              "<div id=\"df-89c30652-49d7-4a8e-881c-a15b85155a61\">\n",
              "  <button class=\"colab-df-quickchart\" onclick=\"quickchart('df-89c30652-49d7-4a8e-881c-a15b85155a61')\"\n",
              "            title=\"Suggest charts.\"\n",
              "            style=\"display:none;\">\n",
              "\n",
              "<svg xmlns=\"http://www.w3.org/2000/svg\" height=\"24px\"viewBox=\"0 0 24 24\"\n",
              "     width=\"24px\">\n",
              "    <g>\n",
              "        <path d=\"M19 3H5c-1.1 0-2 .9-2 2v14c0 1.1.9 2 2 2h14c1.1 0 2-.9 2-2V5c0-1.1-.9-2-2-2zM9 17H7v-7h2v7zm4 0h-2V7h2v10zm4 0h-2v-4h2v4z\"/>\n",
              "    </g>\n",
              "</svg>\n",
              "  </button>\n",
              "\n",
              "<style>\n",
              "  .colab-df-quickchart {\n",
              "      --bg-color: #E8F0FE;\n",
              "      --fill-color: #1967D2;\n",
              "      --hover-bg-color: #E2EBFA;\n",
              "      --hover-fill-color: #174EA6;\n",
              "      --disabled-fill-color: #AAA;\n",
              "      --disabled-bg-color: #DDD;\n",
              "  }\n",
              "\n",
              "  [theme=dark] .colab-df-quickchart {\n",
              "      --bg-color: #3B4455;\n",
              "      --fill-color: #D2E3FC;\n",
              "      --hover-bg-color: #434B5C;\n",
              "      --hover-fill-color: #FFFFFF;\n",
              "      --disabled-bg-color: #3B4455;\n",
              "      --disabled-fill-color: #666;\n",
              "  }\n",
              "\n",
              "  .colab-df-quickchart {\n",
              "    background-color: var(--bg-color);\n",
              "    border: none;\n",
              "    border-radius: 50%;\n",
              "    cursor: pointer;\n",
              "    display: none;\n",
              "    fill: var(--fill-color);\n",
              "    height: 32px;\n",
              "    padding: 0;\n",
              "    width: 32px;\n",
              "  }\n",
              "\n",
              "  .colab-df-quickchart:hover {\n",
              "    background-color: var(--hover-bg-color);\n",
              "    box-shadow: 0 1px 2px rgba(60, 64, 67, 0.3), 0 1px 3px 1px rgba(60, 64, 67, 0.15);\n",
              "    fill: var(--button-hover-fill-color);\n",
              "  }\n",
              "\n",
              "  .colab-df-quickchart-complete:disabled,\n",
              "  .colab-df-quickchart-complete:disabled:hover {\n",
              "    background-color: var(--disabled-bg-color);\n",
              "    fill: var(--disabled-fill-color);\n",
              "    box-shadow: none;\n",
              "  }\n",
              "\n",
              "  .colab-df-spinner {\n",
              "    border: 2px solid var(--fill-color);\n",
              "    border-color: transparent;\n",
              "    border-bottom-color: var(--fill-color);\n",
              "    animation:\n",
              "      spin 1s steps(1) infinite;\n",
              "  }\n",
              "\n",
              "  @keyframes spin {\n",
              "    0% {\n",
              "      border-color: transparent;\n",
              "      border-bottom-color: var(--fill-color);\n",
              "      border-left-color: var(--fill-color);\n",
              "    }\n",
              "    20% {\n",
              "      border-color: transparent;\n",
              "      border-left-color: var(--fill-color);\n",
              "      border-top-color: var(--fill-color);\n",
              "    }\n",
              "    30% {\n",
              "      border-color: transparent;\n",
              "      border-left-color: var(--fill-color);\n",
              "      border-top-color: var(--fill-color);\n",
              "      border-right-color: var(--fill-color);\n",
              "    }\n",
              "    40% {\n",
              "      border-color: transparent;\n",
              "      border-right-color: var(--fill-color);\n",
              "      border-top-color: var(--fill-color);\n",
              "    }\n",
              "    60% {\n",
              "      border-color: transparent;\n",
              "      border-right-color: var(--fill-color);\n",
              "    }\n",
              "    80% {\n",
              "      border-color: transparent;\n",
              "      border-right-color: var(--fill-color);\n",
              "      border-bottom-color: var(--fill-color);\n",
              "    }\n",
              "    90% {\n",
              "      border-color: transparent;\n",
              "      border-bottom-color: var(--fill-color);\n",
              "    }\n",
              "  }\n",
              "</style>\n",
              "\n",
              "  <script>\n",
              "    async function quickchart(key) {\n",
              "      const quickchartButtonEl =\n",
              "        document.querySelector('#' + key + ' button');\n",
              "      quickchartButtonEl.disabled = true;  // To prevent multiple clicks.\n",
              "      quickchartButtonEl.classList.add('colab-df-spinner');\n",
              "      try {\n",
              "        const charts = await google.colab.kernel.invokeFunction(\n",
              "            'suggestCharts', [key], {});\n",
              "      } catch (error) {\n",
              "        console.error('Error during call to suggestCharts:', error);\n",
              "      }\n",
              "      quickchartButtonEl.classList.remove('colab-df-spinner');\n",
              "      quickchartButtonEl.classList.add('colab-df-quickchart-complete');\n",
              "    }\n",
              "    (() => {\n",
              "      let quickchartButtonEl =\n",
              "        document.querySelector('#df-89c30652-49d7-4a8e-881c-a15b85155a61 button');\n",
              "      quickchartButtonEl.style.display =\n",
              "        google.colab.kernel.accessAllowed ? 'block' : 'none';\n",
              "    })();\n",
              "  </script>\n",
              "</div>\n",
              "    </div>\n",
              "  </div>\n"
            ]
          },
          "metadata": {},
          "execution_count": 5
        }
      ]
    },
    {
      "cell_type": "code",
      "source": [
        "#split df into train,test,validation\n",
        "from sklearn.model_selection import train_test_split\n",
        "train_df,temp=train_test_split(df,test_size=0.3,random_state=28)\n",
        "test_df,valid_df=train_test_split(temp,test_size=0.6,random_state=28)"
      ],
      "metadata": {
        "id": "QGghhUe-JTKB"
      },
      "execution_count": null,
      "outputs": []
    },
    {
      "cell_type": "code",
      "source": [
        "train_df.shape"
      ],
      "metadata": {
        "colab": {
          "base_uri": "https://localhost:8080/"
        },
        "id": "5dvUd18sJrZX",
        "outputId": "21551567-b870-4bef-eb40-96ad4ddd9cf8"
      },
      "execution_count": null,
      "outputs": [
        {
          "output_type": "execute_result",
          "data": {
            "text/plain": [
              "(175, 2)"
            ]
          },
          "metadata": {},
          "execution_count": 7
        }
      ]
    },
    {
      "cell_type": "code",
      "source": [
        "valid_df.shape"
      ],
      "metadata": {
        "colab": {
          "base_uri": "https://localhost:8080/"
        },
        "id": "gQJ9E5UyJvd5",
        "outputId": "5cdc6045-56f1-4eb4-9219-ba480c817e7b"
      },
      "execution_count": null,
      "outputs": [
        {
          "output_type": "execute_result",
          "data": {
            "text/plain": [
              "(45, 2)"
            ]
          },
          "metadata": {},
          "execution_count": 8
        }
      ]
    },
    {
      "cell_type": "code",
      "source": [
        "test_df.shape"
      ],
      "metadata": {
        "colab": {
          "base_uri": "https://localhost:8080/"
        },
        "id": "juqyrDw4Jtjr",
        "outputId": "7336e0d6-a3d7-4e4e-9ddf-6f2a67a06161"
      },
      "execution_count": null,
      "outputs": [
        {
          "output_type": "execute_result",
          "data": {
            "text/plain": [
              "(30, 2)"
            ]
          },
          "metadata": {},
          "execution_count": 9
        }
      ]
    },
    {
      "cell_type": "markdown",
      "source": [
        "Audio dataset class"
      ],
      "metadata": {
        "id": "yWYSaGVMTjvN"
      }
    },
    {
      "cell_type": "code",
      "source": [
        "class AudioDataset(torch.utils.data.Dataset):\n",
        "  def __init__(self, folder_path, target_sample_rate,csv_file, resize_dim=(15,800)):\n",
        "    self.csv_file = csv_file\n",
        "    self.folder_path = folder_path\n",
        "    self.sample_rate = target_sample_rate\n",
        "    self.resize_dim =  resize_dim\n",
        "    self.mapping = {\"Positive\": [1, 0, 0], \"Neutral\": [0, 1, 0], \"Negative\": [0, 0, 1]}\n",
        "\n",
        "  def __getitem__(self, idx):\n",
        "    filename = os.path.join(self.folder_path, self.csv_file.iloc[idx, 0])\n",
        "    audio_data, sr = librosa.load(filename, sr=self.sample_rate)\n",
        "    audio_data = librosa.feature.melspectrogram(y=audio_data,sr=target_sample_rate,n_fft=400,hop_length=160,n_mels=15)\n",
        "    audio_data = cv2.resize(audio_data, self.resize_dim)\n",
        "    audio_data=audio_data.reshape(1,800,15)\n",
        "    labels = self.csv_file.iloc[idx, 1]\n",
        "    labels = np.array(self.mapping[labels])\n",
        "\n",
        "    return audio_data,  labels\n",
        "\n",
        "  def __len__(self):\n",
        "    return len(self.csv_file)\n"
      ],
      "metadata": {
        "id": "sGb1dQ5yYztx"
      },
      "execution_count": null,
      "outputs": []
    },
    {
      "cell_type": "code",
      "source": [
        "#def collate_fn(batch):\n",
        " # audios = []\n",
        "  #labels = []\n",
        "  #for audio, label in batch:\n",
        "   #  audios.append(torch.tensor(audio)) ###\n",
        "    # labels.append(label)\n",
        "\n",
        "     #padding of audio list\n",
        "  #audios=pad_sequence(audios, batch_first=True)\n",
        "  #convert to tensor\n",
        "  #audios = np.array(audios)\n",
        "  #audios = torch.from_numpy(audios)\n",
        "  #labels=torch.tensor(labels, dtype=torch.float32)\n",
        "  # labels=labels.shape\n",
        "  # return them\n",
        "  #return audios,labels\n"
      ],
      "metadata": {
        "id": "8deKbR3cY1tB"
      },
      "execution_count": null,
      "outputs": []
    },
    {
      "cell_type": "code",
      "source": [
        "target_sample_rate=44100"
      ],
      "metadata": {
        "id": "LCwBlnuItk2S"
      },
      "execution_count": null,
      "outputs": []
    },
    {
      "cell_type": "code",
      "source": [
        "train_data=AudioDataset(folder_path_train,44100,train_df)\n",
        "valid_data=AudioDataset(folder_path_train,44100,valid_df)\n",
        "test_data=AudioDataset(folder_path_train,44100,test_df)"
      ],
      "metadata": {
        "id": "8RYj3lg3YeQf"
      },
      "execution_count": null,
      "outputs": []
    },
    {
      "cell_type": "code",
      "source": [
        "print(len(train_data))"
      ],
      "metadata": {
        "colab": {
          "base_uri": "https://localhost:8080/"
        },
        "id": "DlrfLyrrqeKA",
        "outputId": "0e82a3e2-9151-42db-d137-5507d9058e04"
      },
      "execution_count": null,
      "outputs": [
        {
          "output_type": "stream",
          "name": "stdout",
          "text": [
            "175\n"
          ]
        }
      ]
    },
    {
      "cell_type": "code",
      "source": [
        "print(len(test_data))"
      ],
      "metadata": {
        "colab": {
          "base_uri": "https://localhost:8080/"
        },
        "id": "usn2ZwCGqlXg",
        "outputId": "cc830452-02ad-49e1-aba5-b9191e265ce5"
      },
      "execution_count": null,
      "outputs": [
        {
          "output_type": "stream",
          "name": "stdout",
          "text": [
            "30\n"
          ]
        }
      ]
    },
    {
      "cell_type": "code",
      "source": [
        "train_data[65][0].shape"
      ],
      "metadata": {
        "colab": {
          "base_uri": "https://localhost:8080/"
        },
        "id": "U2bnQE8qDbHA",
        "outputId": "52b9084a-fb4f-4f13-b9eb-57c767ba2c9b"
      },
      "execution_count": null,
      "outputs": [
        {
          "output_type": "execute_result",
          "data": {
            "text/plain": [
              "(1, 800, 15)"
            ]
          },
          "metadata": {},
          "execution_count": 16
        }
      ]
    },
    {
      "cell_type": "markdown",
      "source": [
        "Using dataloader for creating batches"
      ],
      "metadata": {
        "id": "YDVfSEDbTqCW"
      }
    },
    {
      "cell_type": "code",
      "source": [
        "from torch.utils.data import  DataLoader\n",
        "train_dataloader = DataLoader(train_data, batch_size=8, shuffle=True, drop_last=True)\n",
        "test_dataloader = DataLoader(test_data, batch_size=8,shuffle=True, drop_last=True)\n",
        "valid_dataloader = DataLoader(valid_data, batch_size=8,shuffle=True, drop_last=True)"
      ],
      "metadata": {
        "id": "WJLbNpitcFoo"
      },
      "execution_count": null,
      "outputs": []
    },
    {
      "cell_type": "code",
      "source": [
        "len(train_dataloader)"
      ],
      "metadata": {
        "colab": {
          "base_uri": "https://localhost:8080/"
        },
        "id": "BOO4ZBoStDsa",
        "outputId": "bb26e152-08bf-4871-d911-677ca059e019"
      },
      "execution_count": null,
      "outputs": [
        {
          "output_type": "execute_result",
          "data": {
            "text/plain": [
              "21"
            ]
          },
          "metadata": {},
          "execution_count": 18
        }
      ]
    },
    {
      "cell_type": "code",
      "source": [
        "len(valid_dataloader)"
      ],
      "metadata": {
        "colab": {
          "base_uri": "https://localhost:8080/"
        },
        "id": "pPOg4q42tKIl",
        "outputId": "cb91e325-4b64-4ad5-80c1-f5da0bc6cd39"
      },
      "execution_count": null,
      "outputs": [
        {
          "output_type": "execute_result",
          "data": {
            "text/plain": [
              "5"
            ]
          },
          "metadata": {},
          "execution_count": 19
        }
      ]
    },
    {
      "cell_type": "code",
      "source": [
        "len(test_dataloader)"
      ],
      "metadata": {
        "colab": {
          "base_uri": "https://localhost:8080/"
        },
        "id": "434Lp6y3s_cH",
        "outputId": "9f3bf980-6e2c-4e21-e872-6e6eb47a5326"
      },
      "execution_count": null,
      "outputs": [
        {
          "output_type": "execute_result",
          "data": {
            "text/plain": [
              "3"
            ]
          },
          "metadata": {},
          "execution_count": 20
        }
      ]
    },
    {
      "cell_type": "code",
      "source": [
        "for audios,labels in train_dataloader:\n",
        "  print(audios.shape, labels.shape)\n",
        "  break"
      ],
      "metadata": {
        "colab": {
          "base_uri": "https://localhost:8080/"
        },
        "outputId": "4f9813b1-6677-4b93-c195-ad8128e3e76e",
        "id": "032snSQYcFoo"
      },
      "execution_count": null,
      "outputs": [
        {
          "output_type": "stream",
          "name": "stdout",
          "text": [
            "torch.Size([8, 1, 800, 15]) torch.Size([8, 3])\n"
          ]
        }
      ]
    },
    {
      "cell_type": "markdown",
      "source": [
        "CNN Model"
      ],
      "metadata": {
        "id": "ESvWOK8QT3vr"
      }
    },
    {
      "cell_type": "code",
      "source": [
        "class CNNNetwork(nn.Module):\n",
        "    def __init__(self):\n",
        "        super().__init__()\n",
        "        # 4 conv blocks / flatten / linear / softmax\n",
        "\n",
        "        self.conv1 = nn.Sequential(nn.Conv2d(in_channels=1, out_channels=16, kernel_size=3, stride=1, padding=2),\n",
        "                                   nn.ReLU(), nn.MaxPool2d(kernel_size=2))\n",
        "        self.conv2 = nn.Sequential(nn.Conv2d(in_channels=16, out_channels=32, kernel_size=3, stride=1, padding=2),\n",
        "                                   nn.ReLU(), nn.MaxPool2d(kernel_size=2))\n",
        "        self.conv3 = nn.Sequential(nn.Conv2d(in_channels=32, out_channels=64, kernel_size=3, stride=1, padding=2),\n",
        "                                   nn.ReLU(), nn.MaxPool2d(kernel_size=2))\n",
        "        self.conv4 = nn.Sequential(nn.Conv2d(in_channels=64, out_channels=128, kernel_size=3, stride=1, padding=2),\n",
        "                                   nn.ReLU(), nn.MaxPool2d(kernel_size=2))\n",
        "\n",
        "        self.flatten = nn.Flatten()\n",
        "        shape = self.calculate_shape()\n",
        "        self.linear = nn.Linear(shape, 3)\n",
        "        self.softmax = nn.Softmax(dim=1)\n",
        "\n",
        "    def calculate_shape(self):\n",
        "        dummy = torch.randn(8,1, 800,15)\n",
        "        x = self.conv1(dummy)\n",
        "        x = self.conv2(x)\n",
        "        x = self.conv3(x)\n",
        "        x = self.conv4(x)\n",
        "        #print(type(x))\n",
        "        x = self.flatten(x)\n",
        "        return x.shape[1]\n",
        "\n",
        "    def forward(self, input_data):\n",
        "        #print(input_data.shape)\n",
        "        x = self.conv1(input_data)\n",
        "        #print(\"Shape after conv1:\", x.shape)\n",
        "        x = self.conv2(x)\n",
        "        #print(\"Shape after conv2:\", x.shape)\n",
        "        x = self.conv3(x)\n",
        "        #print(\"Shape after conv3:\", x.shape)\n",
        "        x = self.conv4(x)\n",
        "        #print(\"Shape after conv4:\", x.shape)\n",
        "        x = self.flatten(x)\n",
        "        #print(\"Shape after flattening:\",x.shape)\n",
        "\n",
        "        logits = self.linear(x)\n",
        "        predictions = self.softmax(logits)\n",
        "        return predictions"
      ],
      "metadata": {
        "id": "YXN3whhFfWVg"
      },
      "execution_count": null,
      "outputs": []
    },
    {
      "cell_type": "markdown",
      "source": [
        "Initialising model"
      ],
      "metadata": {
        "id": "z_lXQL9jT_a3"
      }
    },
    {
      "cell_type": "code",
      "source": [
        "model=CNNNetwork()"
      ],
      "metadata": {
        "id": "ny5qmlqJdw6T"
      },
      "execution_count": null,
      "outputs": []
    },
    {
      "cell_type": "code",
      "source": [
        "model.to(device)# moving model to GPU"
      ],
      "metadata": {
        "colab": {
          "base_uri": "https://localhost:8080/"
        },
        "id": "8fKbBq2fxCbf",
        "outputId": "53f030cc-2f5a-415e-ef31-faf2da1bf155"
      },
      "execution_count": null,
      "outputs": [
        {
          "output_type": "execute_result",
          "data": {
            "text/plain": [
              "CNNNetwork(\n",
              "  (conv1): Sequential(\n",
              "    (0): Conv2d(1, 16, kernel_size=(3, 3), stride=(1, 1), padding=(2, 2))\n",
              "    (1): ReLU()\n",
              "    (2): MaxPool2d(kernel_size=2, stride=2, padding=0, dilation=1, ceil_mode=False)\n",
              "  )\n",
              "  (conv2): Sequential(\n",
              "    (0): Conv2d(16, 32, kernel_size=(3, 3), stride=(1, 1), padding=(2, 2))\n",
              "    (1): ReLU()\n",
              "    (2): MaxPool2d(kernel_size=2, stride=2, padding=0, dilation=1, ceil_mode=False)\n",
              "  )\n",
              "  (conv3): Sequential(\n",
              "    (0): Conv2d(32, 64, kernel_size=(3, 3), stride=(1, 1), padding=(2, 2))\n",
              "    (1): ReLU()\n",
              "    (2): MaxPool2d(kernel_size=2, stride=2, padding=0, dilation=1, ceil_mode=False)\n",
              "  )\n",
              "  (conv4): Sequential(\n",
              "    (0): Conv2d(64, 128, kernel_size=(3, 3), stride=(1, 1), padding=(2, 2))\n",
              "    (1): ReLU()\n",
              "    (2): MaxPool2d(kernel_size=2, stride=2, padding=0, dilation=1, ceil_mode=False)\n",
              "  )\n",
              "  (flatten): Flatten(start_dim=1, end_dim=-1)\n",
              "  (linear): Linear(in_features=13056, out_features=3, bias=True)\n",
              "  (softmax): Softmax(dim=1)\n",
              ")"
            ]
          },
          "metadata": {},
          "execution_count": 24
        }
      ]
    },
    {
      "cell_type": "code",
      "source": [
        "import torch.optim as optim"
      ],
      "metadata": {
        "id": "i69Mu3XZakDZ"
      },
      "execution_count": null,
      "outputs": []
    },
    {
      "cell_type": "code",
      "source": [
        "#defining Loss and optimizer\n",
        "criterion = nn.CrossEntropyLoss()\n",
        "optimizer = optim.SGD(model.parameters(), lr=0.01)"
      ],
      "metadata": {
        "id": "LU0oJjmNYBzb"
      },
      "execution_count": null,
      "outputs": []
    },
    {
      "cell_type": "markdown",
      "source": [
        "#Training and Validation"
      ],
      "metadata": {
        "id": "CkKqVFa6UPuq"
      }
    },
    {
      "cell_type": "code",
      "source": [
        "num_epochs = 50\n",
        "patience = 5  # Number of epochs with no improvement after which training will stop\n",
        "best_valid_loss = float('inf')\n",
        "best_model_state = None\n",
        "\n",
        "train_losses = []  # To store training losses for each epoch\n",
        "valid_losses = []  # To store validation losses for each epoch\n",
        "\n",
        "for epoch in range(num_epochs):\n",
        "    model.train()\n",
        "    total_train_loss = 0.0\n",
        "\n",
        "    for audios, labels in train_dataloader:\n",
        "        audios = audios.to(device)\n",
        "        labels = labels.to(device)\n",
        "        #audios = audios.reshape(8, 1, 224, 224)\n",
        "        outputs = model(audios)\n",
        "        labels = labels.float()\n",
        "        loss = criterion(outputs, labels)\n",
        "        optimizer.zero_grad()\n",
        "        loss.backward()\n",
        "        optimizer.step()\n",
        "        total_train_loss += loss.item()\n",
        "\n",
        "    average_train_loss = total_train_loss / len(train_dataloader)\n",
        "    train_losses.append(average_train_loss)\n",
        "\n",
        "    model.eval()\n",
        "    total_valid_loss = 0.0\n",
        "\n",
        "    with torch.no_grad():\n",
        "        for audios, labels in valid_dataloader:\n",
        "            audios = audios.to(device)\n",
        "            labels = labels.to(device)\n",
        "            #audios = audios.reshape(8, 1, 224, 224)\n",
        "            outputs = model(audios)\n",
        "            labels = labels.float()\n",
        "            loss = criterion(outputs, labels)\n",
        "            total_valid_loss += loss.item()\n",
        "\n",
        "    average_valid_loss = total_valid_loss / len(valid_dataloader)\n",
        "    valid_losses.append(average_valid_loss)\n",
        "\n",
        "    print(f'Epoch [{epoch + 1}/{num_epochs}], Train Loss: {average_train_loss:.4f}, Valid Loss: {average_valid_loss:.4f}')\n",
        "\n",
        "    # Check for early stopping\n",
        "    if average_valid_loss < best_valid_loss:\n",
        "        best_valid_loss = average_valid_loss\n",
        "        best_model_state = model.state_dict()  # Save the best model state\n",
        "\n",
        "    # If there is no improvement for 'patience' epochs, stop training\n",
        "    if epoch - np.argmin(valid_losses) >= patience:\n",
        "        print(f'Early stopping after {patience} epochs of no improvement.')\n",
        "        break\n",
        "\n",
        "# Load the best model state for testing\n",
        "if best_model_state is not None:\n",
        "    model.load_state_dict(best_model_state)"
      ],
      "metadata": {
        "colab": {
          "base_uri": "https://localhost:8080/"
        },
        "id": "y8I03jQYkSI0",
        "outputId": "99a80daf-53f4-4965-8138-dac861d02c88"
      },
      "execution_count": null,
      "outputs": [
        {
          "output_type": "stream",
          "name": "stdout",
          "text": [
            "Epoch [1/50], Train Loss: 0.9978, Valid Loss: 1.0328\n",
            "Epoch [2/50], Train Loss: 0.9867, Valid Loss: 1.0732\n",
            "Epoch [3/50], Train Loss: 0.9790, Valid Loss: 1.0562\n",
            "Epoch [4/50], Train Loss: 0.9839, Valid Loss: 1.0009\n",
            "Epoch [5/50], Train Loss: 0.9702, Valid Loss: 1.0306\n",
            "Epoch [6/50], Train Loss: 0.9695, Valid Loss: 1.1019\n",
            "Epoch [7/50], Train Loss: 0.9758, Valid Loss: 1.0195\n",
            "Epoch [8/50], Train Loss: 0.9687, Valid Loss: 1.0358\n",
            "Epoch [9/50], Train Loss: 0.9726, Valid Loss: 1.0756\n",
            "Early stopping after 5 epochs of no improvement.\n"
          ]
        }
      ]
    },
    {
      "cell_type": "markdown",
      "source": [
        "Visualizing the results"
      ],
      "metadata": {
        "id": "U954u_ZaUXOY"
      }
    },
    {
      "cell_type": "code",
      "source": [
        "import matplotlib.pyplot as plt\n",
        "plt.figure(figsize=(10, 6))\n",
        "plt.plot(range(1, len(train_losses) + 1), train_losses, label='Train Loss')\n",
        "plt.plot(range(1, len(valid_losses) + 1), valid_losses, label='Valid Loss')\n",
        "plt.xlabel('Epoch')\n",
        "plt.ylabel('Loss')\n",
        "plt.legend()\n",
        "plt.title('Training and Validation Loss')\n",
        "plt.show()"
      ],
      "metadata": {
        "colab": {
          "base_uri": "https://localhost:8080/",
          "height": 564
        },
        "id": "fz_ASjJl0k5W",
        "outputId": "4187aa39-be43-4382-c2d0-237259ffb198"
      },
      "execution_count": null,
      "outputs": [
        {
          "output_type": "display_data",
          "data": {
            "text/plain": [
              "<Figure size 1000x600 with 1 Axes>"
            ],
            "image/png": "[encoded data removed]"
          },
          "metadata": {}
        }
      ]
    },
    {
      "cell_type": "markdown",
      "source": [
        "#Testing"
      ],
      "metadata": {
        "id": "IvFHtmC8UdWM"
      }
    },
    {
      "cell_type": "code",
      "source": [
        "total_correct = 0\n",
        "correct=0\n",
        "total_samples = 0\n",
        "sample=0\n",
        "\n",
        "with torch.no_grad():\n",
        "     for audios, labels in test_dataloader:\n",
        "\n",
        "        audios = audios.to(device)\n",
        "        labels = labels.to(device)\n",
        "\n",
        "        outputs = model(audios)\n",
        "        threshold = 0.2\n",
        "        preds = (outputs > threshold).float()\n",
        "        preds=preds.cpu()\n",
        "\n",
        "        for i in range(len(labels)):\n",
        "          labels=labels.cpu()\n",
        "          if np.argmax(preds[i] == np.argmax(labels[i])):\n",
        "             correct = correct + 1\n",
        "          sample=sample+1\n",
        "\n",
        "          total_samples=sample\n",
        "\n",
        "# Calculate test accuracy\n",
        "test_accuracy = correct / sample\n",
        "\n",
        "print(f'Total Correct Predictions: {correct}')\n",
        "print(f'Total Samples: {total_samples}')\n",
        "print(f'Test Accuracy: {test_accuracy*100:.2f}%')"
      ],
      "metadata": {
        "id": "O1efyefAlxsO",
        "outputId": "b449e941-5377-42e4-f1cb-985fd10099ec",
        "colab": {
          "base_uri": "https://localhost:8080/"
        }
      },
      "execution_count": null,
      "outputs": [
        {
          "output_type": "stream",
          "name": "stdout",
          "text": [
            "Total Correct Predictions: 15\n",
            "Total Samples: 24\n",
            "Test Accuracy: 62.50%\n"
          ]
        }
      ]
    }
  ]
}