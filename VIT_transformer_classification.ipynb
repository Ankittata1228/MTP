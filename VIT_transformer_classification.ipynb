{
  "cells": [
    {
      "cell_type": "markdown",
      "source": [
        "mounting drive"
      ],
      "metadata": {
        "id": "aOojrOWy99GT"
      }
    },
    {
      "cell_type": "code",
      "source": [
        "from google.colab import drive\n",
        "drive.mount('/content/drive')"
      ],
      "metadata": {
        "colab": {
          "base_uri": "https://localhost:8080/"
        },
        "id": "j6GACnzbnn8H",
        "outputId": "3d8ad7cd-63af-4dfe-89c0-f1300a0f71ae"
      },
      "execution_count": null,
      "outputs": [
        {
          "output_type": "stream",
          "name": "stdout",
          "text": [
            "Mounted at /content/drive\n"
          ]
        }
      ]
    },
    {
      "cell_type": "markdown",
      "source": [
        "importing libraries"
      ],
      "metadata": {
        "id": "5yDozN6y9_7n"
      }
    },
    {
      "cell_type": "code",
      "execution_count": null,
      "metadata": {
        "id": "ZEGi6_Qmq2t5"
      },
      "outputs": [],
      "source": [
        "import librosa\n",
        "import os\n",
        "import pandas as pd\n",
        "import numpy as np\n",
        "import torch\n",
        "from torch.nn.utils.rnn import pad_sequence\n",
        "import torch.nn as nn\n",
        "import torch.optim as optim\n",
        "import cv2"
      ]
    },
    {
      "cell_type": "markdown",
      "source": [
        "Accesing GPU"
      ],
      "metadata": {
        "id": "b4KZbaJh-CkJ"
      }
    },
    {
      "cell_type": "code",
      "execution_count": null,
      "metadata": {
        "id": "AYUzo2GUsMQ_"
      },
      "outputs": [],
      "source": [
        "if torch.cuda.is_available():\n",
        "    device = torch.device(\"cuda\")\n",
        "else:\n",
        "    device = torch.device(\"cpu\")"
      ]
    },
    {
      "cell_type": "code",
      "execution_count": null,
      "metadata": {
        "colab": {
          "base_uri": "https://localhost:8080/"
        },
        "id": "NZGB2kXZsO_e",
        "outputId": "da513194-5986-4d83-aff6-4af7e8faa6b3"
      },
      "outputs": [
        {
          "output_type": "execute_result",
          "data": {
            "text/plain": [
              "device(type='cuda')"
            ]
          },
          "metadata": {},
          "execution_count": 4
        }
      ],
      "source": [
        "device"
      ]
    },
    {
      "cell_type": "markdown",
      "source": [
        "Loading Dataset"
      ],
      "metadata": {
        "id": "XIGe3LOS-FO-"
      }
    },
    {
      "cell_type": "code",
      "execution_count": null,
      "metadata": {
        "id": "itw3N3UCY6fR"
      },
      "outputs": [],
      "source": [
        "csv_file_path='/content/drive/MyDrive/archive (24)/TRAIN.csv'\n",
        "folder_path_train='/content/drive/MyDrive/archive (24)/TRAIN'\n"
      ]
    },
    {
      "cell_type": "code",
      "execution_count": null,
      "metadata": {
        "id": "82wijGw7ITd2"
      },
      "outputs": [],
      "source": [
        "df=pd.read_csv('/content/drive/MyDrive/archive (24)/TRAIN.csv')"
      ]
    },
    {
      "cell_type": "code",
      "execution_count": null,
      "metadata": {
        "colab": {
          "base_uri": "https://localhost:8080/",
          "height": 423
        },
        "id": "OgisS_sEJQit",
        "outputId": "1dc1ce2d-dd10-43c4-ff16-6e5e001129fc"
      },
      "outputs": [
        {
          "output_type": "execute_result",
          "data": {
            "text/plain": [
              "    Filename     Class\n",
              "0    346.wav  Negative\n",
              "1    163.wav   Neutral\n",
              "2    288.wav  Negative\n",
              "3    279.wav  Negative\n",
              "4    244.wav  Negative\n",
              "..       ...       ...\n",
              "245  204.wav   Neutral\n",
              "246   46.wav  Positive\n",
              "247  318.wav  Negative\n",
              "248   49.wav  Positive\n",
              "249  191.wav   Neutral\n",
              "\n",
              "[250 rows x 2 columns]"
            ],
            "text/html": [
              "\n",
              "  <div id=\"df-0c42f01c-b621-4e89-b98f-b69a007d254d\" class=\"colab-df-container\">\n",
              "    <div>\n",
              "<style scoped>\n",
              "    .dataframe tbody tr th:only-of-type {\n",
              "        vertical-align: middle;\n",
              "    }\n",
              "\n",
              "    .dataframe tbody tr th {\n",
              "        vertical-align: top;\n",
              "    }\n",
              "\n",
              "    .dataframe thead th {\n",
              "        text-align: right;\n",
              "    }\n",
              "</style>\n",
              "<table border=\"1\" class=\"dataframe\">\n",
              "  <thead>\n",
              "    <tr style=\"text-align: right;\">\n",
              "      <th></th>\n",
              "      <th>Filename</th>\n",
              "      <th>Class</th>\n",
              "    </tr>\n",
              "  </thead>\n",
              "  <tbody>\n",
              "    <tr>\n",
              "      <th>0</th>\n",
              "      <td>346.wav</td>\n",
              "      <td>Negative</td>\n",
              "    </tr>\n",
              "    <tr>\n",
              "      <th>1</th>\n",
              "      <td>163.wav</td>\n",
              "      <td>Neutral</td>\n",
              "    </tr>\n",
              "    <tr>\n",
              "      <th>2</th>\n",
              "      <td>288.wav</td>\n",
              "      <td>Negative</td>\n",
              "    </tr>\n",
              "    <tr>\n",
              "      <th>3</th>\n",
              "      <td>279.wav</td>\n",
              "      <td>Negative</td>\n",
              "    </tr>\n",
              "    <tr>\n",
              "      <th>4</th>\n",
              "      <td>244.wav</td>\n",
              "      <td>Negative</td>\n",
              "    </tr>\n",
              "    <tr>\n",
              "      <th>...</th>\n",
              "      <td>...</td>\n",
              "      <td>...</td>\n",
              "    </tr>\n",
              "    <tr>\n",
              "      <th>245</th>\n",
              "      <td>204.wav</td>\n",
              "      <td>Neutral</td>\n",
              "    </tr>\n",
              "    <tr>\n",
              "      <th>246</th>\n",
              "      <td>46.wav</td>\n",
              "      <td>Positive</td>\n",
              "    </tr>\n",
              "    <tr>\n",
              "      <th>247</th>\n",
              "      <td>318.wav</td>\n",
              "      <td>Negative</td>\n",
              "    </tr>\n",
              "    <tr>\n",
              "      <th>248</th>\n",
              "      <td>49.wav</td>\n",
              "      <td>Positive</td>\n",
              "    </tr>\n",
              "    <tr>\n",
              "      <th>249</th>\n",
              "      <td>191.wav</td>\n",
              "      <td>Neutral</td>\n",
              "    </tr>\n",
              "  </tbody>\n",
              "</table>\n",
              "<p>250 rows × 2 columns</p>\n",
              "</div>\n",
              "    <div class=\"colab-df-buttons\">\n",
              "\n",
              "  <div class=\"colab-df-container\">\n",
              "    <button class=\"colab-df-convert\" onclick=\"convertToInteractive('df-0c42f01c-b621-4e89-b98f-b69a007d254d')\"\n",
              "            title=\"Convert this dataframe to an interactive table.\"\n",
              "            style=\"display:none;\">\n",
              "\n",
              "  <svg xmlns=\"http://www.w3.org/2000/svg\" height=\"24px\" viewBox=\"0 -960 960 960\">\n",
              "    <path d=\"M120-120v-720h720v720H120Zm60-500h600v-160H180v160Zm220 220h160v-160H400v160Zm0 220h160v-160H400v160ZM180-400h160v-160H180v160Zm440 0h160v-160H620v160ZM180-180h160v-160H180v160Zm440 0h160v-160H620v160Z\"/>\n",
              "  </svg>\n",
              "    </button>\n",
              "\n",
              "  <style>\n",
              "    .colab-df-container {\n",
              "      display:flex;\n",
              "      gap: 12px;\n",
              "    }\n",
              "\n",
              "    .colab-df-convert {\n",
              "      background-color: #E8F0FE;\n",
              "      border: none;\n",
              "      border-radius: 50%;\n",
              "      cursor: pointer;\n",
              "      display: none;\n",
              "      fill: #1967D2;\n",
              "      height: 32px;\n",
              "      padding: 0 0 0 0;\n",
              "      width: 32px;\n",
              "    }\n",
              "\n",
              "    .colab-df-convert:hover {\n",
              "      background-color: #E2EBFA;\n",
              "      box-shadow: 0px 1px 2px rgba(60, 64, 67, 0.3), 0px 1px 3px 1px rgba(60, 64, 67, 0.15);\n",
              "      fill: #174EA6;\n",
              "    }\n",
              "\n",
              "    .colab-df-buttons div {\n",
              "      margin-bottom: 4px;\n",
              "    }\n",
              "\n",
              "    [theme=dark] .colab-df-convert {\n",
              "      background-color: #3B4455;\n",
              "      fill: #D2E3FC;\n",
              "    }\n",
              "\n",
              "    [theme=dark] .colab-df-convert:hover {\n",
              "      background-color: #434B5C;\n",
              "      box-shadow: 0px 1px 3px 1px rgba(0, 0, 0, 0.15);\n",
              "      filter: drop-shadow(0px 1px 2px rgba(0, 0, 0, 0.3));\n",
              "      fill: #FFFFFF;\n",
              "    }\n",
              "  </style>\n",
              "\n",
              "    <script>\n",
              "      const buttonEl =\n",
              "        document.querySelector('#df-0c42f01c-b621-4e89-b98f-b69a007d254d button.colab-df-convert');\n",
              "      buttonEl.style.display =\n",
              "        google.colab.kernel.accessAllowed ? 'block' : 'none';\n",
              "\n",
              "      async function convertToInteractive(key) {\n",
              "        const element = document.querySelector('#df-0c42f01c-b621-4e89-b98f-b69a007d254d');\n",
              "        const dataTable =\n",
              "          await google.colab.kernel.invokeFunction('convertToInteractive',\n",
              "                                                    [key], {});\n",
              "        if (!dataTable) return;\n",
              "\n",
              "        const docLinkHtml = 'Like what you see? Visit the ' +\n",
              "          '<a target=\"_blank\" href=https://colab.research.google.com/notebooks/data_table.ipynb>data table notebook</a>'\n",
              "          + ' to learn more about interactive tables.';\n",
              "        element.innerHTML = '';\n",
              "        dataTable['output_type'] = 'display_data';\n",
              "        await google.colab.output.renderOutput(dataTable, element);\n",
              "        const docLink = document.createElement('div');\n",
              "        docLink.innerHTML = docLinkHtml;\n",
              "        element.appendChild(docLink);\n",
              "      }\n",
              "    </script>\n",
              "  </div>\n",
              "\n",
              "\n",
              "<div id=\"df-83bd405d-7491-4b11-ac3f-3a3d78c99be6\">\n",
              "  <button class=\"colab-df-quickchart\" onclick=\"quickchart('df-83bd405d-7491-4b11-ac3f-3a3d78c99be6')\"\n",
              "            title=\"Suggest charts.\"\n",
              "            style=\"display:none;\">\n",
              "\n",
              "<svg xmlns=\"http://www.w3.org/2000/svg\" height=\"24px\"viewBox=\"0 0 24 24\"\n",
              "     width=\"24px\">\n",
              "    <g>\n",
              "        <path d=\"M19 3H5c-1.1 0-2 .9-2 2v14c0 1.1.9 2 2 2h14c1.1 0 2-.9 2-2V5c0-1.1-.9-2-2-2zM9 17H7v-7h2v7zm4 0h-2V7h2v10zm4 0h-2v-4h2v4z\"/>\n",
              "    </g>\n",
              "</svg>\n",
              "  </button>\n",
              "\n",
              "<style>\n",
              "  .colab-df-quickchart {\n",
              "      --bg-color: #E8F0FE;\n",
              "      --fill-color: #1967D2;\n",
              "      --hover-bg-color: #E2EBFA;\n",
              "      --hover-fill-color: #174EA6;\n",
              "      --disabled-fill-color: #AAA;\n",
              "      --disabled-bg-color: #DDD;\n",
              "  }\n",
              "\n",
              "  [theme=dark] .colab-df-quickchart {\n",
              "      --bg-color: #3B4455;\n",
              "      --fill-color: #D2E3FC;\n",
              "      --hover-bg-color: #434B5C;\n",
              "      --hover-fill-color: #FFFFFF;\n",
              "      --disabled-bg-color: #3B4455;\n",
              "      --disabled-fill-color: #666;\n",
              "  }\n",
              "\n",
              "  .colab-df-quickchart {\n",
              "    background-color: var(--bg-color);\n",
              "    border: none;\n",
              "    border-radius: 50%;\n",
              "    cursor: pointer;\n",
              "    display: none;\n",
              "    fill: var(--fill-color);\n",
              "    height: 32px;\n",
              "    padding: 0;\n",
              "    width: 32px;\n",
              "  }\n",
              "\n",
              "  .colab-df-quickchart:hover {\n",
              "    background-color: var(--hover-bg-color);\n",
              "    box-shadow: 0 1px 2px rgba(60, 64, 67, 0.3), 0 1px 3px 1px rgba(60, 64, 67, 0.15);\n",
              "    fill: var(--button-hover-fill-color);\n",
              "  }\n",
              "\n",
              "  .colab-df-quickchart-complete:disabled,\n",
              "  .colab-df-quickchart-complete:disabled:hover {\n",
              "    background-color: var(--disabled-bg-color);\n",
              "    fill: var(--disabled-fill-color);\n",
              "    box-shadow: none;\n",
              "  }\n",
              "\n",
              "  .colab-df-spinner {\n",
              "    border: 2px solid var(--fill-color);\n",
              "    border-color: transparent;\n",
              "    border-bottom-color: var(--fill-color);\n",
              "    animation:\n",
              "      spin 1s steps(1) infinite;\n",
              "  }\n",
              "\n",
              "  @keyframes spin {\n",
              "    0% {\n",
              "      border-color: transparent;\n",
              "      border-bottom-color: var(--fill-color);\n",
              "      border-left-color: var(--fill-color);\n",
              "    }\n",
              "    20% {\n",
              "      border-color: transparent;\n",
              "      border-left-color: var(--fill-color);\n",
              "      border-top-color: var(--fill-color);\n",
              "    }\n",
              "    30% {\n",
              "      border-color: transparent;\n",
              "      border-left-color: var(--fill-color);\n",
              "      border-top-color: var(--fill-color);\n",
              "      border-right-color: var(--fill-color);\n",
              "    }\n",
              "    40% {\n",
              "      border-color: transparent;\n",
              "      border-right-color: var(--fill-color);\n",
              "      border-top-color: var(--fill-color);\n",
              "    }\n",
              "    60% {\n",
              "      border-color: transparent;\n",
              "      border-right-color: var(--fill-color);\n",
              "    }\n",
              "    80% {\n",
              "      border-color: transparent;\n",
              "      border-right-color: var(--fill-color);\n",
              "      border-bottom-color: var(--fill-color);\n",
              "    }\n",
              "    90% {\n",
              "      border-color: transparent;\n",
              "      border-bottom-color: var(--fill-color);\n",
              "    }\n",
              "  }\n",
              "</style>\n",
              "\n",
              "  <script>\n",
              "    async function quickchart(key) {\n",
              "      const quickchartButtonEl =\n",
              "        document.querySelector('#' + key + ' button');\n",
              "      quickchartButtonEl.disabled = true;  // To prevent multiple clicks.\n",
              "      quickchartButtonEl.classList.add('colab-df-spinner');\n",
              "      try {\n",
              "        const charts = await google.colab.kernel.invokeFunction(\n",
              "            'suggestCharts', [key], {});\n",
              "      } catch (error) {\n",
              "        console.error('Error during call to suggestCharts:', error);\n",
              "      }\n",
              "      quickchartButtonEl.classList.remove('colab-df-spinner');\n",
              "      quickchartButtonEl.classList.add('colab-df-quickchart-complete');\n",
              "    }\n",
              "    (() => {\n",
              "      let quickchartButtonEl =\n",
              "        document.querySelector('#df-83bd405d-7491-4b11-ac3f-3a3d78c99be6 button');\n",
              "      quickchartButtonEl.style.display =\n",
              "        google.colab.kernel.accessAllowed ? 'block' : 'none';\n",
              "    })();\n",
              "  </script>\n",
              "</div>\n",
              "    </div>\n",
              "  </div>\n"
            ]
          },
          "metadata": {},
          "execution_count": 7
        }
      ],
      "source": [
        "df"
      ]
    },
    {
      "cell_type": "code",
      "execution_count": null,
      "metadata": {
        "id": "QGghhUe-JTKB"
      },
      "outputs": [],
      "source": [
        "#split df into train,test,validation\n",
        "from sklearn.model_selection import train_test_split\n",
        "train_df,temp=train_test_split(df,test_size=0.3,random_state=28)\n",
        "test_df,valid_df=train_test_split(temp,test_size=0.6,random_state=28)"
      ]
    },
    {
      "cell_type": "code",
      "execution_count": null,
      "metadata": {
        "colab": {
          "base_uri": "https://localhost:8080/"
        },
        "id": "5dvUd18sJrZX",
        "outputId": "78bf1b34-d62b-4143-eb87-1be790c4c4f7"
      },
      "outputs": [
        {
          "output_type": "execute_result",
          "data": {
            "text/plain": [
              "(175, 2)"
            ]
          },
          "metadata": {},
          "execution_count": 9
        }
      ],
      "source": [
        "train_df.shape"
      ]
    },
    {
      "cell_type": "code",
      "execution_count": null,
      "metadata": {
        "colab": {
          "base_uri": "https://localhost:8080/"
        },
        "id": "gQJ9E5UyJvd5",
        "outputId": "db82994f-1879-496f-be87-566bfd54bb20"
      },
      "outputs": [
        {
          "output_type": "execute_result",
          "data": {
            "text/plain": [
              "(45, 2)"
            ]
          },
          "metadata": {},
          "execution_count": 10
        }
      ],
      "source": [
        "valid_df.shape"
      ]
    },
    {
      "cell_type": "code",
      "execution_count": null,
      "metadata": {
        "colab": {
          "base_uri": "https://localhost:8080/"
        },
        "id": "juqyrDw4Jtjr",
        "outputId": "48ed92d9-da87-4590-8d5f-82a5a101ec60"
      },
      "outputs": [
        {
          "output_type": "execute_result",
          "data": {
            "text/plain": [
              "(30, 2)"
            ]
          },
          "metadata": {},
          "execution_count": 11
        }
      ],
      "source": [
        "test_df.shape"
      ]
    },
    {
      "cell_type": "markdown",
      "source": [
        "Class for loading audio files"
      ],
      "metadata": {
        "id": "wUupXWPC-JL3"
      }
    },
    {
      "cell_type": "code",
      "execution_count": null,
      "metadata": {
        "id": "sGb1dQ5yYztx"
      },
      "outputs": [],
      "source": [
        "class AudioDataset(torch.utils.data.Dataset):\n",
        "  def __init__(self, folder_path, target_sample_rate,csv_file, resize_dim=(224,224)):\n",
        "    self.csv_file = csv_file\n",
        "    self.folder_path = folder_path\n",
        "    self.sample_rate = target_sample_rate\n",
        "    self.resize_dim =  resize_dim\n",
        "    self.mapping = {\"Positive\": [1, 0, 0], \"Neutral\": [0, 1, 0], \"Negative\": [0, 0, 1]}\n",
        "\n",
        "  def __getitem__(self, idx):\n",
        "    filename = os.path.join(self.folder_path, self.csv_file.iloc[idx, 0])\n",
        "    audio_data, sr = librosa.load(filename, sr=self.sample_rate)\n",
        "    audio_data = librosa.feature.melspectrogram(y=audio_data,sr=target_sample_rate,n_fft=400,hop_length=160,n_mels=15)\n",
        "    audio_data = cv2.resize(audio_data, self.resize_dim)\n",
        "\n",
        "    labels = self.csv_file.iloc[idx, 1]\n",
        "    labels = np.array(self.mapping[labels])\n",
        "\n",
        "    return audio_data,  labels\n",
        "\n",
        "  def __len__(self):\n",
        "    return len(self.csv_file)\n"
      ]
    },
    {
      "cell_type": "code",
      "execution_count": null,
      "metadata": {
        "id": "8deKbR3cY1tB"
      },
      "outputs": [],
      "source": [
        "def collate_fn(batch):\n",
        "  audios = []\n",
        "  labels = []\n",
        "  for audio, label in batch:\n",
        "     audios.append(torch.tensor(audio)) ###\n",
        "     labels.append(label)\n",
        "\n",
        "     #padding of audio list\n",
        "  #audios=pad_sequence(audios, batch_first=True)\n",
        "  #convert to tensor\n",
        "  #audios = np.array(audios)\n",
        "  #audios = torch.from_numpy(audios)\n",
        "  labels=torch.tensor(labels, dtype=torch.float32)\n",
        "  # labels=labels.shape\n",
        "  # return them\n",
        "  return audios,labels\n"
      ]
    },
    {
      "cell_type": "code",
      "execution_count": null,
      "metadata": {
        "id": "LCwBlnuItk2S"
      },
      "outputs": [],
      "source": [
        "target_sample_rate=44100"
      ]
    },
    {
      "cell_type": "code",
      "execution_count": null,
      "metadata": {
        "id": "8RYj3lg3YeQf"
      },
      "outputs": [],
      "source": [
        "train_data=AudioDataset(folder_path_train,44100,train_df)\n",
        "valid_data=AudioDataset(folder_path_train,44100,valid_df)\n",
        "test_data=AudioDataset(folder_path_train,44100,test_df)"
      ]
    },
    {
      "cell_type": "code",
      "execution_count": null,
      "metadata": {
        "colab": {
          "base_uri": "https://localhost:8080/"
        },
        "id": "Ghxz3SPZG7cv",
        "outputId": "f8e01ccb-6606-45f8-e915-c76258f9318c"
      },
      "outputs": [
        {
          "output_type": "execute_result",
          "data": {
            "text/plain": [
              "(array([[7.2331902e-10, 6.6340320e-13, 0.0000000e+00, ..., 3.0137498e-06,\n",
              "         2.5644881e-06, 2.4296419e-06],\n",
              "        [7.2331902e-10, 6.6340320e-13, 0.0000000e+00, ..., 3.0137498e-06,\n",
              "         2.5644881e-06, 2.4296419e-06],\n",
              "        [7.2331902e-10, 6.6340320e-13, 0.0000000e+00, ..., 3.0137498e-06,\n",
              "         2.5644881e-06, 2.4296419e-06],\n",
              "        ...,\n",
              "        [5.3897242e-10, 2.6064875e-12, 0.0000000e+00, ..., 4.0491579e-09,\n",
              "         8.4014804e-09, 2.6487688e-09],\n",
              "        [5.3897242e-10, 2.6064875e-12, 0.0000000e+00, ..., 4.0491579e-09,\n",
              "         8.4014804e-09, 2.6487688e-09],\n",
              "        [5.3897242e-10, 2.6064875e-12, 0.0000000e+00, ..., 4.0491579e-09,\n",
              "         8.4014804e-09, 2.6487688e-09]], dtype=float32),\n",
              " array([0, 0, 1]))"
            ]
          },
          "metadata": {},
          "execution_count": 16
        }
      ],
      "source": [
        "train_data[65]"
      ]
    },
    {
      "cell_type": "code",
      "execution_count": null,
      "metadata": {
        "colab": {
          "base_uri": "https://localhost:8080/"
        },
        "id": "U2bnQE8qDbHA",
        "outputId": "fb077a20-d855-4888-e209-b7444d89127b"
      },
      "outputs": [
        {
          "output_type": "execute_result",
          "data": {
            "text/plain": [
              "(224, 224)"
            ]
          },
          "metadata": {},
          "execution_count": 17
        }
      ],
      "source": [
        "train_data[65][0].shape"
      ]
    },
    {
      "cell_type": "code",
      "execution_count": null,
      "metadata": {
        "colab": {
          "base_uri": "https://localhost:8080/"
        },
        "id": "HbSbFLOI3Z97",
        "outputId": "7d9bb773-12c6-4d10-f8c7-1f590dae7721"
      },
      "outputs": [
        {
          "output_type": "stream",
          "name": "stdout",
          "text": [
            "175\n"
          ]
        }
      ],
      "source": [
        "print(len(train_data))"
      ]
    },
    {
      "cell_type": "code",
      "execution_count": null,
      "metadata": {
        "colab": {
          "base_uri": "https://localhost:8080/"
        },
        "id": "LgfR7_mKjSh2",
        "outputId": "71e6300c-57ef-409a-9a18-cad61edc2cb7"
      },
      "outputs": [
        {
          "output_type": "stream",
          "name": "stdout",
          "text": [
            "30\n"
          ]
        }
      ],
      "source": [
        "print(len(test_data))"
      ]
    },
    {
      "cell_type": "code",
      "execution_count": null,
      "metadata": {
        "id": "WJLbNpitcFoo"
      },
      "outputs": [],
      "source": [
        "from torch.utils.data import DataLoader\n",
        "train_dataloader = DataLoader(train_data, batch_size=8, shuffle=True, drop_last=True)\n",
        "test_dataloader = DataLoader(test_data, batch_size=8,shuffle=True, drop_last=True)\n",
        "valid_dataloader = DataLoader(valid_data, batch_size=8,shuffle=True, drop_last=True)"
      ]
    },
    {
      "cell_type": "code",
      "execution_count": null,
      "metadata": {
        "colab": {
          "base_uri": "https://localhost:8080/"
        },
        "id": "032snSQYcFoo",
        "outputId": "2235b7be-f981-4c5c-e31a-5a3378c88f20"
      },
      "outputs": [
        {
          "output_type": "stream",
          "name": "stdout",
          "text": [
            "torch.Size([8, 224, 224]) torch.Size([8, 3])\n"
          ]
        }
      ],
      "source": [
        "for audios,labels in train_dataloader:\n",
        "\n",
        "  print(audios.shape, labels.shape)\n",
        "  break"
      ]
    },
    {
      "cell_type": "markdown",
      "source": [
        "installing the transformer library for using pretrained transformer"
      ],
      "metadata": {
        "id": "EO1ov0BV-RD8"
      }
    },
    {
      "cell_type": "code",
      "source": [
        "!pip install transformers"
      ],
      "metadata": {
        "colab": {
          "base_uri": "https://localhost:8080/"
        },
        "id": "WB0ZhflNqj9_",
        "outputId": "ebb4ba70-c6a2-4fe9-a52d-175161d57b24"
      },
      "execution_count": null,
      "outputs": [
        {
          "output_type": "stream",
          "name": "stdout",
          "text": [
            "Collecting transformers\n",
            "  Downloading transformers-4.33.2-py3-none-any.whl (7.6 MB)\n",
            "\u001b[2K     \u001b[90m━━━━━━━━━━━━━━━━━━━━━━━━━━━━━━━━━━━━━━━━\u001b[0m \u001b[32m7.6/7.6 MB\u001b[0m \u001b[31m18.0 MB/s\u001b[0m eta \u001b[36m0:00:00\u001b[0m\n",
            "\u001b[?25hRequirement already satisfied: filelock in /usr/local/lib/python3.10/dist-packages (from transformers) (3.12.2)\n",
            "Collecting huggingface-hub<1.0,>=0.15.1 (from transformers)\n",
            "  Downloading huggingface_hub-0.17.2-py3-none-any.whl (294 kB)\n",
            "\u001b[2K     \u001b[90m━━━━━━━━━━━━━━━━━━━━━━━━━━━━━━━━━━━━━━\u001b[0m \u001b[32m294.9/294.9 kB\u001b[0m \u001b[31m33.2 MB/s\u001b[0m eta \u001b[36m0:00:00\u001b[0m\n",
            "\u001b[?25hRequirement already satisfied: numpy>=1.17 in /usr/local/lib/python3.10/dist-packages (from transformers) (1.23.5)\n",
            "Requirement already satisfied: packaging>=20.0 in /usr/local/lib/python3.10/dist-packages (from transformers) (23.1)\n",
            "Requirement already satisfied: pyyaml>=5.1 in /usr/local/lib/python3.10/dist-packages (from transformers) (6.0.1)\n",
            "Requirement already satisfied: regex!=2019.12.17 in /usr/local/lib/python3.10/dist-packages (from transformers) (2023.6.3)\n",
            "Requirement already satisfied: requests in /usr/local/lib/python3.10/dist-packages (from transformers) (2.31.0)\n",
            "Collecting tokenizers!=0.11.3,<0.14,>=0.11.1 (from transformers)\n",
            "  Downloading tokenizers-0.13.3-cp310-cp310-manylinux_2_17_x86_64.manylinux2014_x86_64.whl (7.8 MB)\n",
            "\u001b[2K     \u001b[90m━━━━━━━━━━━━━━━━━━━━━━━━━━━━━━━━━━━━━━━━\u001b[0m \u001b[32m7.8/7.8 MB\u001b[0m \u001b[31m58.3 MB/s\u001b[0m eta \u001b[36m0:00:00\u001b[0m\n",
            "\u001b[?25hCollecting safetensors>=0.3.1 (from transformers)\n",
            "  Downloading safetensors-0.3.3-cp310-cp310-manylinux_2_17_x86_64.manylinux2014_x86_64.whl (1.3 MB)\n",
            "\u001b[2K     \u001b[90m━━━━━━━━━━━━━━━━━━━━━━━━━━━━━━━━━━━━━━━━\u001b[0m \u001b[32m1.3/1.3 MB\u001b[0m \u001b[31m62.2 MB/s\u001b[0m eta \u001b[36m0:00:00\u001b[0m\n",
            "\u001b[?25hRequirement already satisfied: tqdm>=4.27 in /usr/local/lib/python3.10/dist-packages (from transformers) (4.66.1)\n",
            "Requirement already satisfied: fsspec in /usr/local/lib/python3.10/dist-packages (from huggingface-hub<1.0,>=0.15.1->transformers) (2023.6.0)\n",
            "Requirement already satisfied: typing-extensions>=3.7.4.3 in /usr/local/lib/python3.10/dist-packages (from huggingface-hub<1.0,>=0.15.1->transformers) (4.5.0)\n",
            "Requirement already satisfied: charset-normalizer<4,>=2 in /usr/local/lib/python3.10/dist-packages (from requests->transformers) (3.2.0)\n",
            "Requirement already satisfied: idna<4,>=2.5 in /usr/local/lib/python3.10/dist-packages (from requests->transformers) (3.4)\n",
            "Requirement already satisfied: urllib3<3,>=1.21.1 in /usr/local/lib/python3.10/dist-packages (from requests->transformers) (2.0.4)\n",
            "Requirement already satisfied: certifi>=2017.4.17 in /usr/local/lib/python3.10/dist-packages (from requests->transformers) (2023.7.22)\n",
            "Installing collected packages: tokenizers, safetensors, huggingface-hub, transformers\n",
            "Successfully installed huggingface-hub-0.17.2 safetensors-0.3.3 tokenizers-0.13.3 transformers-4.33.2\n"
          ]
        }
      ]
    },
    {
      "cell_type": "code",
      "execution_count": null,
      "metadata": {
        "id": "vNHgrN7revsJ"
      },
      "outputs": [],
      "source": [
        "import transformers\n",
        "from transformers import ViTFeatureExtractor, ViTForImageClassification, ViTConfig"
      ]
    },
    {
      "cell_type": "code",
      "execution_count": null,
      "metadata": {
        "colab": {
          "base_uri": "https://localhost:8080/",
          "height": 222,
          "referenced_widgets": [
            "65f06c2ca3ed43278bf441fb6c52aa59",
            "83d72eef1ff64e73ac95ea8dd736fd67",
            "6d38208605654084ac9594daa035f702",
            "fd5289f3343e495c80ed62086e3d631b",
            "8870817ae1154fe486d411ff70964d03",
            "54bde019ecb44272bf2e630301bd4b1a",
            "d2a3fd51d40847de9f3e1a7eb75cef3c",
            "da93964802c243829707f636f75a2196",
            "bc1b3794d3d249d39354657160e3289e",
            "5df8a6352d2a4c7cbec4b0f1804d7209",
            "6a91f07b79d74fdf897978ee709ab05d",
            "8005452afc864ee2bef42cfa9027e2e5",
            "47180605cc404bccbb489811cd553f0f",
            "ee6152f1fcaf4200ac8be9e31c1c1d3c",
            "12ce4e165bf44989b8b6a41c7d515241",
            "638dc77fdc3844fda6d9aab1575d5eca",
            "8d2a98159bbf4c16b14bfcb1bc9c1d40",
            "ec31a0ebb19244969e07ec41eaa3bf1a",
            "33fead25b7824eb4b5eb7cd32127a52d",
            "d651388f2f30433897a8d3b18bfa911d",
            "113099b618b147379b84831d203448fd",
            "a3121c7982c94d3cadc2a8c4ebabc1cd"
          ]
        },
        "id": "y_i0IC7tec3I",
        "outputId": "21763fcd-de07-401f-f842-0a2d45d0629b"
      },
      "outputs": [
        {
          "output_type": "display_data",
          "data": {
            "text/plain": [
              "Downloading (…)rocessor_config.json:   0%|          | 0.00/160 [00:00<?, ?B/s]"
            ],
            "application/vnd.jupyter.widget-view+json": {
              "version_major": 2,
              "version_minor": 0,
              "model_id": "65f06c2ca3ed43278bf441fb6c52aa59"
            }
          },
          "metadata": {}
        },
        {
          "output_type": "stream",
          "name": "stderr",
          "text": [
            "/usr/local/lib/python3.10/dist-packages/transformers/models/vit/feature_extraction_vit.py:28: FutureWarning: The class ViTFeatureExtractor is deprecated and will be removed in version 5 of Transformers. Please use ViTImageProcessor instead.\n",
            "  warnings.warn(\n"
          ]
        },
        {
          "output_type": "display_data",
          "data": {
            "text/plain": [
              "Downloading model.safetensors:   0%|          | 0.00/346M [00:00<?, ?B/s]"
            ],
            "application/vnd.jupyter.widget-view+json": {
              "version_major": 2,
              "version_minor": 0,
              "model_id": "8005452afc864ee2bef42cfa9027e2e5"
            }
          },
          "metadata": {}
        },
        {
          "output_type": "stream",
          "name": "stderr",
          "text": [
            "Some weights of ViTForImageClassification were not initialized from the model checkpoint at google/vit-base-patch16-224 and are newly initialized because the shapes did not match:\n",
            "- classifier.bias: found shape torch.Size([1000]) in the checkpoint and torch.Size([3]) in the model instantiated\n",
            "- classifier.weight: found shape torch.Size([1000, 768]) in the checkpoint and torch.Size([3, 768]) in the model instantiated\n",
            "- vit.embeddings.patch_embeddings.projection.weight: found shape torch.Size([768, 3, 16, 16]) in the checkpoint and torch.Size([768, 1, 16, 16]) in the model instantiated\n",
            "You should probably TRAIN this model on a down-stream task to be able to use it for predictions and inference.\n"
          ]
        }
      ],
      "source": [
        "feature_extractor= ViTFeatureExtractor.from_pretrained(\"google/vit-base-patch16-224\")\n",
        "config = ViTConfig(num_channels=1, num_labels=3)\n",
        "model = ViTForImageClassification.from_pretrained(\"google/vit-base-patch16-224\", config=config, ignore_mismatched_sizes=True)\n"
      ]
    },
    {
      "cell_type": "code",
      "execution_count": null,
      "metadata": {
        "colab": {
          "base_uri": "https://localhost:8080/"
        },
        "id": "2grYF0VbtVkE",
        "outputId": "6b8a371c-e4a2-494b-b8c0-ba68e502f779"
      },
      "outputs": [
        {
          "output_type": "execute_result",
          "data": {
            "text/plain": [
              "ViTForImageClassification(\n",
              "  (vit): ViTModel(\n",
              "    (embeddings): ViTEmbeddings(\n",
              "      (patch_embeddings): ViTPatchEmbeddings(\n",
              "        (projection): Conv2d(1, 768, kernel_size=(16, 16), stride=(16, 16))\n",
              "      )\n",
              "      (dropout): Dropout(p=0.0, inplace=False)\n",
              "    )\n",
              "    (encoder): ViTEncoder(\n",
              "      (layer): ModuleList(\n",
              "        (0-11): 12 x ViTLayer(\n",
              "          (attention): ViTAttention(\n",
              "            (attention): ViTSelfAttention(\n",
              "              (query): Linear(in_features=768, out_features=768, bias=True)\n",
              "              (key): Linear(in_features=768, out_features=768, bias=True)\n",
              "              (value): Linear(in_features=768, out_features=768, bias=True)\n",
              "              (dropout): Dropout(p=0.0, inplace=False)\n",
              "            )\n",
              "            (output): ViTSelfOutput(\n",
              "              (dense): Linear(in_features=768, out_features=768, bias=True)\n",
              "              (dropout): Dropout(p=0.0, inplace=False)\n",
              "            )\n",
              "          )\n",
              "          (intermediate): ViTIntermediate(\n",
              "            (dense): Linear(in_features=768, out_features=3072, bias=True)\n",
              "            (intermediate_act_fn): GELUActivation()\n",
              "          )\n",
              "          (output): ViTOutput(\n",
              "            (dense): Linear(in_features=3072, out_features=768, bias=True)\n",
              "            (dropout): Dropout(p=0.0, inplace=False)\n",
              "          )\n",
              "          (layernorm_before): LayerNorm((768,), eps=1e-12, elementwise_affine=True)\n",
              "          (layernorm_after): LayerNorm((768,), eps=1e-12, elementwise_affine=True)\n",
              "        )\n",
              "      )\n",
              "    )\n",
              "    (layernorm): LayerNorm((768,), eps=1e-12, elementwise_affine=True)\n",
              "  )\n",
              "  (classifier): Linear(in_features=768, out_features=3, bias=True)\n",
              ")"
            ]
          },
          "metadata": {},
          "execution_count": 25
        }
      ],
      "source": [
        "model.to(device)"
      ]
    },
    {
      "cell_type": "code",
      "execution_count": null,
      "metadata": {
        "id": "hP96trpxgkHh"
      },
      "outputs": [],
      "source": [
        "#inputs=feature_extractor(images=train_data[0],return_tensors='pt',do_rescale=False)\n",
        "#outputs=model(**input)\n",
        "#logits=outputs.logits"
      ]
    },
    {
      "cell_type": "code",
      "execution_count": null,
      "metadata": {
        "id": "_vnL8dwghbgY"
      },
      "outputs": [],
      "source": [
        "criterion = nn.CrossEntropyLoss()  # Change the loss function based on your task\n",
        "optimizer = optim.SGD(model.parameters(), lr=0.001)\n",
        "num_epochs=50"
      ]
    },
    {
      "cell_type": "code",
      "source": [
        "'''train_losses = []  # To store training losses for each epoch\n",
        "valid_losses = []  # To store validation losses for each epoch\n",
        "\n",
        "for epoch in range(num_epochs):\n",
        "        model.train()  # Set the model to training mode\n",
        "        total_train_loss = 0.0\n",
        "\n",
        "        for audios, labels in train_dataloader:\n",
        "            audios = audios.to(device)\n",
        "            labels = labels.to(device)\n",
        "            audios=audios.reshape(8,1,224,224)\n",
        "            outputs = model(audios)['logits']\n",
        "            labels=labels.float()  # Forward pass\n",
        "            loss = criterion(outputs, labels)  # Compute the loss\n",
        "            optimizer.zero_grad()# Zero the gradients\n",
        "            loss.backward()  # Backward pass\n",
        "\n",
        "            optimizer.step()  # Update weights\n",
        "            total_train_loss += loss.item()\n",
        "\n",
        "        average_train_loss = total_train_loss / len(train_dataloader)\n",
        "\n",
        "        train_losses.append(average_train_loss)  # Store the training loss for this epoch\n",
        "\n",
        "        # Validation\n",
        "        model.eval()  # Set the model to evaluation mode\n",
        "        total_valid_loss = 0.0\n",
        "\n",
        "        with torch.no_grad():  # No need to compute gradients during validation\n",
        "            for audios, labels in valid_dataloader:\n",
        "                audios = audios.to(device)\n",
        "                labels = labels.to(device)\n",
        "                audios=audios.reshape(8,1,224,224)\n",
        "                outputs = model(audios)['logits']\n",
        "                labels=labels.float()  # Forward pass\n",
        "                loss = criterion(outputs, labels)  # Compute the loss\n",
        "                total_valid_loss += loss.item()\n",
        "\n",
        "        average_valid_loss = total_valid_loss / len(valid_dataloader)\n",
        "        valid_losses.append(average_valid_loss)  # Store the validation loss for this epoch\n",
        "\n",
        "        # Print the training and validation losses for this epoch\n",
        "        print(f'Epoch [{epoch + 1}/{num_epochs}], Train Loss: {average_train_loss:.4f}, Valid Loss: {average_valid_loss:.4f}')'''"
      ],
      "metadata": {
        "colab": {
          "base_uri": "https://localhost:8080/",
          "height": 139
        },
        "id": "J1tJ414F5RrV",
        "outputId": "39d8863b-f7d4-467d-94f8-9b5e8459c72e"
      },
      "execution_count": null,
      "outputs": [
        {
          "output_type": "execute_result",
          "data": {
            "text/plain": [
              "\"train_losses = []  # To store training losses for each epoch\\nvalid_losses = []  # To store validation losses for each epoch\\n\\nfor epoch in range(num_epochs):\\n        model.train()  # Set the model to training mode\\n        total_train_loss = 0.0\\n\\n        for audios, labels in train_dataloader:\\n            audios = audios.to(device)\\n            labels = labels.to(device)\\n            audios=audios.reshape(8,1,224,224)\\n            outputs = model(audios)['logits']\\n            labels=labels.float()  # Forward pass\\n            loss = criterion(outputs, labels)  # Compute the loss\\n            optimizer.zero_grad()# Zero the gradients\\n            loss.backward()  # Backward pass\\n\\n            optimizer.step()  # Update weights\\n            total_train_loss += loss.item()\\n\\n        average_train_loss = total_train_loss / len(train_dataloader)\\n\\n        train_losses.append(average_train_loss)  # Store the training loss for this epoch\\n\\n        # Validation\\n        model.eval()  # Set the model to evaluation mode\\n        total_valid_loss = 0.0\\n\\n        with torch.no_grad():  # No need to compute gradients during validation\\n            for audios, labels in valid_dataloader:\\n                audios = audios.to(device)\\n                labels = labels.to(device)\\n                audios=audios.reshape(8,1,224,224)\\n                outputs = model(audios)['logits']\\n                labels=labels.float()  # Forward pass\\n                loss = criterion(outputs, labels)  # Compute the loss\\n                total_valid_loss += loss.item()\\n\\n        average_valid_loss = total_valid_loss / len(valid_dataloader)\\n        valid_losses.append(average_valid_loss)  # Store the validation loss for this epoch\\n\\n        # Print the training and validation losses for this epoch\\n        print(f'Epoch [{epoch + 1}/{num_epochs}], Train Loss: {average_train_loss:.4f}, Valid Loss: {average_valid_loss:.4f}')\""
            ],
            "application/vnd.google.colaboratory.intrinsic+json": {
              "type": "string"
            }
          },
          "metadata": {},
          "execution_count": 28
        }
      ]
    },
    {
      "cell_type": "markdown",
      "source": [
        "Training and Validation"
      ],
      "metadata": {
        "id": "IuLwWipB-a8W"
      }
    },
    {
      "cell_type": "code",
      "source": [
        "num_epochs = 50\n",
        "patience = 5  # Number of epochs with no improvement after which training will stop\n",
        "best_valid_loss = float('inf')\n",
        "best_model_state = None\n",
        "\n",
        "train_losses = []  # To store training losses for each epoch\n",
        "valid_losses = []  # To store validation losses for each epoch\n",
        "\n",
        "for epoch in range(num_epochs):\n",
        "    model.train()\n",
        "    total_train_loss = 0.0\n",
        "\n",
        "    for audios, labels in train_dataloader:\n",
        "        audios = audios.to(device)\n",
        "        labels = labels.to(device)\n",
        "        audios = audios.reshape(8, 1, 224, 224)\n",
        "        outputs = model(audios)['logits']\n",
        "        #outputs=model(audios, labels=labels)\n",
        "        #loss = outputs.loss\n",
        "        labels = labels.float()\n",
        "        loss = criterion(outputs, labels)\n",
        "        optimizer.zero_grad()\n",
        "        loss.backward()\n",
        "        optimizer.step()\n",
        "        total_train_loss += loss.item()\n",
        "\n",
        "    average_train_loss = total_train_loss / len(train_dataloader)\n",
        "    train_losses.append(average_train_loss)\n",
        "\n",
        "    model.eval()\n",
        "    total_valid_loss = 0.0\n",
        "\n",
        "    with torch.no_grad():\n",
        "        for audios, labels in valid_dataloader:\n",
        "            audios = audios.to(device)\n",
        "            labels = labels.to(device)\n",
        "            audios = audios.reshape(8, 1, 224, 224)\n",
        "            outputs = model(audios)['logits']\n",
        "            labels = labels.float()\n",
        "            loss = criterion(outputs, labels)\n",
        "            total_valid_loss += loss.item()\n",
        "\n",
        "    average_valid_loss = total_valid_loss / len(valid_dataloader)\n",
        "    valid_losses.append(average_valid_loss)\n",
        "\n",
        "    print(f'Epoch [{epoch + 1}/{num_epochs}], Train Loss: {average_train_loss:.4f}, Valid Loss: {average_valid_loss:.4f}')\n",
        "\n",
        "    # Check for early stopping\n",
        "    if average_valid_loss < best_valid_loss:\n",
        "        best_valid_loss = average_valid_loss\n",
        "        best_model_state = model.state_dict()  # Save the best model state\n",
        "\n",
        "    # If there is no improvement for 'patience' epochs, stop training\n",
        "    if epoch - np.argmin(valid_losses) >= patience:\n",
        "        print(f'Early stopping after {patience} epochs of no improvement.')\n",
        "        break\n",
        "\n",
        "# Load the best model state for testing\n",
        "if best_model_state is not None:\n",
        "    model.load_state_dict(best_model_state)"
      ],
      "metadata": {
        "colab": {
          "base_uri": "https://localhost:8080/"
        },
        "id": "TkRocmQ4KEQd",
        "outputId": "50dff7e1-2519-4754-b22a-91dcf7d07312"
      },
      "execution_count": null,
      "outputs": [
        {
          "output_type": "stream",
          "name": "stdout",
          "text": [
            "Epoch [1/50], Train Loss: 1.0023, Valid Loss: 0.9060\n",
            "Epoch [2/50], Train Loss: 0.8265, Valid Loss: 0.7895\n",
            "Epoch [3/50], Train Loss: 0.7592, Valid Loss: 0.7473\n",
            "Epoch [4/50], Train Loss: 0.7197, Valid Loss: 0.7344\n",
            "Epoch [5/50], Train Loss: 0.6987, Valid Loss: 0.6700\n",
            "Epoch [6/50], Train Loss: 0.6756, Valid Loss: 0.7225\n",
            "Epoch [7/50], Train Loss: 0.6674, Valid Loss: 0.6668\n",
            "Epoch [8/50], Train Loss: 0.6679, Valid Loss: 0.6777\n",
            "Epoch [9/50], Train Loss: 0.6506, Valid Loss: 0.6647\n",
            "Epoch [10/50], Train Loss: 0.6468, Valid Loss: 0.6639\n",
            "Epoch [11/50], Train Loss: 0.6315, Valid Loss: 0.7461\n",
            "Epoch [12/50], Train Loss: 0.6273, Valid Loss: 0.7242\n",
            "Epoch [13/50], Train Loss: 0.6165, Valid Loss: 0.6460\n",
            "Epoch [14/50], Train Loss: 0.6227, Valid Loss: 0.6855\n",
            "Epoch [15/50], Train Loss: 0.5970, Valid Loss: 0.6867\n",
            "Epoch [16/50], Train Loss: 0.5962, Valid Loss: 0.6708\n",
            "Epoch [17/50], Train Loss: 0.5908, Valid Loss: 0.6311\n",
            "Epoch [18/50], Train Loss: 0.5784, Valid Loss: 0.6629\n",
            "Epoch [19/50], Train Loss: 0.5671, Valid Loss: 0.6597\n",
            "Epoch [20/50], Train Loss: 0.5829, Valid Loss: 0.6081\n",
            "Epoch [21/50], Train Loss: 0.5548, Valid Loss: 0.6140\n",
            "Epoch [22/50], Train Loss: 0.5506, Valid Loss: 0.6952\n",
            "Epoch [23/50], Train Loss: 0.5383, Valid Loss: 0.5919\n",
            "Epoch [24/50], Train Loss: 0.5313, Valid Loss: 0.5883\n",
            "Epoch [25/50], Train Loss: 0.5229, Valid Loss: 0.5388\n",
            "Epoch [26/50], Train Loss: 0.4956, Valid Loss: 0.5931\n",
            "Epoch [27/50], Train Loss: 0.4988, Valid Loss: 0.5689\n",
            "Epoch [28/50], Train Loss: 0.4855, Valid Loss: 0.6147\n",
            "Epoch [29/50], Train Loss: 0.4655, Valid Loss: 0.4854\n",
            "Epoch [30/50], Train Loss: 0.4523, Valid Loss: 0.4767\n",
            "Epoch [31/50], Train Loss: 0.4372, Valid Loss: 0.5570\n",
            "Epoch [32/50], Train Loss: 0.4201, Valid Loss: 0.5517\n",
            "Epoch [33/50], Train Loss: 0.4145, Valid Loss: 0.5082\n",
            "Epoch [34/50], Train Loss: 0.4200, Valid Loss: 0.4807\n",
            "Epoch [35/50], Train Loss: 0.3840, Valid Loss: 0.5403\n",
            "Early stopping after 5 epochs of no improvement.\n"
          ]
        }
      ]
    },
    {
      "cell_type": "markdown",
      "source": [
        "Visualization"
      ],
      "metadata": {
        "id": "zIaBus5U-huu"
      }
    },
    {
      "cell_type": "code",
      "source": [
        "import matplotlib.pyplot as plt\n",
        "plt.figure(figsize=(10, 6))\n",
        "plt.plot(range(1, len(train_losses) + 1), train_losses, label='Train Loss')\n",
        "plt.plot(range(1, len(valid_losses)+ 1), valid_losses, label='Valid Loss')\n",
        "plt.xlabel('Epoch')\n",
        "plt.ylabel('Loss')\n",
        "plt.legend()\n",
        "plt.title('Training and Validation Loss')\n",
        "plt.show()"
      ],
      "metadata": {
        "colab": {
          "base_uri": "https://localhost:8080/",
          "height": 564
        },
        "id": "fiGF4jKrNG9Z",
        "outputId": "2529fb7c-1902-40f7-a260-19c6711fa231"
      },
      "execution_count": null,
      "outputs": [
        {
          "output_type": "display_data",
          "data": {
            "text/plain": [
              "<Figure size 1000x600 with 1 Axes>"
            ],
            "image/png": "[encoded data removed]"
          },
          "metadata": {}
        }
      ]
    },
    {
      "cell_type": "markdown",
      "source": [
        "Testing"
      ],
      "metadata": {
        "id": "hn0j14dE-m5l"
      }
    },
    {
      "cell_type": "code",
      "source": [
        "total_correct = 0\n",
        "correct=0\n",
        "total_samples = 0\n",
        "sample=0\n",
        "\n",
        "with torch.no_grad():\n",
        "     for audios, labels in test_dataloader:\n",
        "\n",
        "        audios = audios.to(device)\n",
        "        labels = labels.to(device)\n",
        "        audios=audios.reshape(8,1,224,224)\n",
        "        outputs = model(audios)[\"logits\"]\n",
        "        threshold = 0.2\n",
        "        preds = (outputs > threshold).float()\n",
        "        preds=preds.cpu()\n",
        "\n",
        "        for i in range(len(labels)):\n",
        "          labels=labels.cpu()\n",
        "          if np.argmax(preds[i] == np.argmax(labels[i])):\n",
        "             correct = correct + 1\n",
        "          sample=sample+1\n",
        "\n",
        "          total_samples=sample\n",
        "\n",
        "# Calculate test accuracy\n",
        "test_accuracy = correct / sample\n",
        "\n",
        "print(f'Total Correct Predictions: {correct}')\n",
        "print(f'Total Samples: {total_samples}')\n",
        "print(f'Test Accuracy: {test_accuracy*100:.2f}%')"
      ],
      "metadata": {
        "colab": {
          "base_uri": "https://localhost:8080/"
        },
        "id": "gCZKHDaJ8S4E",
        "outputId": "84b4660b-6cd3-4c7d-c6af-ed7addfdccee"
      },
      "execution_count": null,
      "outputs": [
        {
          "output_type": "stream",
          "name": "stdout",
          "text": [
            "Total Correct Predictions: 19\n",
            "Total Samples: 24\n",
            "Test Accuracy: 79.17%\n"
          ]
        }
      ]
    }
  ],
  "metadata": {
    "colab": {
      "provenance": [],
      "gpuType": "T4"
    },
    "kernelspec": {
      "display_name": "Python 3",
      "name": "python3"
    },
    "accelerator": "GPU",
    "widgets": {
      "application/vnd.jupyter.widget-state+json": {
        "65f06c2ca3ed43278bf441fb6c52aa59": {
          "model_module": "@jupyter-widgets/controls",
          "model_name": "HBoxModel",
          "model_module_version": "1.5.0",
          "state": {
            "_dom_classes": [],
            "_model_module": "@jupyter-widgets/controls",
            "_model_module_version": "1.5.0",
            "_model_name": "HBoxModel",
            "_view_count": null,
            "_view_module": "@jupyter-widgets/controls",
            "_view_module_version": "1.5.0",
            "_view_name": "HBoxView",
            "box_style": "",
            "children": [
              "IPY_MODEL_83d72eef1ff64e73ac95ea8dd736fd67",
              "IPY_MODEL_6d38208605654084ac9594daa035f702",
              "IPY_MODEL_fd5289f3343e495c80ed62086e3d631b"
            ],
            "layout": "IPY_MODEL_8870817ae1154fe486d411ff70964d03"
          }
        },
        "83d72eef1ff64e73ac95ea8dd736fd67": {
          "model_module": "@jupyter-widgets/controls",
          "model_name": "HTMLModel",
          "model_module_version": "1.5.0",
          "state": {
            "_dom_classes": [],
            "_model_module": "@jupyter-widgets/controls",
            "_model_module_version": "1.5.0",
            "_model_name": "HTMLModel",
            "_view_count": null,
            "_view_module": "@jupyter-widgets/controls",
            "_view_module_version": "1.5.0",
            "_view_name": "HTMLView",
            "description": "",
            "description_tooltip": null,
            "layout": "IPY_MODEL_54bde019ecb44272bf2e630301bd4b1a",
            "placeholder": "​",
            "style": "IPY_MODEL_d2a3fd51d40847de9f3e1a7eb75cef3c",
            "value": "Downloading (…)rocessor_config.json: 100%"
          }
        },
        "6d38208605654084ac9594daa035f702": {
          "model_module": "@jupyter-widgets/controls",
          "model_name": "FloatProgressModel",
          "model_module_version": "1.5.0",
          "state": {
            "_dom_classes": [],
            "_model_module": "@jupyter-widgets/controls",
            "_model_module_version": "1.5.0",
            "_model_name": "FloatProgressModel",
            "_view_count": null,
            "_view_module": "@jupyter-widgets/controls",
            "_view_module_version": "1.5.0",
            "_view_name": "ProgressView",
            "bar_style": "success",
            "description": "",
            "description_tooltip": null,
            "layout": "IPY_MODEL_da93964802c243829707f636f75a2196",
            "max": 160,
            "min": 0,
            "orientation": "horizontal",
            "style": "IPY_MODEL_bc1b3794d3d249d39354657160e3289e",
            "value": 160
          }
        },
        "fd5289f3343e495c80ed62086e3d631b": {
          "model_module": "@jupyter-widgets/controls",
          "model_name": "HTMLModel",
          "model_module_version": "1.5.0",
          "state": {
            "_dom_classes": [],
            "_model_module": "@jupyter-widgets/controls",
            "_model_module_version": "1.5.0",
            "_model_name": "HTMLModel",
            "_view_count": null,
            "_view_module": "@jupyter-widgets/controls",
            "_view_module_version": "1.5.0",
            "_view_name": "HTMLView",
            "description": "",
            "description_tooltip": null,
            "layout": "IPY_MODEL_5df8a6352d2a4c7cbec4b0f1804d7209",
            "placeholder": "​",
            "style": "IPY_MODEL_6a91f07b79d74fdf897978ee709ab05d",
            "value": " 160/160 [00:00&lt;00:00, 7.88kB/s]"
          }
        },
        "8870817ae1154fe486d411ff70964d03": {
          "model_module": "@jupyter-widgets/base",
          "model_name": "LayoutModel",
          "model_module_version": "1.2.0",
          "state": {
            "_model_module": "@jupyter-widgets/base",
            "_model_module_version": "1.2.0",
            "_model_name": "LayoutModel",
            "_view_count": null,
            "_view_module": "@jupyter-widgets/base",
            "_view_module_version": "1.2.0",
            "_view_name": "LayoutView",
            "align_content": null,
            "align_items": null,
            "align_self": null,
            "border": null,
            "bottom": null,
            "display": null,
            "flex": null,
            "flex_flow": null,
            "grid_area": null,
            "grid_auto_columns": null,
            "grid_auto_flow": null,
            "grid_auto_rows": null,
            "grid_column": null,
            "grid_gap": null,
            "grid_row": null,
            "grid_template_areas": null,
            "grid_template_columns": null,
            "grid_template_rows": null,
            "height": null,
            "justify_content": null,
            "justify_items": null,
            "left": null,
            "margin": null,
            "max_height": null,
            "max_width": null,
            "min_height": null,
            "min_width": null,
            "object_fit": null,
            "object_position": null,
            "order": null,
            "overflow": null,
            "overflow_x": null,
            "overflow_y": null,
            "padding": null,
            "right": null,
            "top": null,
            "visibility": null,
            "width": null
          }
        },
        "54bde019ecb44272bf2e630301bd4b1a": {
          "model_module": "@jupyter-widgets/base",
          "model_name": "LayoutModel",
          "model_module_version": "1.2.0",
          "state": {
            "_model_module": "@jupyter-widgets/base",
            "_model_module_version": "1.2.0",
            "_model_name": "LayoutModel",
            "_view_count": null,
            "_view_module": "@jupyter-widgets/base",
            "_view_module_version": "1.2.0",
            "_view_name": "LayoutView",
            "align_content": null,
            "align_items": null,
            "align_self": null,
            "border": null,
            "bottom": null,
            "display": null,
            "flex": null,
            "flex_flow": null,
            "grid_area": null,
            "grid_auto_columns": null,
            "grid_auto_flow": null,
            "grid_auto_rows": null,
            "grid_column": null,
            "grid_gap": null,
            "grid_row": null,
            "grid_template_areas": null,
            "grid_template_columns": null,
            "grid_template_rows": null,
            "height": null,
            "justify_content": null,
            "justify_items": null,
            "left": null,
            "margin": null,
            "max_height": null,
            "max_width": null,
            "min_height": null,
            "min_width": null,
            "object_fit": null,
            "object_position": null,
            "order": null,
            "overflow": null,
            "overflow_x": null,
            "overflow_y": null,
            "padding": null,
            "right": null,
            "top": null,
            "visibility": null,
            "width": null
          }
        },
        "d2a3fd51d40847de9f3e1a7eb75cef3c": {
          "model_module": "@jupyter-widgets/controls",
          "model_name": "DescriptionStyleModel",
          "model_module_version": "1.5.0",
          "state": {
            "_model_module": "@jupyter-widgets/controls",
            "_model_module_version": "1.5.0",
            "_model_name": "DescriptionStyleModel",
            "_view_count": null,
            "_view_module": "@jupyter-widgets/base",
            "_view_module_version": "1.2.0",
            "_view_name": "StyleView",
            "description_width": ""
          }
        },
        "da93964802c243829707f636f75a2196": {
          "model_module": "@jupyter-widgets/base",
          "model_name": "LayoutModel",
          "model_module_version": "1.2.0",
          "state": {
            "_model_module": "@jupyter-widgets/base",
            "_model_module_version": "1.2.0",
            "_model_name": "LayoutModel",
            "_view_count": null,
            "_view_module": "@jupyter-widgets/base",
            "_view_module_version": "1.2.0",
            "_view_name": "LayoutView",
            "align_content": null,
            "align_items": null,
            "align_self": null,
            "border": null,
            "bottom": null,
            "display": null,
            "flex": null,
            "flex_flow": null,
            "grid_area": null,
            "grid_auto_columns": null,
            "grid_auto_flow": null,
            "grid_auto_rows": null,
            "grid_column": null,
            "grid_gap": null,
            "grid_row": null,
            "grid_template_areas": null,
            "grid_template_columns": null,
            "grid_template_rows": null,
            "height": null,
            "justify_content": null,
            "justify_items": null,
            "left": null,
            "margin": null,
            "max_height": null,
            "max_width": null,
            "min_height": null,
            "min_width": null,
            "object_fit": null,
            "object_position": null,
            "order": null,
            "overflow": null,
            "overflow_x": null,
            "overflow_y": null,
            "padding": null,
            "right": null,
            "top": null,
            "visibility": null,
            "width": null
          }
        },
        "bc1b3794d3d249d39354657160e3289e": {
          "model_module": "@jupyter-widgets/controls",
          "model_name": "ProgressStyleModel",
          "model_module_version": "1.5.0",
          "state": {
            "_model_module": "@jupyter-widgets/controls",
            "_model_module_version": "1.5.0",
            "_model_name": "ProgressStyleModel",
            "_view_count": null,
            "_view_module": "@jupyter-widgets/base",
            "_view_module_version": "1.2.0",
            "_view_name": "StyleView",
            "bar_color": null,
            "description_width": ""
          }
        },
        "5df8a6352d2a4c7cbec4b0f1804d7209": {
          "model_module": "@jupyter-widgets/base",
          "model_name": "LayoutModel",
          "model_module_version": "1.2.0",
          "state": {
            "_model_module": "@jupyter-widgets/base",
            "_model_module_version": "1.2.0",
            "_model_name": "LayoutModel",
            "_view_count": null,
            "_view_module": "@jupyter-widgets/base",
            "_view_module_version": "1.2.0",
            "_view_name": "LayoutView",
            "align_content": null,
            "align_items": null,
            "align_self": null,
            "border": null,
            "bottom": null,
            "display": null,
            "flex": null,
            "flex_flow": null,
            "grid_area": null,
            "grid_auto_columns": null,
            "grid_auto_flow": null,
            "grid_auto_rows": null,
            "grid_column": null,
            "grid_gap": null,
            "grid_row": null,
            "grid_template_areas": null,
            "grid_template_columns": null,
            "grid_template_rows": null,
            "height": null,
            "justify_content": null,
            "justify_items": null,
            "left": null,
            "margin": null,
            "max_height": null,
            "max_width": null,
            "min_height": null,
            "min_width": null,
            "object_fit": null,
            "object_position": null,
            "order": null,
            "overflow": null,
            "overflow_x": null,
            "overflow_y": null,
            "padding": null,
            "right": null,
            "top": null,
            "visibility": null,
            "width": null
          }
        },
        "6a91f07b79d74fdf897978ee709ab05d": {
          "model_module": "@jupyter-widgets/controls",
          "model_name": "DescriptionStyleModel",
          "model_module_version": "1.5.0",
          "state": {
            "_model_module": "@jupyter-widgets/controls",
            "_model_module_version": "1.5.0",
            "_model_name": "DescriptionStyleModel",
            "_view_count": null,
            "_view_module": "@jupyter-widgets/base",
            "_view_module_version": "1.2.0",
            "_view_name": "StyleView",
            "description_width": ""
          }
        },
        "8005452afc864ee2bef42cfa9027e2e5": {
          "model_module": "@jupyter-widgets/controls",
          "model_name": "HBoxModel",
          "model_module_version": "1.5.0",
          "state": {
            "_dom_classes": [],
            "_model_module": "@jupyter-widgets/controls",
            "_model_module_version": "1.5.0",
            "_model_name": "HBoxModel",
            "_view_count": null,
            "_view_module": "@jupyter-widgets/controls",
            "_view_module_version": "1.5.0",
            "_view_name": "HBoxView",
            "box_style": "",
            "children": [
              "IPY_MODEL_47180605cc404bccbb489811cd553f0f",
              "IPY_MODEL_ee6152f1fcaf4200ac8be9e31c1c1d3c",
              "IPY_MODEL_12ce4e165bf44989b8b6a41c7d515241"
            ],
            "layout": "IPY_MODEL_638dc77fdc3844fda6d9aab1575d5eca"
          }
        },
        "47180605cc404bccbb489811cd553f0f": {
          "model_module": "@jupyter-widgets/controls",
          "model_name": "HTMLModel",
          "model_module_version": "1.5.0",
          "state": {
            "_dom_classes": [],
            "_model_module": "@jupyter-widgets/controls",
            "_model_module_version": "1.5.0",
            "_model_name": "HTMLModel",
            "_view_count": null,
            "_view_module": "@jupyter-widgets/controls",
            "_view_module_version": "1.5.0",
            "_view_name": "HTMLView",
            "description": "",
            "description_tooltip": null,
            "layout": "IPY_MODEL_8d2a98159bbf4c16b14bfcb1bc9c1d40",
            "placeholder": "​",
            "style": "IPY_MODEL_ec31a0ebb19244969e07ec41eaa3bf1a",
            "value": "Downloading model.safetensors: 100%"
          }
        },
        "ee6152f1fcaf4200ac8be9e31c1c1d3c": {
          "model_module": "@jupyter-widgets/controls",
          "model_name": "FloatProgressModel",
          "model_module_version": "1.5.0",
          "state": {
            "_dom_classes": [],
            "_model_module": "@jupyter-widgets/controls",
            "_model_module_version": "1.5.0",
            "_model_name": "FloatProgressModel",
            "_view_count": null,
            "_view_module": "@jupyter-widgets/controls",
            "_view_module_version": "1.5.0",
            "_view_name": "ProgressView",
            "bar_style": "success",
            "description": "",
            "description_tooltip": null,
            "layout": "IPY_MODEL_33fead25b7824eb4b5eb7cd32127a52d",
            "max": 346293852,
            "min": 0,
            "orientation": "horizontal",
            "style": "IPY_MODEL_d651388f2f30433897a8d3b18bfa911d",
            "value": 346293852
          }
        },
        "12ce4e165bf44989b8b6a41c7d515241": {
          "model_module": "@jupyter-widgets/controls",
          "model_name": "HTMLModel",
          "model_module_version": "1.5.0",
          "state": {
            "_dom_classes": [],
            "_model_module": "@jupyter-widgets/controls",
            "_model_module_version": "1.5.0",
            "_model_name": "HTMLModel",
            "_view_count": null,
            "_view_module": "@jupyter-widgets/controls",
            "_view_module_version": "1.5.0",
            "_view_name": "HTMLView",
            "description": "",
            "description_tooltip": null,
            "layout": "IPY_MODEL_113099b618b147379b84831d203448fd",
            "placeholder": "​",
            "style": "IPY_MODEL_a3121c7982c94d3cadc2a8c4ebabc1cd",
            "value": " 346M/346M [00:01&lt;00:00, 262MB/s]"
          }
        },
        "638dc77fdc3844fda6d9aab1575d5eca": {
          "model_module": "@jupyter-widgets/base",
          "model_name": "LayoutModel",
          "model_module_version": "1.2.0",
          "state": {
            "_model_module": "@jupyter-widgets/base",
            "_model_module_version": "1.2.0",
            "_model_name": "LayoutModel",
            "_view_count": null,
            "_view_module": "@jupyter-widgets/base",
            "_view_module_version": "1.2.0",
            "_view_name": "LayoutView",
            "align_content": null,
            "align_items": null,
            "align_self": null,
            "border": null,
            "bottom": null,
            "display": null,
            "flex": null,
            "flex_flow": null,
            "grid_area": null,
            "grid_auto_columns": null,
            "grid_auto_flow": null,
            "grid_auto_rows": null,
            "grid_column": null,
            "grid_gap": null,
            "grid_row": null,
            "grid_template_areas": null,
            "grid_template_columns": null,
            "grid_template_rows": null,
            "height": null,
            "justify_content": null,
            "justify_items": null,
            "left": null,
            "margin": null,
            "max_height": null,
            "max_width": null,
            "min_height": null,
            "min_width": null,
            "object_fit": null,
            "object_position": null,
            "order": null,
            "overflow": null,
            "overflow_x": null,
            "overflow_y": null,
            "padding": null,
            "right": null,
            "top": null,
            "visibility": null,
            "width": null
          }
        },
        "8d2a98159bbf4c16b14bfcb1bc9c1d40": {
          "model_module": "@jupyter-widgets/base",
          "model_name": "LayoutModel",
          "model_module_version": "1.2.0",
          "state": {
            "_model_module": "@jupyter-widgets/base",
            "_model_module_version": "1.2.0",
            "_model_name": "LayoutModel",
            "_view_count": null,
            "_view_module": "@jupyter-widgets/base",
            "_view_module_version": "1.2.0",
            "_view_name": "LayoutView",
            "align_content": null,
            "align_items": null,
            "align_self": null,
            "border": null,
            "bottom": null,
            "display": null,
            "flex": null,
            "flex_flow": null,
            "grid_area": null,
            "grid_auto_columns": null,
            "grid_auto_flow": null,
            "grid_auto_rows": null,
            "grid_column": null,
            "grid_gap": null,
            "grid_row": null,
            "grid_template_areas": null,
            "grid_template_columns": null,
            "grid_template_rows": null,
            "height": null,
            "justify_content": null,
            "justify_items": null,
            "left": null,
            "margin": null,
            "max_height": null,
            "max_width": null,
            "min_height": null,
            "min_width": null,
            "object_fit": null,
            "object_position": null,
            "order": null,
            "overflow": null,
            "overflow_x": null,
            "overflow_y": null,
            "padding": null,
            "right": null,
            "top": null,
            "visibility": null,
            "width": null
          }
        },
        "ec31a0ebb19244969e07ec41eaa3bf1a": {
          "model_module": "@jupyter-widgets/controls",
          "model_name": "DescriptionStyleModel",
          "model_module_version": "1.5.0",
          "state": {
            "_model_module": "@jupyter-widgets/controls",
            "_model_module_version": "1.5.0",
            "_model_name": "DescriptionStyleModel",
            "_view_count": null,
            "_view_module": "@jupyter-widgets/base",
            "_view_module_version": "1.2.0",
            "_view_name": "StyleView",
            "description_width": ""
          }
        },
        "33fead25b7824eb4b5eb7cd32127a52d": {
          "model_module": "@jupyter-widgets/base",
          "model_name": "LayoutModel",
          "model_module_version": "1.2.0",
          "state": {
            "_model_module": "@jupyter-widgets/base",
            "_model_module_version": "1.2.0",
            "_model_name": "LayoutModel",
            "_view_count": null,
            "_view_module": "@jupyter-widgets/base",
            "_view_module_version": "1.2.0",
            "_view_name": "LayoutView",
            "align_content": null,
            "align_items": null,
            "align_self": null,
            "border": null,
            "bottom": null,
            "display": null,
            "flex": null,
            "flex_flow": null,
            "grid_area": null,
            "grid_auto_columns": null,
            "grid_auto_flow": null,
            "grid_auto_rows": null,
            "grid_column": null,
            "grid_gap": null,
            "grid_row": null,
            "grid_template_areas": null,
            "grid_template_columns": null,
            "grid_template_rows": null,
            "height": null,
            "justify_content": null,
            "justify_items": null,
            "left": null,
            "margin": null,
            "max_height": null,
            "max_width": null,
            "min_height": null,
            "min_width": null,
            "object_fit": null,
            "object_position": null,
            "order": null,
            "overflow": null,
            "overflow_x": null,
            "overflow_y": null,
            "padding": null,
            "right": null,
            "top": null,
            "visibility": null,
            "width": null
          }
        },
        "d651388f2f30433897a8d3b18bfa911d": {
          "model_module": "@jupyter-widgets/controls",
          "model_name": "ProgressStyleModel",
          "model_module_version": "1.5.0",
          "state": {
            "_model_module": "@jupyter-widgets/controls",
            "_model_module_version": "1.5.0",
            "_model_name": "ProgressStyleModel",
            "_view_count": null,
            "_view_module": "@jupyter-widgets/base",
            "_view_module_version": "1.2.0",
            "_view_name": "StyleView",
            "bar_color": null,
            "description_width": ""
          }
        },
        "113099b618b147379b84831d203448fd": {
          "model_module": "@jupyter-widgets/base",
          "model_name": "LayoutModel",
          "model_module_version": "1.2.0",
          "state": {
            "_model_module": "@jupyter-widgets/base",
            "_model_module_version": "1.2.0",
            "_model_name": "LayoutModel",
            "_view_count": null,
            "_view_module": "@jupyter-widgets/base",
            "_view_module_version": "1.2.0",
            "_view_name": "LayoutView",
            "align_content": null,
            "align_items": null,
            "align_self": null,
            "border": null,
            "bottom": null,
            "display": null,
            "flex": null,
            "flex_flow": null,
            "grid_area": null,
            "grid_auto_columns": null,
            "grid_auto_flow": null,
            "grid_auto_rows": null,
            "grid_column": null,
            "grid_gap": null,
            "grid_row": null,
            "grid_template_areas": null,
            "grid_template_columns": null,
            "grid_template_rows": null,
            "height": null,
            "justify_content": null,
            "justify_items": null,
            "left": null,
            "margin": null,
            "max_height": null,
            "max_width": null,
            "min_height": null,
            "min_width": null,
            "object_fit": null,
            "object_position": null,
            "order": null,
            "overflow": null,
            "overflow_x": null,
            "overflow_y": null,
            "padding": null,
            "right": null,
            "top": null,
            "visibility": null,
            "width": null
          }
        },
        "a3121c7982c94d3cadc2a8c4ebabc1cd": {
          "model_module": "@jupyter-widgets/controls",
          "model_name": "DescriptionStyleModel",
          "model_module_version": "1.5.0",
          "state": {
            "_model_module": "@jupyter-widgets/controls",
            "_model_module_version": "1.5.0",
            "_model_name": "DescriptionStyleModel",
            "_view_count": null,
            "_view_module": "@jupyter-widgets/base",
            "_view_module_version": "1.2.0",
            "_view_name": "StyleView",
            "description_width": ""
          }
        }
      }
    }
  },
  "nbformat": 4,
  "nbformat_minor": 0
}