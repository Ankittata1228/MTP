{
  "cells": [
    {
      "cell_type": "markdown",
      "source": [
        "Importing Libraries"
      ],
      "metadata": {
        "id": "ni7qyjrRZhpO"
      }
    },
    {
      "cell_type": "code",
      "source": [
        "import torch\n",
        "import torch.nn as nn\n",
        "import math\n",
        "import torch.nn.functional as F\n",
        "from torch import Tensor\n",
        "from typing import Optional\n",
        "from typing import Tuple\n",
        "import torch.nn.init as init\n"
      ],
      "metadata": {
        "id": "JtnHXRtyq95y"
      },
      "execution_count": 1,
      "outputs": []
    },
    {
      "cell_type": "code",
      "source": [
        "import librosa\n",
        "import os\n",
        "import pandas as pd\n",
        "import numpy as np\n",
        "import torch\n",
        "from torch.nn.utils.rnn import pad_sequence\n",
        "import torch.nn as nn\n",
        "import torch.optim as optim\n",
        "import cv2\n",
        "import numpy as np"
      ],
      "metadata": {
        "id": "ZEGi6_Qmq2t5"
      },
      "execution_count": 2,
      "outputs": []
    },
    {
      "cell_type": "markdown",
      "source": [
        "Mounting drive"
      ],
      "metadata": {
        "id": "lu9ZSvm-ZpZ5"
      }
    },
    {
      "cell_type": "code",
      "source": [
        "from google.colab import drive\n",
        "drive.mount('/content/drive')"
      ],
      "metadata": {
        "id": "7Upmjv136MMQ",
        "colab": {
          "base_uri": "https://localhost:8080/"
        },
        "outputId": "ad415cf0-fca0-43d1-dc44-4f814e522b78"
      },
      "execution_count": 3,
      "outputs": [
        {
          "output_type": "stream",
          "name": "stdout",
          "text": [
            "Mounted at /content/drive\n"
          ]
        }
      ]
    },
    {
      "cell_type": "markdown",
      "source": [
        "Accesing GPU"
      ],
      "metadata": {
        "id": "m8WC2wcaZrgn"
      }
    },
    {
      "cell_type": "code",
      "source": [
        "if torch.cuda.is_available():\n",
        "    device = torch.device(\"cuda\")\n",
        "else:\n",
        "    device = torch.device(\"cpu\")"
      ],
      "metadata": {
        "id": "BdC1_XiwxM3p"
      },
      "execution_count": 4,
      "outputs": []
    },
    {
      "cell_type": "markdown",
      "source": [
        "Loading dataset"
      ],
      "metadata": {
        "id": "inMyQnO6ZtgN"
      }
    },
    {
      "cell_type": "code",
      "source": [
        "csv_file_path='/content/drive/MyDrive/archive (24)/TRAIN.csv'\n",
        "folder_path_train='/content/drive/MyDrive/archive (24)/TRAIN'\n"
      ],
      "metadata": {
        "id": "itw3N3UCY6fR"
      },
      "execution_count": 5,
      "outputs": []
    },
    {
      "cell_type": "code",
      "source": [
        "df=pd.read_csv('/content/drive/MyDrive/archive (24)/TRAIN.csv')"
      ],
      "metadata": {
        "id": "82wijGw7ITd2"
      },
      "execution_count": 6,
      "outputs": []
    },
    {
      "cell_type": "code",
      "source": [
        "df"
      ],
      "metadata": {
        "id": "OgisS_sEJQit",
        "colab": {
          "base_uri": "https://localhost:8080/",
          "height": 423
        },
        "outputId": "e334809c-5cb9-4c83-c850-dd5300572080"
      },
      "execution_count": 7,
      "outputs": [
        {
          "output_type": "execute_result",
          "data": {
            "text/plain": [
              "    Filename     Class\n",
              "0    346.wav  Negative\n",
              "1    163.wav   Neutral\n",
              "2    288.wav  Negative\n",
              "3    279.wav  Negative\n",
              "4    244.wav  Negative\n",
              "..       ...       ...\n",
              "245  204.wav   Neutral\n",
              "246   46.wav  Positive\n",
              "247  318.wav  Negative\n",
              "248   49.wav  Positive\n",
              "249  191.wav   Neutral\n",
              "\n",
              "[250 rows x 2 columns]"
            ],
            "text/html": [
              "\n",
              "  <div id=\"df-b279bfc8-9f45-43a4-884b-c9afaaa66bdb\" class=\"colab-df-container\">\n",
              "    <div>\n",
              "<style scoped>\n",
              "    .dataframe tbody tr th:only-of-type {\n",
              "        vertical-align: middle;\n",
              "    }\n",
              "\n",
              "    .dataframe tbody tr th {\n",
              "        vertical-align: top;\n",
              "    }\n",
              "\n",
              "    .dataframe thead th {\n",
              "        text-align: right;\n",
              "    }\n",
              "</style>\n",
              "<table border=\"1\" class=\"dataframe\">\n",
              "  <thead>\n",
              "    <tr style=\"text-align: right;\">\n",
              "      <th></th>\n",
              "      <th>Filename</th>\n",
              "      <th>Class</th>\n",
              "    </tr>\n",
              "  </thead>\n",
              "  <tbody>\n",
              "    <tr>\n",
              "      <th>0</th>\n",
              "      <td>346.wav</td>\n",
              "      <td>Negative</td>\n",
              "    </tr>\n",
              "    <tr>\n",
              "      <th>1</th>\n",
              "      <td>163.wav</td>\n",
              "      <td>Neutral</td>\n",
              "    </tr>\n",
              "    <tr>\n",
              "      <th>2</th>\n",
              "      <td>288.wav</td>\n",
              "      <td>Negative</td>\n",
              "    </tr>\n",
              "    <tr>\n",
              "      <th>3</th>\n",
              "      <td>279.wav</td>\n",
              "      <td>Negative</td>\n",
              "    </tr>\n",
              "    <tr>\n",
              "      <th>4</th>\n",
              "      <td>244.wav</td>\n",
              "      <td>Negative</td>\n",
              "    </tr>\n",
              "    <tr>\n",
              "      <th>...</th>\n",
              "      <td>...</td>\n",
              "      <td>...</td>\n",
              "    </tr>\n",
              "    <tr>\n",
              "      <th>245</th>\n",
              "      <td>204.wav</td>\n",
              "      <td>Neutral</td>\n",
              "    </tr>\n",
              "    <tr>\n",
              "      <th>246</th>\n",
              "      <td>46.wav</td>\n",
              "      <td>Positive</td>\n",
              "    </tr>\n",
              "    <tr>\n",
              "      <th>247</th>\n",
              "      <td>318.wav</td>\n",
              "      <td>Negative</td>\n",
              "    </tr>\n",
              "    <tr>\n",
              "      <th>248</th>\n",
              "      <td>49.wav</td>\n",
              "      <td>Positive</td>\n",
              "    </tr>\n",
              "    <tr>\n",
              "      <th>249</th>\n",
              "      <td>191.wav</td>\n",
              "      <td>Neutral</td>\n",
              "    </tr>\n",
              "  </tbody>\n",
              "</table>\n",
              "<p>250 rows × 2 columns</p>\n",
              "</div>\n",
              "    <div class=\"colab-df-buttons\">\n",
              "\n",
              "  <div class=\"colab-df-container\">\n",
              "    <button class=\"colab-df-convert\" onclick=\"convertToInteractive('df-b279bfc8-9f45-43a4-884b-c9afaaa66bdb')\"\n",
              "            title=\"Convert this dataframe to an interactive table.\"\n",
              "            style=\"display:none;\">\n",
              "\n",
              "  <svg xmlns=\"http://www.w3.org/2000/svg\" height=\"24px\" viewBox=\"0 -960 960 960\">\n",
              "    <path d=\"M120-120v-720h720v720H120Zm60-500h600v-160H180v160Zm220 220h160v-160H400v160Zm0 220h160v-160H400v160ZM180-400h160v-160H180v160Zm440 0h160v-160H620v160ZM180-180h160v-160H180v160Zm440 0h160v-160H620v160Z\"/>\n",
              "  </svg>\n",
              "    </button>\n",
              "\n",
              "  <style>\n",
              "    .colab-df-container {\n",
              "      display:flex;\n",
              "      gap: 12px;\n",
              "    }\n",
              "\n",
              "    .colab-df-convert {\n",
              "      background-color: #E8F0FE;\n",
              "      border: none;\n",
              "      border-radius: 50%;\n",
              "      cursor: pointer;\n",
              "      display: none;\n",
              "      fill: #1967D2;\n",
              "      height: 32px;\n",
              "      padding: 0 0 0 0;\n",
              "      width: 32px;\n",
              "    }\n",
              "\n",
              "    .colab-df-convert:hover {\n",
              "      background-color: #E2EBFA;\n",
              "      box-shadow: 0px 1px 2px rgba(60, 64, 67, 0.3), 0px 1px 3px 1px rgba(60, 64, 67, 0.15);\n",
              "      fill: #174EA6;\n",
              "    }\n",
              "\n",
              "    .colab-df-buttons div {\n",
              "      margin-bottom: 4px;\n",
              "    }\n",
              "\n",
              "    [theme=dark] .colab-df-convert {\n",
              "      background-color: #3B4455;\n",
              "      fill: #D2E3FC;\n",
              "    }\n",
              "\n",
              "    [theme=dark] .colab-df-convert:hover {\n",
              "      background-color: #434B5C;\n",
              "      box-shadow: 0px 1px 3px 1px rgba(0, 0, 0, 0.15);\n",
              "      filter: drop-shadow(0px 1px 2px rgba(0, 0, 0, 0.3));\n",
              "      fill: #FFFFFF;\n",
              "    }\n",
              "  </style>\n",
              "\n",
              "    <script>\n",
              "      const buttonEl =\n",
              "        document.querySelector('#df-b279bfc8-9f45-43a4-884b-c9afaaa66bdb button.colab-df-convert');\n",
              "      buttonEl.style.display =\n",
              "        google.colab.kernel.accessAllowed ? 'block' : 'none';\n",
              "\n",
              "      async function convertToInteractive(key) {\n",
              "        const element = document.querySelector('#df-b279bfc8-9f45-43a4-884b-c9afaaa66bdb');\n",
              "        const dataTable =\n",
              "          await google.colab.kernel.invokeFunction('convertToInteractive',\n",
              "                                                    [key], {});\n",
              "        if (!dataTable) return;\n",
              "\n",
              "        const docLinkHtml = 'Like what you see? Visit the ' +\n",
              "          '<a target=\"_blank\" href=https://colab.research.google.com/notebooks/data_table.ipynb>data table notebook</a>'\n",
              "          + ' to learn more about interactive tables.';\n",
              "        element.innerHTML = '';\n",
              "        dataTable['output_type'] = 'display_data';\n",
              "        await google.colab.output.renderOutput(dataTable, element);\n",
              "        const docLink = document.createElement('div');\n",
              "        docLink.innerHTML = docLinkHtml;\n",
              "        element.appendChild(docLink);\n",
              "      }\n",
              "    </script>\n",
              "  </div>\n",
              "\n",
              "\n",
              "<div id=\"df-7c86b748-5ee6-4cac-b5ad-2bed84c03495\">\n",
              "  <button class=\"colab-df-quickchart\" onclick=\"quickchart('df-7c86b748-5ee6-4cac-b5ad-2bed84c03495')\"\n",
              "            title=\"Suggest charts.\"\n",
              "            style=\"display:none;\">\n",
              "\n",
              "<svg xmlns=\"http://www.w3.org/2000/svg\" height=\"24px\"viewBox=\"0 0 24 24\"\n",
              "     width=\"24px\">\n",
              "    <g>\n",
              "        <path d=\"M19 3H5c-1.1 0-2 .9-2 2v14c0 1.1.9 2 2 2h14c1.1 0 2-.9 2-2V5c0-1.1-.9-2-2-2zM9 17H7v-7h2v7zm4 0h-2V7h2v10zm4 0h-2v-4h2v4z\"/>\n",
              "    </g>\n",
              "</svg>\n",
              "  </button>\n",
              "\n",
              "<style>\n",
              "  .colab-df-quickchart {\n",
              "      --bg-color: #E8F0FE;\n",
              "      --fill-color: #1967D2;\n",
              "      --hover-bg-color: #E2EBFA;\n",
              "      --hover-fill-color: #174EA6;\n",
              "      --disabled-fill-color: #AAA;\n",
              "      --disabled-bg-color: #DDD;\n",
              "  }\n",
              "\n",
              "  [theme=dark] .colab-df-quickchart {\n",
              "      --bg-color: #3B4455;\n",
              "      --fill-color: #D2E3FC;\n",
              "      --hover-bg-color: #434B5C;\n",
              "      --hover-fill-color: #FFFFFF;\n",
              "      --disabled-bg-color: #3B4455;\n",
              "      --disabled-fill-color: #666;\n",
              "  }\n",
              "\n",
              "  .colab-df-quickchart {\n",
              "    background-color: var(--bg-color);\n",
              "    border: none;\n",
              "    border-radius: 50%;\n",
              "    cursor: pointer;\n",
              "    display: none;\n",
              "    fill: var(--fill-color);\n",
              "    height: 32px;\n",
              "    padding: 0;\n",
              "    width: 32px;\n",
              "  }\n",
              "\n",
              "  .colab-df-quickchart:hover {\n",
              "    background-color: var(--hover-bg-color);\n",
              "    box-shadow: 0 1px 2px rgba(60, 64, 67, 0.3), 0 1px 3px 1px rgba(60, 64, 67, 0.15);\n",
              "    fill: var(--button-hover-fill-color);\n",
              "  }\n",
              "\n",
              "  .colab-df-quickchart-complete:disabled,\n",
              "  .colab-df-quickchart-complete:disabled:hover {\n",
              "    background-color: var(--disabled-bg-color);\n",
              "    fill: var(--disabled-fill-color);\n",
              "    box-shadow: none;\n",
              "  }\n",
              "\n",
              "  .colab-df-spinner {\n",
              "    border: 2px solid var(--fill-color);\n",
              "    border-color: transparent;\n",
              "    border-bottom-color: var(--fill-color);\n",
              "    animation:\n",
              "      spin 1s steps(1) infinite;\n",
              "  }\n",
              "\n",
              "  @keyframes spin {\n",
              "    0% {\n",
              "      border-color: transparent;\n",
              "      border-bottom-color: var(--fill-color);\n",
              "      border-left-color: var(--fill-color);\n",
              "    }\n",
              "    20% {\n",
              "      border-color: transparent;\n",
              "      border-left-color: var(--fill-color);\n",
              "      border-top-color: var(--fill-color);\n",
              "    }\n",
              "    30% {\n",
              "      border-color: transparent;\n",
              "      border-left-color: var(--fill-color);\n",
              "      border-top-color: var(--fill-color);\n",
              "      border-right-color: var(--fill-color);\n",
              "    }\n",
              "    40% {\n",
              "      border-color: transparent;\n",
              "      border-right-color: var(--fill-color);\n",
              "      border-top-color: var(--fill-color);\n",
              "    }\n",
              "    60% {\n",
              "      border-color: transparent;\n",
              "      border-right-color: var(--fill-color);\n",
              "    }\n",
              "    80% {\n",
              "      border-color: transparent;\n",
              "      border-right-color: var(--fill-color);\n",
              "      border-bottom-color: var(--fill-color);\n",
              "    }\n",
              "    90% {\n",
              "      border-color: transparent;\n",
              "      border-bottom-color: var(--fill-color);\n",
              "    }\n",
              "  }\n",
              "</style>\n",
              "\n",
              "  <script>\n",
              "    async function quickchart(key) {\n",
              "      const quickchartButtonEl =\n",
              "        document.querySelector('#' + key + ' button');\n",
              "      quickchartButtonEl.disabled = true;  // To prevent multiple clicks.\n",
              "      quickchartButtonEl.classList.add('colab-df-spinner');\n",
              "      try {\n",
              "        const charts = await google.colab.kernel.invokeFunction(\n",
              "            'suggestCharts', [key], {});\n",
              "      } catch (error) {\n",
              "        console.error('Error during call to suggestCharts:', error);\n",
              "      }\n",
              "      quickchartButtonEl.classList.remove('colab-df-spinner');\n",
              "      quickchartButtonEl.classList.add('colab-df-quickchart-complete');\n",
              "    }\n",
              "    (() => {\n",
              "      let quickchartButtonEl =\n",
              "        document.querySelector('#df-7c86b748-5ee6-4cac-b5ad-2bed84c03495 button');\n",
              "      quickchartButtonEl.style.display =\n",
              "        google.colab.kernel.accessAllowed ? 'block' : 'none';\n",
              "    })();\n",
              "  </script>\n",
              "</div>\n",
              "    </div>\n",
              "  </div>\n"
            ]
          },
          "metadata": {},
          "execution_count": 7
        }
      ]
    },
    {
      "cell_type": "markdown",
      "source": [
        "Splitting dataset"
      ],
      "metadata": {
        "id": "yaxCKnRsZxTH"
      }
    },
    {
      "cell_type": "code",
      "source": [
        "#split df into train,test,validation\n",
        "from sklearn.model_selection import train_test_split\n",
        "train_df,temp=train_test_split(df,test_size=0.3,random_state=28)\n",
        "test_df,valid_df=train_test_split(temp,test_size=0.6,random_state=28)"
      ],
      "metadata": {
        "id": "QGghhUe-JTKB"
      },
      "execution_count": 8,
      "outputs": []
    },
    {
      "cell_type": "code",
      "source": [
        "train_df.shape"
      ],
      "metadata": {
        "id": "5dvUd18sJrZX",
        "colab": {
          "base_uri": "https://localhost:8080/"
        },
        "outputId": "280705bc-2554-4166-b512-96de125b0d08"
      },
      "execution_count": 9,
      "outputs": [
        {
          "output_type": "execute_result",
          "data": {
            "text/plain": [
              "(175, 2)"
            ]
          },
          "metadata": {},
          "execution_count": 9
        }
      ]
    },
    {
      "cell_type": "code",
      "source": [
        "valid_df.shape"
      ],
      "metadata": {
        "id": "gQJ9E5UyJvd5",
        "colab": {
          "base_uri": "https://localhost:8080/"
        },
        "outputId": "8ff33bd4-c330-424b-eb12-7d1634c2b6dc"
      },
      "execution_count": 10,
      "outputs": [
        {
          "output_type": "execute_result",
          "data": {
            "text/plain": [
              "(45, 2)"
            ]
          },
          "metadata": {},
          "execution_count": 10
        }
      ]
    },
    {
      "cell_type": "code",
      "source": [
        "test_df.shape"
      ],
      "metadata": {
        "id": "juqyrDw4Jtjr",
        "colab": {
          "base_uri": "https://localhost:8080/"
        },
        "outputId": "b2953f4b-06b7-4f14-e583-0764d6cb0dc9"
      },
      "execution_count": 11,
      "outputs": [
        {
          "output_type": "execute_result",
          "data": {
            "text/plain": [
              "(30, 2)"
            ]
          },
          "metadata": {},
          "execution_count": 11
        }
      ]
    },
    {
      "cell_type": "markdown",
      "source": [
        "Class for loading audio files"
      ],
      "metadata": {
        "id": "gSoi8EVrZ1K0"
      }
    },
    {
      "cell_type": "code",
      "source": [
        "class AudioDataset(torch.utils.data.Dataset):\n",
        "  def __init__(self, folder_path, target_sample_rate,csv_file, resize_dim=(15,800)):\n",
        "    self.csv_file = csv_file\n",
        "    self.folder_path = folder_path\n",
        "    self.sample_rate = target_sample_rate\n",
        "    self.resize_dim =  resize_dim\n",
        "    self.mapping = {\"Positive\": [1, 0, 0], \"Neutral\": [0, 1, 0], \"Negative\": [0, 0, 1]}\n",
        "\n",
        "  def __getitem__(self, idx):\n",
        "    filename = os.path.join(self.folder_path, self.csv_file.iloc[idx, 0])\n",
        "    audio_data, sr = librosa.load(filename, sr=self.sample_rate)\n",
        "    audio_data = librosa.feature.melspectrogram(y=audio_data,sr=target_sample_rate,n_fft=400,hop_length=160,n_mels=15)\n",
        "    audio_data = cv2.resize(audio_data, self.resize_dim)\n",
        "    audio_data=audio_data.reshape(1,800,15)\n",
        "    labels = self.csv_file.iloc[idx, 1]\n",
        "    labels = np.array(self.mapping[labels])\n",
        "\n",
        "    return audio_data,  labels\n",
        "\n",
        "  def __len__(self):\n",
        "    return len(self.csv_file)\n"
      ],
      "metadata": {
        "id": "sGb1dQ5yYztx"
      },
      "execution_count": 12,
      "outputs": []
    },
    {
      "cell_type": "code",
      "source": [
        "target_sample_rate=44100"
      ],
      "metadata": {
        "id": "LCwBlnuItk2S"
      },
      "execution_count": 13,
      "outputs": []
    },
    {
      "cell_type": "code",
      "source": [
        "train_data=AudioDataset(folder_path_train,44100,train_df)\n",
        "valid_data=AudioDataset(folder_path_train,44100,valid_df)\n",
        "test_data=AudioDataset(folder_path_train,44100,test_df)"
      ],
      "metadata": {
        "id": "8RYj3lg3YeQf"
      },
      "execution_count": 14,
      "outputs": []
    },
    {
      "cell_type": "code",
      "source": [
        "print(len(train_data))"
      ],
      "metadata": {
        "id": "DlrfLyrrqeKA",
        "colab": {
          "base_uri": "https://localhost:8080/"
        },
        "outputId": "87c1ffe9-9d1e-4312-dcfb-46cc28a15b51"
      },
      "execution_count": 15,
      "outputs": [
        {
          "output_type": "stream",
          "name": "stdout",
          "text": [
            "175\n"
          ]
        }
      ]
    },
    {
      "cell_type": "code",
      "source": [
        "print(len(test_data))"
      ],
      "metadata": {
        "id": "usn2ZwCGqlXg",
        "colab": {
          "base_uri": "https://localhost:8080/"
        },
        "outputId": "58271c4a-97fc-4a30-c3df-141a413c9ad4"
      },
      "execution_count": 16,
      "outputs": [
        {
          "output_type": "stream",
          "name": "stdout",
          "text": [
            "30\n"
          ]
        }
      ]
    },
    {
      "cell_type": "code",
      "source": [
        "train_data[65][0].shape"
      ],
      "metadata": {
        "id": "U2bnQE8qDbHA",
        "colab": {
          "base_uri": "https://localhost:8080/"
        },
        "outputId": "a84f5260-25c9-4069-cd25-15299e1e7dd4"
      },
      "execution_count": 17,
      "outputs": [
        {
          "output_type": "execute_result",
          "data": {
            "text/plain": [
              "(1, 800, 15)"
            ]
          },
          "metadata": {},
          "execution_count": 17
        }
      ]
    },
    {
      "cell_type": "markdown",
      "source": [
        "creating batches using dataloader"
      ],
      "metadata": {
        "id": "qvEZiM9uZ6P0"
      }
    },
    {
      "cell_type": "code",
      "source": [
        "from torch.utils.data import  DataLoader\n",
        "train_dataloader = DataLoader(train_data, batch_size=8, shuffle=True, drop_last=True)\n",
        "test_dataloader = DataLoader(test_data, batch_size=8,shuffle=True, drop_last=True)\n",
        "valid_dataloader = DataLoader(valid_data, batch_size=8,shuffle=True, drop_last=True)"
      ],
      "metadata": {
        "id": "WJLbNpitcFoo"
      },
      "execution_count": 18,
      "outputs": []
    },
    {
      "cell_type": "code",
      "source": [
        "len(train_dataloader)"
      ],
      "metadata": {
        "id": "BOO4ZBoStDsa",
        "colab": {
          "base_uri": "https://localhost:8080/"
        },
        "outputId": "08b85544-5436-47cd-bac8-51858a04f6e7"
      },
      "execution_count": 19,
      "outputs": [
        {
          "output_type": "execute_result",
          "data": {
            "text/plain": [
              "21"
            ]
          },
          "metadata": {},
          "execution_count": 19
        }
      ]
    },
    {
      "cell_type": "code",
      "source": [
        "len(valid_dataloader)"
      ],
      "metadata": {
        "id": "pPOg4q42tKIl",
        "colab": {
          "base_uri": "https://localhost:8080/"
        },
        "outputId": "3ca67d0b-d6b8-4283-bdcb-fcd96314b3ac"
      },
      "execution_count": 20,
      "outputs": [
        {
          "output_type": "execute_result",
          "data": {
            "text/plain": [
              "5"
            ]
          },
          "metadata": {},
          "execution_count": 20
        }
      ]
    },
    {
      "cell_type": "code",
      "source": [
        "len(test_dataloader)"
      ],
      "metadata": {
        "id": "434Lp6y3s_cH",
        "colab": {
          "base_uri": "https://localhost:8080/"
        },
        "outputId": "f95c06bb-37ce-4cfd-e7ba-c7283a3f8051"
      },
      "execution_count": 21,
      "outputs": [
        {
          "output_type": "execute_result",
          "data": {
            "text/plain": [
              "3"
            ]
          },
          "metadata": {},
          "execution_count": 21
        }
      ]
    },
    {
      "cell_type": "code",
      "source": [
        "for audios,labels in train_dataloader:\n",
        "  print(audios.shape, labels.shape)\n",
        "  break"
      ],
      "metadata": {
        "id": "032snSQYcFoo",
        "colab": {
          "base_uri": "https://localhost:8080/"
        },
        "outputId": "bf0ad68d-db18-4838-cd60-ab7e953ba79f"
      },
      "execution_count": 22,
      "outputs": [
        {
          "output_type": "stream",
          "name": "stdout",
          "text": [
            "torch.Size([8, 1, 800, 15]) torch.Size([8, 3])\n"
          ]
        }
      ]
    },
    {
      "cell_type": "markdown",
      "source": [
        "Positional embedding"
      ],
      "metadata": {
        "id": "zSy9B0buMJw6"
      }
    },
    {
      "cell_type": "code",
      "source": [
        "class PositionalEncoding(nn.Module):\n",
        "    \"\"\"\n",
        "    Positional Encoding proposed in \"Attention Is All You Need\".\n",
        "    Since transformer contains no recurrence and no convolution, in order for the model to make\n",
        "    use of the order of the sequence, we must add some positional information.\n",
        "\n",
        "    \"Attention Is All You Need\" use sine and cosine functions of different frequencies:\n",
        "        PE_(pos, 2i)    =  sin(pos / power(10000, 2i / d_model))\n",
        "        PE_(pos, 2i+1)  =  cos(pos / power(10000, 2i / d_model))\n",
        "    \"\"\"\n",
        "    def __init__(self, d_model: int = 512, max_len: int = 800) -> None:\n",
        "        super(PositionalEncoding, self).__init__()\n",
        "        pe = torch.zeros(max_len, d_model, requires_grad=False)\n",
        "        position = torch.arange(0, max_len, dtype=torch.float).unsqueeze(1)\n",
        "        div_term = torch.exp(torch.arange(0, d_model, 2).float() * -(math.log(10000.0) / d_model))\n",
        "        pe[:, 0::2] = torch.sin(position * div_term)\n",
        "        pe[:, 1::2] = torch.cos(position * div_term)\n",
        "        pe = pe.unsqueeze(0)\n",
        "        self.register_buffer('pe', pe)\n",
        "\n",
        "    def forward(self, length: int) -> torch.Tensor:\n",
        "        result = self.pe[:, :length]\n",
        "        #print(\"pos_encoding output\",result.shape)\n",
        "        return result"
      ],
      "metadata": {
        "id": "EzEcgr3PMJcG"
      },
      "execution_count": 23,
      "outputs": []
    },
    {
      "cell_type": "markdown",
      "source": [
        "Activation function"
      ],
      "metadata": {
        "id": "pwv7mbfjMyhD"
      }
    },
    {
      "cell_type": "code",
      "source": [
        "class Swish(nn.Module):\n",
        "    \"\"\"\n",
        "    Swish is a smooth, non-monotonic function that consistently matches or outperforms ReLU on deep networks applied\n",
        "    to a variety of challenging domains such as Image classification and Machine translation.\n",
        "    \"\"\"\n",
        "    def __init__(self):\n",
        "        super(Swish, self).__init__()\n",
        "\n",
        "    def forward(self, inputs: Tensor) -> Tensor:\n",
        "        result= inputs * inputs.sigmoid()\n",
        "        #print(\"swish output\",result.shape)  # Print the result\n",
        "        return result\n",
        "\n",
        "\n",
        "class GLU(nn.Module):\n",
        "    \"\"\"\n",
        "    The gating mechanism is called Gated Linear Units (GLU), which was first introduced for natural language processing\n",
        "    in the paper “Language Modeling with Gated Convolutional Networks”\n",
        "    \"\"\"\n",
        "\n",
        "    def __init__(self, dim: int) -> None:\n",
        "        super(GLU, self).__init__()\n",
        "        self.dim = dim\n",
        "\n",
        "    def forward(self, inputs: torch.Tensor) -> torch.Tensor:\n",
        "\n",
        "        outputs, gate = inputs.chunk(2, dim=self.dim)\n",
        "        result = outputs * gate.sigmoid()\n",
        "        #print('GLU output',result.shape)  # Print the result\n",
        "        return result"
      ],
      "metadata": {
        "id": "q30fmxfKMxJw"
      },
      "execution_count": 24,
      "outputs": []
    },
    {
      "cell_type": "markdown",
      "source": [
        "#modules"
      ],
      "metadata": {
        "id": "8TzIomcqO9ld"
      }
    },
    {
      "cell_type": "code",
      "source": [
        "class ResidualConnectionModule(nn.Module):\n",
        "    \"\"\"\n",
        "    Residual Connection Module.\n",
        "    outputs = (module(inputs) x module_factor + inputs x input_factor)\n",
        "    \"\"\"\n",
        "    def __init__(self, module: nn.Module, module_factor: float = 1.0, input_factor: float = 1.0):\n",
        "        super(ResidualConnectionModule, self).__init__()\n",
        "        self.module = module\n",
        "        self.module_factor = module_factor\n",
        "        self.input_factor = input_factor\n",
        "\n",
        "    def forward(self, inputs: Tensor) -> Tensor:\n",
        "        return (self.module(inputs) * self.module_factor) + (inputs * self.input_factor)\n",
        "\n",
        "\n",
        "class Linear(nn.Module):\n",
        "    \"\"\"\n",
        "    Wrapper class of torch.nn.Linear\n",
        "    Weight initialize by xavier initialization and bias initialize to zeros.\n",
        "    \"\"\"\n",
        "    def __init__(self, in_features: int, out_features: int, bias: bool = True) -> None:\n",
        "        super(Linear, self).__init__()\n",
        "        self.linear = nn.Linear(in_features, out_features, bias=bias)\n",
        "        init.xavier_uniform_(self.linear.weight)\n",
        "        if bias:\n",
        "            init.zeros_(self.linear.bias)\n",
        "\n",
        "    def forward(self, x: Tensor) -> Tensor:\n",
        "        return self.linear(x)\n",
        "\n",
        "\n",
        "class View(nn.Module):\n",
        "    \"\"\" Wrapper class of torch.view() for Sequential module. \"\"\"\n",
        "    def __init__(self, shape: tuple, contiguous: bool = False):\n",
        "        super(View, self).__init__()\n",
        "        self.shape = shape\n",
        "        self.contiguous = contiguous\n",
        "\n",
        "    def forward(self, x: Tensor) -> Tensor:\n",
        "        if self.contiguous:\n",
        "            x = x.contiguous()\n",
        "\n",
        "        return x.view(*self.shape)\n",
        "\n",
        "\n",
        "class Transpose(nn.Module):\n",
        "    \"\"\" Wrapper class of torch.transpose() for Sequential module. \"\"\"\n",
        "    def __init__(self, shape: tuple):\n",
        "        super(Transpose, self).__init__()\n",
        "        self.shape = shape\n",
        "\n",
        "    def forward(self, x: Tensor) -> Tensor:\n",
        "        return x.transpose(*self.shape)"
      ],
      "metadata": {
        "id": "HCd4S0VmNbMy"
      },
      "execution_count": 25,
      "outputs": []
    },
    {
      "cell_type": "markdown",
      "source": [
        "#Attention module"
      ],
      "metadata": {
        "id": "3pSxEo5ZQALp"
      }
    },
    {
      "cell_type": "code",
      "source": [
        "class RelativeMultiHeadAttention(nn.Module):\n",
        "    \"\"\"\n",
        "    Multi-head attention with relative positional encoding.\n",
        "    This concept was proposed in the \"Transformer-XL: Attentive Language Models Beyond a Fixed-Length Context\"\n",
        "\n",
        "    Args:\n",
        "        d_model (int): The dimension of model\n",
        "        num_heads (int): The number of attention heads.\n",
        "        dropout_p (float): probability of dropout\n",
        "\n",
        "    Inputs: query, key, value, pos_embedding, mask\n",
        "        - **query** (batch, time, dim): Tensor containing query vector\n",
        "        - **key** (batch, time, dim): Tensor containing key vector\n",
        "        - **value** (batch, time, dim): Tensor containing value vector\n",
        "        - **pos_embedding** (batch, time, dim): Positional embedding tensor\n",
        "        - **mask** (batch, 1, time2) or (batch, time1, time2): Tensor containing indices to be masked\n",
        "\n",
        "    Returns:\n",
        "        - **outputs**: Tensor produces by relative multi head attention module.\n",
        "    \"\"\"\n",
        "    def __init__(\n",
        "            self,\n",
        "            d_model: int = 512,\n",
        "            num_heads: int = 16,\n",
        "            dropout_p: float = 0.1,\n",
        "    ):\n",
        "        super(RelativeMultiHeadAttention, self).__init__()\n",
        "        assert d_model % num_heads == 0, \"d_model % num_heads should be zero.\"\n",
        "        self.d_model = d_model\n",
        "        self.d_head = int(d_model / num_heads)\n",
        "        self.num_heads = num_heads\n",
        "        self.sqrt_dim = math.sqrt(d_model)\n",
        "\n",
        "        self.query_proj = Linear(d_model, d_model)\n",
        "        self.key_proj = Linear(d_model, d_model)\n",
        "        self.value_proj = Linear(d_model, d_model)\n",
        "        self.pos_proj = Linear(d_model, d_model, bias=False)\n",
        "\n",
        "        self.dropout = nn.Dropout(p=dropout_p)\n",
        "        self.u_bias = nn.Parameter(torch.Tensor(self.num_heads, self.d_head))\n",
        "        self.v_bias = nn.Parameter(torch.Tensor(self.num_heads, self.d_head))\n",
        "        torch.nn.init.xavier_uniform_(self.u_bias)\n",
        "        torch.nn.init.xavier_uniform_(self.v_bias)\n",
        "\n",
        "        self.out_proj = Linear(d_model, d_model)\n",
        "\n",
        "    def forward(\n",
        "            self,\n",
        "            query: Tensor,\n",
        "            key: Tensor,\n",
        "            value: Tensor,\n",
        "            pos_embedding: Tensor,\n",
        "            mask: Optional[Tensor] = None,\n",
        "    ) -> Tensor:\n",
        "        batch_size = value.size(0)\n",
        "\n",
        "        query = self.query_proj(query).view(batch_size, -1, self.num_heads, self.d_head)\n",
        "        key = self.key_proj(key).view(batch_size, -1, self.num_heads, self.d_head).permute(0, 2, 1, 3)\n",
        "        value = self.value_proj(value).view(batch_size, -1, self.num_heads, self.d_head).permute(0, 2, 1, 3)\n",
        "        pos_embedding = self.pos_proj(pos_embedding).view(batch_size, -1, self.num_heads, self.d_head)\n",
        "\n",
        "        content_score = torch.matmul((query + self.u_bias).transpose(1, 2), key.transpose(2, 3))\n",
        "        pos_score = torch.matmul((query + self.v_bias).transpose(1, 2), pos_embedding.permute(0, 2, 3, 1))\n",
        "        pos_score = self._relative_shift(pos_score)\n",
        "\n",
        "        score = (content_score + pos_score) / self.sqrt_dim\n",
        "\n",
        "        if mask is not None:\n",
        "            mask = mask.unsqueeze(1)\n",
        "            score.masked_fill_(mask, -1e9)\n",
        "\n",
        "        attn = F.softmax(score, -1)\n",
        "        attn = self.dropout(attn)\n",
        "\n",
        "        context = torch.matmul(attn, value).transpose(1, 2)\n",
        "        context = context.contiguous().view(batch_size, -1, self.d_model)\n",
        "\n",
        "        return self.out_proj(context)\n",
        "\n",
        "    def _relative_shift(self, pos_score: Tensor) -> Tensor:\n",
        "        batch_size, num_heads, seq_length1, seq_length2 = pos_score.size()\n",
        "        zeros = pos_score.new_zeros(batch_size, num_heads, seq_length1, 1)\n",
        "        padded_pos_score = torch.cat([zeros, pos_score], dim=-1)\n",
        "\n",
        "        padded_pos_score = padded_pos_score.view(batch_size, num_heads, seq_length2 + 1, seq_length1)\n",
        "        pos_score = padded_pos_score[:, :, 1:].view_as(pos_score)\n",
        "\n",
        "        return pos_score\n",
        "\n",
        "\n",
        "class MultiHeadedSelfAttentionModule(nn.Module):\n",
        "    \"\"\"\n",
        "    Conformer employ multi-headed self-attention (MHSA) while integrating an important technique from Transformer-XL,\n",
        "    the relative sinusoidal positional encoding scheme. The relative positional encoding allows the self-attention\n",
        "    module to generalize better on different input length and the resulting encoder is more robust to the variance of\n",
        "    the utterance length. Conformer use prenorm residual units with dropout which helps training\n",
        "    and regularizing deeper models.\n",
        "\n",
        "    Args:\n",
        "        d_model (int): The dimension of model\n",
        "        num_heads (int): The number of attention heads.\n",
        "        dropout_p (float): probability of dropout\n",
        "\n",
        "    Inputs: inputs, mask\n",
        "        - **inputs** (batch, time, dim): Tensor containing input vector\n",
        "        - **mask** (batch, 1, time2) or (batch, time1, time2): Tensor containing indices to be masked\n",
        "\n",
        "    Returns:\n",
        "        - **outputs** (batch, time, dim): Tensor produces by relative multi headed self attention module.\n",
        "    \"\"\"\n",
        "    def __init__(self, d_model: int, num_heads: int, dropout_p: float = 0.1):\n",
        "        super(MultiHeadedSelfAttentionModule, self).__init__()\n",
        "        self.positional_encoding = PositionalEncoding(d_model)\n",
        "        self.layer_norm = nn.LayerNorm(d_model)\n",
        "        self.attention = RelativeMultiHeadAttention(d_model, num_heads, dropout_p)\n",
        "        self.dropout = nn.Dropout(p=dropout_p)\n",
        "\n",
        "    def forward(self, inputs: Tensor, mask: Optional[Tensor] = None):\n",
        "        batch_size, seq_length, _ = inputs.size()\n",
        "        pos_embedding = self.positional_encoding(seq_length)\n",
        "        pos_embedding = pos_embedding.repeat(batch_size, 1, 1)\n",
        "\n",
        "        inputs = self.layer_norm(inputs)\n",
        "        outputs = self.attention(inputs, inputs, inputs, pos_embedding=pos_embedding, mask=mask)\n",
        "\n",
        "        # Print the results within the function\n",
        "        #print(\"attention Input Shape:\", inputs.shape)\n",
        "        #print(\"attention Output Shape:\", outputs.shape)\n",
        "\n",
        "        return self.dropout(outputs)"
      ],
      "metadata": {
        "id": "LQQN968bM_LF"
      },
      "execution_count": 26,
      "outputs": []
    },
    {
      "cell_type": "markdown",
      "source": [
        "#convolution module"
      ],
      "metadata": {
        "id": "434K6COnQGkL"
      }
    },
    {
      "cell_type": "code",
      "source": [
        "class DepthwiseConv1d(nn.Module):\n",
        "    \"\"\"\n",
        "    When groups == in_channels and out_channels == K * in_channels, where K is a positive integer,\n",
        "    this operation is termed in literature as depthwise convolution.\n",
        "\n",
        "    Args:\n",
        "        in_channels (int): Number of channels in the input\n",
        "        out_channels (int): Number of channels produced by the convolution\n",
        "        kernel_size (int or tuple): Size of the convolving kernel\n",
        "        stride (int, optional): Stride of the convolution. Default: 1\n",
        "        padding (int or tuple, optional): Zero-padding added to both sides of the input. Default: 0\n",
        "        bias (bool, optional): If True, adds a learnable bias to the output. Default: True\n",
        "\n",
        "    Inputs: inputs\n",
        "        - **inputs** (batch, in_channels, time): Tensor containing input vector\n",
        "\n",
        "    Returns: outputs\n",
        "        - **outputs** (batch, out_channels, time): Tensor produces by depthwise 1-D convolution.\n",
        "    \"\"\"\n",
        "    def __init__(\n",
        "            self,\n",
        "            in_channels: int,\n",
        "            out_channels: int,\n",
        "            kernel_size: int,\n",
        "            stride: int = 1,\n",
        "            padding: int = 0,\n",
        "            bias: bool = False,\n",
        "    ) -> None:\n",
        "        super(DepthwiseConv1d, self).__init__()\n",
        "        assert out_channels % in_channels == 0, \"out_channels should be constant multiple of in_channels\"\n",
        "        self.conv = nn.Conv1d(\n",
        "            in_channels=in_channels,\n",
        "            out_channels=out_channels,\n",
        "            kernel_size=kernel_size,\n",
        "            groups=in_channels,\n",
        "            stride=stride,\n",
        "            padding=padding,\n",
        "            bias=bias,\n",
        "        )\n",
        "\n",
        "    def forward(self, inputs: Tensor) -> Tensor:\n",
        "        outputs = self.conv(inputs)\n",
        "        #print(\"Convolution Output Shape:\", outputs.shape)\n",
        "        return outputs\n",
        "\n",
        "\n",
        "class PointwiseConv1d(nn.Module):\n",
        "    \"\"\"\n",
        "    When kernel size == 1 conv1d, this operation is termed in literature as pointwise convolution.\n",
        "    This operation often used to match dimensions.\n",
        "\n",
        "    Args:\n",
        "        in_channels (int): Number of channels in the input\n",
        "        out_channels (int): Number of channels produced by the convolution\n",
        "        stride (int, optional): Stride of the convolution. Default: 1\n",
        "        padding (int or tuple, optional): Zero-padding added to both sides of the input. Default: 0\n",
        "        bias (bool, optional): If True, adds a learnable bias to the output. Default: True\n",
        "\n",
        "    Inputs: inputs\n",
        "        - **inputs** (batch, in_channels, time): Tensor containing input vector\n",
        "\n",
        "    Returns: outputs\n",
        "        - **outputs** (batch, out_channels, time): Tensor produces by pointwise 1-D convolution.\n",
        "    \"\"\"\n",
        "    def __init__(\n",
        "            self,\n",
        "            in_channels: int,\n",
        "            out_channels: int,\n",
        "            stride: int = 1,\n",
        "            padding: int = 0,\n",
        "            bias: bool = True,\n",
        "    ) -> None:\n",
        "        super(PointwiseConv1d, self).__init__()\n",
        "        self.conv = nn.Conv1d(\n",
        "            in_channels=in_channels,\n",
        "            out_channels=out_channels,\n",
        "            kernel_size=1,\n",
        "            stride=stride,\n",
        "            padding=padding,\n",
        "            bias=bias,\n",
        "        )\n",
        "\n",
        "    def forward(self, inputs: Tensor) -> Tensor:\n",
        "        outputs = self.conv(inputs)\n",
        "        #print(\"Pointwise Convolution Output Shape:\", outputs.shape)\n",
        "        return outputs\n",
        "\n",
        "\n",
        "class ConformerConvModule(nn.Module):\n",
        "    \"\"\"\n",
        "    Conformer convolution module starts with a pointwise convolution and a gated linear unit (GLU).\n",
        "    This is followed by a single 1-D depthwise convolution layer. Batchnorm is  deployed just after the convolution\n",
        "    to aid training deep models.\n",
        "\n",
        "    Args:\n",
        "        in_channels (int): Number of channels in the input\n",
        "        kernel_size (int or tuple, optional): Size of the convolving kernel Default: 31\n",
        "        dropout_p (float, optional): probability of dropout\n",
        "\n",
        "    Inputs: inputs\n",
        "        inputs (batch, time, dim): Tensor contains input sequences\n",
        "\n",
        "    Outputs: outputs\n",
        "        outputs (batch, time, dim): Tensor produces by conformer convolution module.\n",
        "    \"\"\"\n",
        "    def __init__(\n",
        "            self,\n",
        "            in_channels: int,\n",
        "            kernel_size: int = 31,\n",
        "            expansion_factor: int = 2,\n",
        "            dropout_p: float = 0.1,\n",
        "    ) -> None:\n",
        "        super(ConformerConvModule, self).__init__()\n",
        "        assert (kernel_size - 1) % 2 == 0, \"kernel_size should be a odd number for 'SAME' padding\"\n",
        "        assert expansion_factor == 2, \"Currently, Only Supports expansion_factor 2\"\n",
        "\n",
        "        self.sequential = nn.Sequential(\n",
        "            nn.LayerNorm(in_channels),\n",
        "            Transpose(shape=(1, 2)),\n",
        "            PointwiseConv1d(in_channels, in_channels * expansion_factor, stride=1, padding=0, bias=True),\n",
        "            GLU(dim=1),\n",
        "            DepthwiseConv1d(in_channels, in_channels, kernel_size, stride=1, padding=(kernel_size - 1) // 2),\n",
        "            nn.BatchNorm1d(in_channels),\n",
        "            Swish(),\n",
        "            PointwiseConv1d(in_channels, in_channels, stride=1, padding=0, bias=True),\n",
        "            nn.Dropout(p=dropout_p),\n",
        "        )\n",
        "\n",
        "    def forward(self, inputs: Tensor) -> Tensor:\n",
        "            output = self.sequential(inputs).transpose(1, 2)\n",
        "            # Print the shape of the output tensor\n",
        "            #print(\" conformer convolutional modelOutput Shape:\", output.shape)\n",
        "\n",
        "            return output\n",
        "\n",
        "\n",
        "class Conv2dSubampling(nn.Module):\n",
        "    \"\"\"\n",
        "    Convolutional 2D subsampling (to 1/4 length)\n",
        "\n",
        "    Args:\n",
        "        in_channels (int): Number of channels in the input image\n",
        "        out_channels (int): Number of channels produced by the convolution\n",
        "\n",
        "    Inputs: inputs\n",
        "        - **inputs** (batch, time, dim): Tensor containing sequence of inputs\n",
        "\n",
        "    Returns: outputs, output_lengths\n",
        "        - **outputs** (batch, time, dim): Tensor produced by the convolution\n",
        "        - **output_lengths** (batch): list of sequence output lengths\n",
        "    \"\"\"\n",
        "    def __init__(self, in_channels: int, out_channels: int) -> None:\n",
        "        super(Conv2dSubampling, self).__init__()\n",
        "        self.sequential = nn.Sequential(\n",
        "            nn.Conv2d(in_channels, out_channels, kernel_size=3, stride=2),\n",
        "            nn.ReLU(),\n",
        "            nn.Conv2d(out_channels, out_channels, kernel_size=3, stride=2),\n",
        "            nn.ReLU(),\n",
        "        )\n",
        "\n",
        "    def forward(self, inputs: Tensor, input_lengths: Tensor) -> Tuple[Tensor, Tensor]:\n",
        "       # print(\"Conv2dSubsampling Input Shape:\", inputs.shape)  # Print the input shape\n",
        "        outputs = self.sequential(inputs.unsqueeze(1))\n",
        "        batch_size, channels, subsampled_lengths, sumsampled_dim = outputs.size()\n",
        "\n",
        "        outputs = outputs.permute(0, 2, 1, 3)\n",
        "        outputs = outputs.contiguous().view(batch_size, subsampled_lengths, channels * sumsampled_dim)\n",
        "\n",
        "        output_lengths = input_lengths >> 2\n",
        "        output_lengths -= 1\n",
        "\n",
        "        # Print the output shape\n",
        "        #print(\"Conv2dSubampling Output Shape:\", outputs.shape)\n",
        "        return outputs, output_lengths"
      ],
      "metadata": {
        "id": "0vwTmz_LOJ81"
      },
      "execution_count": 27,
      "outputs": []
    },
    {
      "cell_type": "markdown",
      "source": [
        "#Feed forward layer"
      ],
      "metadata": {
        "id": "zrAJKfBienQe"
      }
    },
    {
      "cell_type": "code",
      "source": [
        "class FeedForwardModule(nn.Module):\n",
        "    \"\"\"\n",
        "    Conformer Feed Forward Module follow pre-norm residual units and apply layer normalization within the residual unit\n",
        "    and on the input before the first linear layer. This module also apply Swish activation and dropout, which helps\n",
        "    regularizing the network.\n",
        "\n",
        "    Args:\n",
        "        encoder_dim (int): Dimension of conformer encoder\n",
        "        expansion_factor (int): Expansion factor of feed forward module.\n",
        "        dropout_p (float): Ratio of dropout\n",
        "\n",
        "    Inputs: inputs\n",
        "        - **inputs** (batch, time, dim): Tensor contains input sequences\n",
        "\n",
        "    Outputs: outputs\n",
        "        - **outputs** (batch, time, dim): Tensor produces by feed forward module.\n",
        "    \"\"\"\n",
        "    def __init__(\n",
        "            self,\n",
        "            encoder_dim: int = 512,\n",
        "            expansion_factor: int = 4,\n",
        "            dropout_p: float = 0.1,\n",
        "    ) -> None:\n",
        "        super(FeedForwardModule, self).__init__()\n",
        "        self.sequential = nn.Sequential(\n",
        "            nn.LayerNorm(encoder_dim),\n",
        "            Linear(encoder_dim, encoder_dim * expansion_factor, bias=True),\n",
        "            Swish(),\n",
        "            nn.Dropout(p=dropout_p),\n",
        "            Linear(encoder_dim * expansion_factor, encoder_dim, bias=True),\n",
        "            nn.Dropout(p=dropout_p),\n",
        "        )\n",
        "\n",
        "    def forward(self, inputs: Tensor) -> Tensor:\n",
        "        outputs = self.sequential(inputs)\n",
        "\n",
        "        # Print the output shape\n",
        "        #print(\"feed forward Output Shape:\", outputs.shape)\n",
        "\n",
        "        return outputs"
      ],
      "metadata": {
        "id": "hZk7lkHoNtrQ"
      },
      "execution_count": 28,
      "outputs": []
    },
    {
      "cell_type": "code",
      "source": [
        "class ConformerBlock(nn.Module):\n",
        "    \"\"\"\n",
        "    Conformer block contains two Feed Forward modules sandwiching the Multi-Headed Self-Attention module\n",
        "    and the Convolution module. This sandwich structure is inspired by Macaron-Net, which proposes replacing\n",
        "    the original feed-forward layer in the Transformer block into two half-step feed-forward layers,\n",
        "    one before the attention layer and one after.\n",
        "\n",
        "    Args:\n",
        "        encoder_dim (int, optional): Dimension of conformer encoder\n",
        "        num_attention_heads (int, optional): Number of attention heads\n",
        "        feed_forward_expansion_factor (int, optional): Expansion factor of feed forward module\n",
        "        conv_expansion_factor (int, optional): Expansion factor of conformer convolution module\n",
        "        feed_forward_dropout_p (float, optional): Probability of feed forward module dropout\n",
        "        attention_dropout_p (float, optional): Probability of attention module dropout\n",
        "        conv_dropout_p (float, optional): Probability of conformer convolution module dropout\n",
        "        conv_kernel_size (int or tuple, optional): Size of the convolving kernel\n",
        "        half_step_residual (bool): Flag indication whether to use half step residual or not\n",
        "\n",
        "    Inputs: inputs\n",
        "        - **inputs** (batch, time, dim): Tensor containing input vector\n",
        "\n",
        "    Returns: outputs\n",
        "        - **outputs** (batch, time, dim): Tensor produces by conformer block.\n",
        "    \"\"\"\n",
        "    def __init__(\n",
        "            self,\n",
        "            encoder_dim: int = 512,\n",
        "            num_attention_heads: int = 8,\n",
        "            feed_forward_expansion_factor: int = 4,\n",
        "            conv_expansion_factor: int = 2,\n",
        "            feed_forward_dropout_p: float = 0.1,\n",
        "            attention_dropout_p: float = 0.1,\n",
        "            conv_dropout_p: float = 0.1,\n",
        "            conv_kernel_size: int = 31,\n",
        "            half_step_residual: bool = True,\n",
        "    ):\n",
        "        super(ConformerBlock, self).__init__()\n",
        "        if half_step_residual:\n",
        "            self.feed_forward_residual_factor = 0.5\n",
        "        else:\n",
        "            self.feed_forward_residual_factor = 1\n",
        "\n",
        "        self.sequential = nn.Sequential(\n",
        "            ResidualConnectionModule(\n",
        "                module=FeedForwardModule(\n",
        "                    encoder_dim=encoder_dim,\n",
        "                    expansion_factor=feed_forward_expansion_factor,\n",
        "                    dropout_p=feed_forward_dropout_p,\n",
        "                ),\n",
        "                module_factor=self.feed_forward_residual_factor,\n",
        "            ),\n",
        "            ResidualConnectionModule(\n",
        "                module=MultiHeadedSelfAttentionModule(\n",
        "                    d_model=encoder_dim,\n",
        "                    num_heads=num_attention_heads,\n",
        "                    dropout_p=attention_dropout_p,\n",
        "                ),\n",
        "            ),\n",
        "            ResidualConnectionModule(\n",
        "                module=ConformerConvModule(\n",
        "                    in_channels=encoder_dim,\n",
        "                    kernel_size=conv_kernel_size,\n",
        "                    expansion_factor=conv_expansion_factor,\n",
        "                    dropout_p=conv_dropout_p,\n",
        "                ),\n",
        "            ),\n",
        "            ResidualConnectionModule(\n",
        "                module=FeedForwardModule(\n",
        "                    encoder_dim=encoder_dim,\n",
        "                    expansion_factor=feed_forward_expansion_factor,\n",
        "                    dropout_p=feed_forward_dropout_p,\n",
        "                ),\n",
        "                module_factor=self.feed_forward_residual_factor,\n",
        "            ),\n",
        "            nn.LayerNorm(encoder_dim),\n",
        "        )\n",
        "\n",
        "    def forward(self, inputs: Tensor) -> Tensor:\n",
        "        outputs = self.sequential(inputs)\n",
        "\n",
        "        # Print the output shape\n",
        "        #print(\"Conformer Block Output Shape:\", outputs.shape)\n",
        "\n",
        "        return outputs\n",
        "\n",
        "class ConformerEncoder(nn.Module):\n",
        "    \"\"\"\n",
        "    Conformer encoder first processes the input with a convolution subsampling layer and then\n",
        "    with a number of conformer blocks.\n",
        "\n",
        "    Args:\n",
        "        input_dim (int, optional): Dimension of input vector\n",
        "        encoder_dim (int, optional): Dimension of conformer encoder\n",
        "        num_layers (int, optional): Number of conformer blocks\n",
        "        num_attention_heads (int, optional): Number of attention heads\n",
        "        feed_forward_expansion_factor (int, optional): Expansion factor of feed forward module\n",
        "        conv_expansion_factor (int, optional): Expansion factor of conformer convolution module\n",
        "        feed_forward_dropout_p (float, optional): Probability of feed forward module dropout\n",
        "        attention_dropout_p (float, optional): Probability of attention module dropout\n",
        "        conv_dropout_p (float, optional): Probability of conformer convolution module dropout\n",
        "        conv_kernel_size (int or tuple, optional): Size of the convolving kernel\n",
        "        half_step_residual (bool): Flag indication whether to use half step residual or not\n",
        "\n",
        "    Inputs: inputs, input_lengths\n",
        "        - **inputs** (batch, time, dim): Tensor containing input vector\n",
        "        - **input_lengths** (batch): list of sequence input lengths\n",
        "\n",
        "    Returns: outputs, output_lengths\n",
        "        - **outputs** (batch, out_channels, time): Tensor produces by conformer encoder.\n",
        "        - **output_lengths** (batch): list of sequence output lengths\n",
        "    \"\"\"\n",
        "    def __init__(\n",
        "            self,\n",
        "            input_dim: int = 80,\n",
        "            encoder_dim: int = 512,\n",
        "            num_layers: int = 17,\n",
        "            num_attention_heads: int = 8,\n",
        "            feed_forward_expansion_factor: int = 4,\n",
        "            conv_expansion_factor: int = 2,\n",
        "            input_dropout_p: float = 0.1,\n",
        "            feed_forward_dropout_p: float = 0.1,\n",
        "            attention_dropout_p: float = 0.1,\n",
        "            conv_dropout_p: float = 0.1,\n",
        "            conv_kernel_size: int = 31,\n",
        "            half_step_residual: bool = True,\n",
        "    ):\n",
        "        super(ConformerEncoder, self).__init__()\n",
        "        self.conv_subsample = Conv2dSubampling(in_channels=1, out_channels=encoder_dim)\n",
        "        self.input_projection = nn.Sequential(\n",
        "            Linear(encoder_dim * (((input_dim - 1) // 2 - 1) // 2), encoder_dim),\n",
        "            nn.Dropout(p=input_dropout_p),\n",
        "        )\n",
        "        self.layers = nn.ModuleList([ConformerBlock(\n",
        "            encoder_dim=encoder_dim,\n",
        "            num_attention_heads=num_attention_heads,\n",
        "            feed_forward_expansion_factor=feed_forward_expansion_factor,\n",
        "            conv_expansion_factor=conv_expansion_factor,\n",
        "            feed_forward_dropout_p=feed_forward_dropout_p,\n",
        "            attention_dropout_p=attention_dropout_p,\n",
        "            conv_dropout_p=conv_dropout_p,\n",
        "            conv_kernel_size=conv_kernel_size,\n",
        "            half_step_residual=half_step_residual,\n",
        "        ) for _ in range(num_layers)])\n",
        "\n",
        "    ''' def count_parameters(self) -> int:\n",
        "        \"\"\" Count parameters of encoder \"\"\"\n",
        "        return sum([p.numel() for p in self.parameters()])\n",
        "\n",
        "    def update_dropout(self, dropout_p: float) -> None:\n",
        "        \"\"\" Update dropout probability of encoder \"\"\"\n",
        "        for name, child in self.named_children():\n",
        "            if isinstance(child, nn.Dropout):\n",
        "                child.p = dropout_p'''\n",
        "\n",
        "    def forward(self, inputs: Tensor, input_lengths: Tensor) -> Tuple[Tensor, Tensor]:\n",
        "        \"\"\"\n",
        "        Forward propagate a `inputs` for  encoder training.\n",
        "\n",
        "        Args:\n",
        "            inputs (torch.FloatTensor): A input sequence passed to encoder. Typically for inputs this will be a padded\n",
        "                `FloatTensor` of size ``(batch, seq_length, dimension)``.\n",
        "            input_lengths (torch.LongTensor): The length of input tensor. ``(batch)``\n",
        "\n",
        "        Returns:\n",
        "            (Tensor, Tensor)\n",
        "\n",
        "            * outputs (torch.FloatTensor): A output sequence of encoder. `FloatTensor` of size\n",
        "                ``(batch, seq_length, dimension)``\n",
        "            * output_lengths (torch.LongTensor): The length of output tensor. ``(batch)``\n",
        "        \"\"\"\n",
        "\n",
        "        outputs, output_lengths = self.conv_subsample(inputs, input_lengths)\n",
        "        outputs = self.input_projection(outputs)\n",
        "\n",
        "        for layer in self.layers:\n",
        "            outputs = layer(outputs)\n",
        "            # Print the output shape\n",
        "            #print(\" conformer encoder Output Shape:\", outputs.shape)\n",
        "            return outputs, output_lengths"
      ],
      "metadata": {
        "id": "tjD3Gp5CNzra"
      },
      "execution_count": 29,
      "outputs": []
    },
    {
      "cell_type": "code",
      "source": [
        "class Conformer(nn.Module):\n",
        "    \"\"\"\n",
        "    Conformer: Convolution-augmented Transformer for Speech Recognition\n",
        "    The paper used a one-lstm Transducer decoder, currently still only implemented\n",
        "    the conformer encoder shown in the paper.\n",
        "\n",
        "    Args:\n",
        "        num_classes (int): Number of classification classes\n",
        "        input_dim (int, optional): Dimension of input vector\n",
        "        encoder_dim (int, optional): Dimension of conformer encoder\n",
        "        num_encoder_layers (int, optional): Number of conformer blocks\n",
        "        num_attention_heads (int, optional): Number of attention heads\n",
        "        feed_forward_expansion_factor (int, optional): Expansion factor of feed forward module\n",
        "        conv_expansion_factor (int, optional): Expansion factor of conformer convolution module\n",
        "        feed_forward_dropout_p (float, optional): Probability of feed forward module dropout\n",
        "        attention_dropout_p (float, optional): Probability of attention module dropout\n",
        "        conv_dropout_p (float, optional): Probability of conformer convolution module dropout\n",
        "        conv_kernel_size (int or tuple, optional): Size of the convolving kernel\n",
        "        half_step_residual (bool): Flag indication whether to use half step residual or not\n",
        "\n",
        "    Inputs: inputs, input_lengths\n",
        "        - **inputs** (batch, time, dim): Tensor containing input vector\n",
        "        - **input_lengths** (batch): list of sequence input lengths\n",
        "\n",
        "    Returns: outputs, output_lengths\n",
        "        - **outputs** (batch, out_channels, time): Tensor produces by conformer.\n",
        "        - **output_lengths** (batch): list of sequence output lengths\n",
        "    \"\"\"\n",
        "    def __init__(\n",
        "            self,\n",
        "            num_classes: int,\n",
        "            input_dim: int = 80,\n",
        "            encoder_dim: int = 512,\n",
        "            num_encoder_layers: int = 17,\n",
        "            num_attention_heads: int = 8,\n",
        "            feed_forward_expansion_factor: int = 4,\n",
        "            conv_expansion_factor: int = 2,\n",
        "            input_dropout_p: float = 0.1,\n",
        "            feed_forward_dropout_p: float = 0.1,\n",
        "            attention_dropout_p: float = 0.1,\n",
        "            conv_dropout_p: float = 0.1,\n",
        "            conv_kernel_size: int = 31,\n",
        "            half_step_residual: bool = True,\n",
        "    ) -> None:\n",
        "        super(Conformer, self).__init__()\n",
        "        self.encoder = ConformerEncoder(\n",
        "            input_dim=input_dim,\n",
        "            encoder_dim=encoder_dim,\n",
        "            num_layers=num_encoder_layers,\n",
        "            num_attention_heads=num_attention_heads,\n",
        "            feed_forward_expansion_factor=feed_forward_expansion_factor,\n",
        "            conv_expansion_factor=conv_expansion_factor,\n",
        "            input_dropout_p=input_dropout_p,\n",
        "            feed_forward_dropout_p=feed_forward_dropout_p,\n",
        "            attention_dropout_p=attention_dropout_p,\n",
        "            conv_dropout_p=conv_dropout_p,\n",
        "            conv_kernel_size=conv_kernel_size,\n",
        "            half_step_residual=half_step_residual,\n",
        "        )\n",
        "        self.fc = Linear(encoder_dim, num_classes, bias=False)\n",
        "\n",
        "    '''def count_parameters(self) -> int:\n",
        "        \"\"\" Count parameters of encoder \"\"\"\n",
        "        return self.encoder.count_parameters()\n",
        "\n",
        "    def update_dropout(self, dropout_p) -> None:\n",
        "        \"\"\" Update dropout probability of model \"\"\"\n",
        "        self.encoder.update_dropout(dropout_p)'''\n",
        "\n",
        "    def forward(self, inputs: Tensor, input_lengths: Tensor) -> Tuple[Tensor, Tensor]:\n",
        "        \"\"\"\n",
        "        Forward propagate a `inputs` and `targets` pair for training.\n",
        "\n",
        "        Args:\n",
        "            inputs (torch.FloatTensor): A input sequence passed to encoder. Typically for inputs this will be a padded\n",
        "                `FloatTensor` of size ``(batch, seq_length, dimension)``.\n",
        "            input_lengths (torch.LongTensor): The length of input tensor. ``(batch)``\n",
        "\n",
        "        Returns:\n",
        "            * predictions (torch.FloatTensor): Result of model predictions.\n",
        "        \"\"\"\n",
        "        encoder_outputs, encoder_output_lengths = self.encoder(inputs, input_lengths)\n",
        "        outputs = self.fc(encoder_outputs)\n",
        "        outputs = nn.functional.softmax(outputs, dim=-1)\n",
        "        #print(\" conformer Output Shape:\", outputs.shape)\n",
        "\n",
        "        return outputs, encoder_output_lengths"
      ],
      "metadata": {
        "id": "Q9gEzXGUPu6t"
      },
      "execution_count": 30,
      "outputs": []
    },
    {
      "cell_type": "markdown",
      "source": [
        "Architexture of conformer model:"
      ],
      "metadata": {
        "id": "FywxO9JCmnNg"
      }
    },
    {
      "cell_type": "markdown",
      "source": [
        "![image.png](data:image/png;base64,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)"
      ],
      "metadata": {
        "id": "CYs2lSDbZYWD"
      }
    },
    {
      "cell_type": "code",
      "source": [
        "# Define the model hyperparameters\n",
        "num_classes = 3\n",
        "input_dim = 15\n",
        "encoder_dim = 800\n",
        "num_encoder_layers = 17\n",
        "num_attention_heads = 8\n",
        "feed_forward_expansion_factor = 4\n",
        "conv_expansion_factor = 2\n",
        "input_dropout_p = 0.1\n",
        "feed_forward_dropout_p = 0.1\n",
        "attention_dropout_p = 0.1\n",
        "conv_dropout_p = 0.1\n",
        "conv_kernel_size = 31\n",
        "half_step_residual = True\n",
        "\n",
        "# Initialize the Conformer model\n",
        "model = Conformer(\n",
        "    num_classes=num_classes,\n",
        "    input_dim=input_dim,\n",
        "    encoder_dim=encoder_dim,\n",
        "    num_encoder_layers=num_encoder_layers,\n",
        "    num_attention_heads=num_attention_heads,\n",
        "    feed_forward_expansion_factor=feed_forward_expansion_factor,\n",
        "    conv_expansion_factor=conv_expansion_factor,\n",
        "    input_dropout_p=input_dropout_p,\n",
        "    feed_forward_dropout_p=feed_forward_dropout_p,\n",
        "    attention_dropout_p=attention_dropout_p,\n",
        "    conv_dropout_p=conv_dropout_p,\n",
        "    conv_kernel_size=conv_kernel_size,\n",
        "    half_step_residual=half_step_residual\n",
        ")"
      ],
      "metadata": {
        "id": "BKZQc1H8b-nD"
      },
      "execution_count": 31,
      "outputs": []
    },
    {
      "cell_type": "code",
      "source": [
        "model=model.to(device)# moving model to GPU"
      ],
      "metadata": {
        "id": "pSffpULg2kuF"
      },
      "execution_count": 32,
      "outputs": []
    },
    {
      "cell_type": "code",
      "source": [
        "criterion = nn.CrossEntropyLoss()\n",
        "optimizer = optim.SGD(model.parameters(), lr=0.01)"
      ],
      "metadata": {
        "id": "LU0oJjmNYBzb"
      },
      "execution_count": 33,
      "outputs": []
    },
    {
      "cell_type": "code",
      "source": [
        "num_epochs=75"
      ],
      "metadata": {
        "id": "Mu8oN-7GxKg1"
      },
      "execution_count": 34,
      "outputs": []
    },
    {
      "cell_type": "markdown",
      "source": [
        "Training and validation"
      ],
      "metadata": {
        "id": "S3q3DoR0nAHo"
      }
    },
    {
      "cell_type": "code",
      "source": [
        "from tqdm import tqdm\n",
        "train_losses = []  # To store training losses for each epoch\n",
        "valid_losses = []  # To store validation losses for each epoch\n",
        "\n",
        "for epoch in tqdm(range(num_epochs)):\n",
        "      model.train()  # Set the model to training mode\n",
        "      total_train_loss = 0.0\n",
        "\n",
        "      for audios, labels in train_dataloader:\n",
        "            audios = audios.to(device)\n",
        "            labels = labels.to(device)\n",
        "            #print(audios.shape)\n",
        "\n",
        "            audios = audios.permute(0, 2, 1, 3)\n",
        "\n",
        "          # Reshape to match the expected input shape\n",
        "            audios = audios.view(8, 800, 15)\n",
        "            input_lengths = torch.tensor([audios.size(2)] * audios.size(0))\n",
        "            outputs,_ = model(audios,input_lengths)\n",
        "            labels=labels.long()  # Forward pass\n",
        "\n",
        "            loss = criterion(outputs, labels)  # Compute the loss\n",
        "            optimizer.zero_grad()\n",
        "            loss.backward()\n",
        "            optimizer.step()  # Update weights\n",
        "            total_train_loss += loss.item()\n",
        "\n",
        "      average_train_loss = total_train_loss / len(train_dataloader)\n",
        "      train_losses.append(average_train_loss)  # Store the training loss for this epoch\n",
        "\n",
        "        # Validation\n",
        "      model.eval()  # Set the model to evaluation mode\n",
        "      total_valid_loss = 0.0\n",
        "\n",
        "      with torch.no_grad():  # No need to compute gradients during validation\n",
        "            for audios, labels in valid_dataloader:\n",
        "                audios = audios.to(device)\n",
        "                labels = labels.to(device)\n",
        "                audios = audios.permute(0, 2, 1, 3)  # Swap dimensions\n",
        "\n",
        "                # Reshape to match the expected input shape\n",
        "                audios = audios.view(8, 800, 15)\n",
        "                input_lengths = torch.tensor([audios.size(2)] * audios.size(0))\n",
        "                outputs = model(audios,input_lengths)\n",
        "                outputs,_ = model(audios,input_lengths)\n",
        "                labels=labels.long()  # Forward pass\n",
        "                loss = criterion(outputs, labels)  # Compute the loss\n",
        "                total_valid_loss += loss.item()\n",
        "\n",
        "      average_valid_loss = total_valid_loss / len(valid_dataloader)\n",
        "      valid_losses.append(average_valid_loss)  # Store the validation loss for this epoch\n",
        "\n",
        "        # Print the training and validation losses for this epoch\n",
        "      print(f'Epoch [{epoch + 1}/{num_epochs}], Train Loss: {average_train_loss:.4f}, Valid Loss: {average_valid_loss:.4f}')"
      ],
      "metadata": {
        "id": "kQnBMnRszYEV",
        "colab": {
          "base_uri": "https://localhost:8080/"
        },
        "outputId": "54ce914e-af82-4715-ea34-d4b3da998ecc"
      },
      "execution_count": 35,
      "outputs": [
        {
          "output_type": "stream",
          "name": "stderr",
          "text": [
            "  1%|▏         | 1/75 [01:16<1:33:47, 76.04s/it]"
          ]
        },
        {
          "output_type": "stream",
          "name": "stdout",
          "text": [
            "Epoch [1/75], Train Loss: 5.2954, Valid Loss: 5.2933\n"
          ]
        },
        {
          "output_type": "stream",
          "name": "stderr",
          "text": [
            "\r  3%|▎         | 2/75 [01:25<44:43, 36.76s/it]  "
          ]
        },
        {
          "output_type": "stream",
          "name": "stdout",
          "text": [
            "Epoch [2/75], Train Loss: 5.2932, Valid Loss: 5.2934\n"
          ]
        },
        {
          "output_type": "stream",
          "name": "stderr",
          "text": [
            "\r  4%|▍         | 3/75 [01:32<27:39, 23.06s/it]"
          ]
        },
        {
          "output_type": "stream",
          "name": "stdout",
          "text": [
            "Epoch [3/75], Train Loss: 5.2936, Valid Loss: 5.2933\n"
          ]
        },
        {
          "output_type": "stream",
          "name": "stderr",
          "text": [
            "\r  5%|▌         | 4/75 [01:37<19:03, 16.10s/it]"
          ]
        },
        {
          "output_type": "stream",
          "name": "stdout",
          "text": [
            "Epoch [4/75], Train Loss: 5.2937, Valid Loss: 5.2933\n"
          ]
        },
        {
          "output_type": "stream",
          "name": "stderr",
          "text": [
            "\r  7%|▋         | 5/75 [01:44<14:47, 12.68s/it]"
          ]
        },
        {
          "output_type": "stream",
          "name": "stdout",
          "text": [
            "Epoch [5/75], Train Loss: 5.2932, Valid Loss: 5.2933\n"
          ]
        },
        {
          "output_type": "stream",
          "name": "stderr",
          "text": [
            "\r  8%|▊         | 6/75 [01:49<11:53, 10.34s/it]"
          ]
        },
        {
          "output_type": "stream",
          "name": "stdout",
          "text": [
            "Epoch [6/75], Train Loss: 5.2934, Valid Loss: 5.2933\n"
          ]
        },
        {
          "output_type": "stream",
          "name": "stderr",
          "text": [
            "\r  9%|▉         | 7/75 [01:55<09:56,  8.78s/it]"
          ]
        },
        {
          "output_type": "stream",
          "name": "stdout",
          "text": [
            "Epoch [7/75], Train Loss: 5.2931, Valid Loss: 5.2933\n"
          ]
        },
        {
          "output_type": "stream",
          "name": "stderr",
          "text": [
            "\r 11%|█         | 8/75 [02:02<09:04,  8.12s/it]"
          ]
        },
        {
          "output_type": "stream",
          "name": "stdout",
          "text": [
            "Epoch [8/75], Train Loss: 5.2937, Valid Loss: 5.2933\n"
          ]
        },
        {
          "output_type": "stream",
          "name": "stderr",
          "text": [
            "\r 12%|█▏        | 9/75 [02:07<08:03,  7.33s/it]"
          ]
        },
        {
          "output_type": "stream",
          "name": "stdout",
          "text": [
            "Epoch [9/75], Train Loss: 5.2933, Valid Loss: 5.2933\n"
          ]
        },
        {
          "output_type": "stream",
          "name": "stderr",
          "text": [
            "\r 13%|█▎        | 10/75 [02:14<07:45,  7.17s/it]"
          ]
        },
        {
          "output_type": "stream",
          "name": "stdout",
          "text": [
            "Epoch [10/75], Train Loss: 5.2933, Valid Loss: 5.2933\n"
          ]
        },
        {
          "output_type": "stream",
          "name": "stderr",
          "text": [
            "\r 15%|█▍        | 11/75 [02:20<07:07,  6.68s/it]"
          ]
        },
        {
          "output_type": "stream",
          "name": "stdout",
          "text": [
            "Epoch [11/75], Train Loss: 5.2933, Valid Loss: 5.2933\n"
          ]
        },
        {
          "output_type": "stream",
          "name": "stderr",
          "text": [
            "\r 16%|█▌        | 12/75 [02:26<06:57,  6.62s/it]"
          ]
        },
        {
          "output_type": "stream",
          "name": "stdout",
          "text": [
            "Epoch [12/75], Train Loss: 5.2933, Valid Loss: 5.2933\n"
          ]
        },
        {
          "output_type": "stream",
          "name": "stderr",
          "text": [
            "\r 17%|█▋        | 13/75 [02:32<06:35,  6.38s/it]"
          ]
        },
        {
          "output_type": "stream",
          "name": "stdout",
          "text": [
            "Epoch [13/75], Train Loss: 5.2933, Valid Loss: 5.2933\n"
          ]
        },
        {
          "output_type": "stream",
          "name": "stderr",
          "text": [
            "\r 19%|█▊        | 14/75 [02:38<06:17,  6.19s/it]"
          ]
        },
        {
          "output_type": "stream",
          "name": "stdout",
          "text": [
            "Epoch [14/75], Train Loss: 5.2933, Valid Loss: 5.2933\n"
          ]
        },
        {
          "output_type": "stream",
          "name": "stderr",
          "text": [
            "\r 20%|██        | 15/75 [02:44<06:19,  6.33s/it]"
          ]
        },
        {
          "output_type": "stream",
          "name": "stdout",
          "text": [
            "Epoch [15/75], Train Loss: 5.2933, Valid Loss: 5.2933\n"
          ]
        },
        {
          "output_type": "stream",
          "name": "stderr",
          "text": [
            "\r 21%|██▏       | 16/75 [02:50<06:01,  6.12s/it]"
          ]
        },
        {
          "output_type": "stream",
          "name": "stdout",
          "text": [
            "Epoch [16/75], Train Loss: 5.2933, Valid Loss: 5.2933\n"
          ]
        },
        {
          "output_type": "stream",
          "name": "stderr",
          "text": [
            "\r 23%|██▎       | 17/75 [02:57<06:08,  6.35s/it]"
          ]
        },
        {
          "output_type": "stream",
          "name": "stdout",
          "text": [
            "Epoch [17/75], Train Loss: 5.2933, Valid Loss: 5.2933\n"
          ]
        },
        {
          "output_type": "stream",
          "name": "stderr",
          "text": [
            "\r 24%|██▍       | 18/75 [03:03<05:49,  6.14s/it]"
          ]
        },
        {
          "output_type": "stream",
          "name": "stdout",
          "text": [
            "Epoch [18/75], Train Loss: 5.2933, Valid Loss: 5.2933\n"
          ]
        },
        {
          "output_type": "stream",
          "name": "stderr",
          "text": [
            "\r 25%|██▌       | 19/75 [03:09<05:55,  6.35s/it]"
          ]
        },
        {
          "output_type": "stream",
          "name": "stdout",
          "text": [
            "Epoch [19/75], Train Loss: 5.2933, Valid Loss: 5.2933\n"
          ]
        },
        {
          "output_type": "stream",
          "name": "stderr",
          "text": [
            "\r 27%|██▋       | 20/75 [03:15<05:39,  6.18s/it]"
          ]
        },
        {
          "output_type": "stream",
          "name": "stdout",
          "text": [
            "Epoch [20/75], Train Loss: 5.2933, Valid Loss: 5.2933\n"
          ]
        },
        {
          "output_type": "stream",
          "name": "stderr",
          "text": [
            "\r 28%|██▊       | 21/75 [03:21<05:35,  6.22s/it]"
          ]
        },
        {
          "output_type": "stream",
          "name": "stdout",
          "text": [
            "Epoch [21/75], Train Loss: 5.2933, Valid Loss: 5.2933\n"
          ]
        },
        {
          "output_type": "stream",
          "name": "stderr",
          "text": [
            "\r 29%|██▉       | 22/75 [03:28<05:31,  6.26s/it]"
          ]
        },
        {
          "output_type": "stream",
          "name": "stdout",
          "text": [
            "Epoch [22/75], Train Loss: 5.2933, Valid Loss: 5.2933\n"
          ]
        },
        {
          "output_type": "stream",
          "name": "stderr",
          "text": [
            "\r 31%|███       | 23/75 [03:34<05:16,  6.09s/it]"
          ]
        },
        {
          "output_type": "stream",
          "name": "stdout",
          "text": [
            "Epoch [23/75], Train Loss: 5.2933, Valid Loss: 5.2933\n"
          ]
        },
        {
          "output_type": "stream",
          "name": "stderr",
          "text": [
            "\r 32%|███▏      | 24/75 [03:40<05:21,  6.30s/it]"
          ]
        },
        {
          "output_type": "stream",
          "name": "stdout",
          "text": [
            "Epoch [24/75], Train Loss: 5.2933, Valid Loss: 5.2933\n"
          ]
        },
        {
          "output_type": "stream",
          "name": "stderr",
          "text": [
            "\r 33%|███▎      | 25/75 [03:46<05:06,  6.14s/it]"
          ]
        },
        {
          "output_type": "stream",
          "name": "stdout",
          "text": [
            "Epoch [25/75], Train Loss: 5.2933, Valid Loss: 5.2933\n"
          ]
        },
        {
          "output_type": "stream",
          "name": "stderr",
          "text": [
            "\r 35%|███▍      | 26/75 [03:53<05:12,  6.38s/it]"
          ]
        },
        {
          "output_type": "stream",
          "name": "stdout",
          "text": [
            "Epoch [26/75], Train Loss: 5.2933, Valid Loss: 5.2933\n"
          ]
        },
        {
          "output_type": "stream",
          "name": "stderr",
          "text": [
            "\r 36%|███▌      | 27/75 [03:59<04:58,  6.21s/it]"
          ]
        },
        {
          "output_type": "stream",
          "name": "stdout",
          "text": [
            "Epoch [27/75], Train Loss: 5.2933, Valid Loss: 5.2933\n"
          ]
        },
        {
          "output_type": "stream",
          "name": "stderr",
          "text": [
            "\r 37%|███▋      | 28/75 [04:06<04:59,  6.37s/it]"
          ]
        },
        {
          "output_type": "stream",
          "name": "stdout",
          "text": [
            "Epoch [28/75], Train Loss: 5.2933, Valid Loss: 5.2933\n"
          ]
        },
        {
          "output_type": "stream",
          "name": "stderr",
          "text": [
            "\r 39%|███▊      | 29/75 [04:12<04:47,  6.26s/it]"
          ]
        },
        {
          "output_type": "stream",
          "name": "stdout",
          "text": [
            "Epoch [29/75], Train Loss: 5.2933, Valid Loss: 5.2933\n"
          ]
        },
        {
          "output_type": "stream",
          "name": "stderr",
          "text": [
            "\r 40%|████      | 30/75 [04:18<04:41,  6.26s/it]"
          ]
        },
        {
          "output_type": "stream",
          "name": "stdout",
          "text": [
            "Epoch [30/75], Train Loss: 5.2933, Valid Loss: 5.2933\n"
          ]
        },
        {
          "output_type": "stream",
          "name": "stderr",
          "text": [
            "\r 41%|████▏     | 31/75 [04:24<04:40,  6.37s/it]"
          ]
        },
        {
          "output_type": "stream",
          "name": "stdout",
          "text": [
            "Epoch [31/75], Train Loss: 5.2933, Valid Loss: 5.2933\n"
          ]
        },
        {
          "output_type": "stream",
          "name": "stderr",
          "text": [
            "\r 43%|████▎     | 32/75 [04:30<04:27,  6.22s/it]"
          ]
        },
        {
          "output_type": "stream",
          "name": "stdout",
          "text": [
            "Epoch [32/75], Train Loss: 5.2933, Valid Loss: 5.2933\n"
          ]
        },
        {
          "output_type": "stream",
          "name": "stderr",
          "text": [
            "\r 44%|████▍     | 33/75 [04:37<04:32,  6.48s/it]"
          ]
        },
        {
          "output_type": "stream",
          "name": "stdout",
          "text": [
            "Epoch [33/75], Train Loss: 5.2933, Valid Loss: 5.2933\n"
          ]
        },
        {
          "output_type": "stream",
          "name": "stderr",
          "text": [
            "\r 45%|████▌     | 34/75 [04:43<04:17,  6.28s/it]"
          ]
        },
        {
          "output_type": "stream",
          "name": "stdout",
          "text": [
            "Epoch [34/75], Train Loss: 5.2933, Valid Loss: 5.2933\n"
          ]
        },
        {
          "output_type": "stream",
          "name": "stderr",
          "text": [
            "\r 47%|████▋     | 35/75 [04:50<04:19,  6.49s/it]"
          ]
        },
        {
          "output_type": "stream",
          "name": "stdout",
          "text": [
            "Epoch [35/75], Train Loss: 5.2933, Valid Loss: 5.2933\n"
          ]
        },
        {
          "output_type": "stream",
          "name": "stderr",
          "text": [
            "\r 48%|████▊     | 36/75 [04:56<04:05,  6.29s/it]"
          ]
        },
        {
          "output_type": "stream",
          "name": "stdout",
          "text": [
            "Epoch [36/75], Train Loss: 5.2933, Valid Loss: 5.2933\n"
          ]
        },
        {
          "output_type": "stream",
          "name": "stderr",
          "text": [
            "\r 49%|████▉     | 37/75 [05:04<04:17,  6.77s/it]"
          ]
        },
        {
          "output_type": "stream",
          "name": "stdout",
          "text": [
            "Epoch [37/75], Train Loss: 5.2933, Valid Loss: 5.2933\n"
          ]
        },
        {
          "output_type": "stream",
          "name": "stderr",
          "text": [
            "\r 51%|█████     | 38/75 [05:10<04:06,  6.66s/it]"
          ]
        },
        {
          "output_type": "stream",
          "name": "stdout",
          "text": [
            "Epoch [38/75], Train Loss: 5.2933, Valid Loss: 5.2933\n"
          ]
        },
        {
          "output_type": "stream",
          "name": "stderr",
          "text": [
            "\r 52%|█████▏    | 39/75 [05:17<03:55,  6.55s/it]"
          ]
        },
        {
          "output_type": "stream",
          "name": "stdout",
          "text": [
            "Epoch [39/75], Train Loss: 5.2933, Valid Loss: 5.2933\n"
          ]
        },
        {
          "output_type": "stream",
          "name": "stderr",
          "text": [
            "\r 53%|█████▎    | 40/75 [05:23<03:50,  6.58s/it]"
          ]
        },
        {
          "output_type": "stream",
          "name": "stdout",
          "text": [
            "Epoch [40/75], Train Loss: 5.2933, Valid Loss: 5.2933\n"
          ]
        },
        {
          "output_type": "stream",
          "name": "stderr",
          "text": [
            "\r 55%|█████▍    | 41/75 [05:29<03:36,  6.36s/it]"
          ]
        },
        {
          "output_type": "stream",
          "name": "stdout",
          "text": [
            "Epoch [41/75], Train Loss: 5.2933, Valid Loss: 5.2933\n"
          ]
        },
        {
          "output_type": "stream",
          "name": "stderr",
          "text": [
            "\r 56%|█████▌    | 42/75 [05:36<03:36,  6.55s/it]"
          ]
        },
        {
          "output_type": "stream",
          "name": "stdout",
          "text": [
            "Epoch [42/75], Train Loss: 5.2933, Valid Loss: 5.2933\n"
          ]
        },
        {
          "output_type": "stream",
          "name": "stderr",
          "text": [
            "\r 57%|█████▋    | 43/75 [05:42<03:22,  6.34s/it]"
          ]
        },
        {
          "output_type": "stream",
          "name": "stdout",
          "text": [
            "Epoch [43/75], Train Loss: 5.2933, Valid Loss: 5.2933\n"
          ]
        },
        {
          "output_type": "stream",
          "name": "stderr",
          "text": [
            "\r 59%|█████▊    | 44/75 [05:49<03:22,  6.54s/it]"
          ]
        },
        {
          "output_type": "stream",
          "name": "stdout",
          "text": [
            "Epoch [44/75], Train Loss: 5.2933, Valid Loss: 5.2933\n"
          ]
        },
        {
          "output_type": "stream",
          "name": "stderr",
          "text": [
            "\r 60%|██████    | 45/75 [05:55<03:09,  6.32s/it]"
          ]
        },
        {
          "output_type": "stream",
          "name": "stdout",
          "text": [
            "Epoch [45/75], Train Loss: 5.2933, Valid Loss: 5.2933\n"
          ]
        },
        {
          "output_type": "stream",
          "name": "stderr",
          "text": [
            "\r 61%|██████▏   | 46/75 [06:02<03:08,  6.50s/it]"
          ]
        },
        {
          "output_type": "stream",
          "name": "stdout",
          "text": [
            "Epoch [46/75], Train Loss: 5.2933, Valid Loss: 5.2933\n"
          ]
        },
        {
          "output_type": "stream",
          "name": "stderr",
          "text": [
            "\r 63%|██████▎   | 47/75 [06:08<02:57,  6.35s/it]"
          ]
        },
        {
          "output_type": "stream",
          "name": "stdout",
          "text": [
            "Epoch [47/75], Train Loss: 5.2933, Valid Loss: 5.2933\n"
          ]
        },
        {
          "output_type": "stream",
          "name": "stderr",
          "text": [
            "\r 64%|██████▍   | 48/75 [06:14<02:53,  6.41s/it]"
          ]
        },
        {
          "output_type": "stream",
          "name": "stdout",
          "text": [
            "Epoch [48/75], Train Loss: 5.2933, Valid Loss: 5.2933\n"
          ]
        },
        {
          "output_type": "stream",
          "name": "stderr",
          "text": [
            "\r 65%|██████▌   | 49/75 [06:21<02:46,  6.41s/it]"
          ]
        },
        {
          "output_type": "stream",
          "name": "stdout",
          "text": [
            "Epoch [49/75], Train Loss: 5.2933, Valid Loss: 5.2933\n"
          ]
        },
        {
          "output_type": "stream",
          "name": "stderr",
          "text": [
            "\r 67%|██████▋   | 50/75 [06:27<02:36,  6.25s/it]"
          ]
        },
        {
          "output_type": "stream",
          "name": "stdout",
          "text": [
            "Epoch [50/75], Train Loss: 5.2933, Valid Loss: 5.2933\n"
          ]
        },
        {
          "output_type": "stream",
          "name": "stderr",
          "text": [
            "\r 68%|██████▊   | 51/75 [06:33<02:34,  6.44s/it]"
          ]
        },
        {
          "output_type": "stream",
          "name": "stdout",
          "text": [
            "Epoch [51/75], Train Loss: 5.2933, Valid Loss: 5.2933\n"
          ]
        },
        {
          "output_type": "stream",
          "name": "stderr",
          "text": [
            "\r 69%|██████▉   | 52/75 [06:39<02:23,  6.25s/it]"
          ]
        },
        {
          "output_type": "stream",
          "name": "stdout",
          "text": [
            "Epoch [52/75], Train Loss: 5.2933, Valid Loss: 5.2933\n"
          ]
        },
        {
          "output_type": "stream",
          "name": "stderr",
          "text": [
            "\r 71%|███████   | 53/75 [06:46<02:22,  6.46s/it]"
          ]
        },
        {
          "output_type": "stream",
          "name": "stdout",
          "text": [
            "Epoch [53/75], Train Loss: 5.2933, Valid Loss: 5.2933\n"
          ]
        },
        {
          "output_type": "stream",
          "name": "stderr",
          "text": [
            "\r 72%|███████▏  | 54/75 [06:52<02:11,  6.27s/it]"
          ]
        },
        {
          "output_type": "stream",
          "name": "stdout",
          "text": [
            "Epoch [54/75], Train Loss: 5.2933, Valid Loss: 5.2933\n"
          ]
        },
        {
          "output_type": "stream",
          "name": "stderr",
          "text": [
            "\r 73%|███████▎  | 55/75 [06:59<02:09,  6.47s/it]"
          ]
        },
        {
          "output_type": "stream",
          "name": "stdout",
          "text": [
            "Epoch [55/75], Train Loss: 5.2933, Valid Loss: 5.2933\n"
          ]
        },
        {
          "output_type": "stream",
          "name": "stderr",
          "text": [
            "\r 75%|███████▍  | 56/75 [07:05<01:59,  6.28s/it]"
          ]
        },
        {
          "output_type": "stream",
          "name": "stdout",
          "text": [
            "Epoch [56/75], Train Loss: 5.2933, Valid Loss: 5.2933\n"
          ]
        },
        {
          "output_type": "stream",
          "name": "stderr",
          "text": [
            "\r 76%|███████▌  | 57/75 [07:12<01:55,  6.43s/it]"
          ]
        },
        {
          "output_type": "stream",
          "name": "stdout",
          "text": [
            "Epoch [57/75], Train Loss: 5.2933, Valid Loss: 5.2933\n"
          ]
        },
        {
          "output_type": "stream",
          "name": "stderr",
          "text": [
            "\r 77%|███████▋  | 58/75 [07:18<01:48,  6.37s/it]"
          ]
        },
        {
          "output_type": "stream",
          "name": "stdout",
          "text": [
            "Epoch [58/75], Train Loss: 5.2933, Valid Loss: 5.2933\n"
          ]
        },
        {
          "output_type": "stream",
          "name": "stderr",
          "text": [
            "\r 79%|███████▊  | 59/75 [07:24<01:42,  6.41s/it]"
          ]
        },
        {
          "output_type": "stream",
          "name": "stdout",
          "text": [
            "Epoch [59/75], Train Loss: 5.2933, Valid Loss: 5.2933\n"
          ]
        },
        {
          "output_type": "stream",
          "name": "stderr",
          "text": [
            "\r 80%|████████  | 60/75 [07:31<01:35,  6.38s/it]"
          ]
        },
        {
          "output_type": "stream",
          "name": "stdout",
          "text": [
            "Epoch [60/75], Train Loss: 5.2933, Valid Loss: 5.2933\n"
          ]
        },
        {
          "output_type": "stream",
          "name": "stderr",
          "text": [
            "\r 81%|████████▏ | 61/75 [07:36<01:26,  6.21s/it]"
          ]
        },
        {
          "output_type": "stream",
          "name": "stdout",
          "text": [
            "Epoch [61/75], Train Loss: 5.2933, Valid Loss: 5.2933\n"
          ]
        },
        {
          "output_type": "stream",
          "name": "stderr",
          "text": [
            "\r 83%|████████▎ | 62/75 [07:43<01:23,  6.43s/it]"
          ]
        },
        {
          "output_type": "stream",
          "name": "stdout",
          "text": [
            "Epoch [62/75], Train Loss: 5.2933, Valid Loss: 5.2933\n"
          ]
        },
        {
          "output_type": "stream",
          "name": "stderr",
          "text": [
            "\r 84%|████████▍ | 63/75 [07:49<01:15,  6.25s/it]"
          ]
        },
        {
          "output_type": "stream",
          "name": "stdout",
          "text": [
            "Epoch [63/75], Train Loss: 5.2933, Valid Loss: 5.2933\n"
          ]
        },
        {
          "output_type": "stream",
          "name": "stderr",
          "text": [
            "\r 85%|████████▌ | 64/75 [07:56<01:10,  6.43s/it]"
          ]
        },
        {
          "output_type": "stream",
          "name": "stdout",
          "text": [
            "Epoch [64/75], Train Loss: 5.2933, Valid Loss: 5.2933\n"
          ]
        },
        {
          "output_type": "stream",
          "name": "stderr",
          "text": [
            "\r 87%|████████▋ | 65/75 [08:02<01:02,  6.26s/it]"
          ]
        },
        {
          "output_type": "stream",
          "name": "stdout",
          "text": [
            "Epoch [65/75], Train Loss: 5.2933, Valid Loss: 5.2933\n"
          ]
        },
        {
          "output_type": "stream",
          "name": "stderr",
          "text": [
            "\r 88%|████████▊ | 66/75 [08:09<00:57,  6.42s/it]"
          ]
        },
        {
          "output_type": "stream",
          "name": "stdout",
          "text": [
            "Epoch [66/75], Train Loss: 5.2933, Valid Loss: 5.2933\n"
          ]
        },
        {
          "output_type": "stream",
          "name": "stderr",
          "text": [
            "\r 89%|████████▉ | 67/75 [08:15<00:50,  6.31s/it]"
          ]
        },
        {
          "output_type": "stream",
          "name": "stdout",
          "text": [
            "Epoch [67/75], Train Loss: 5.2933, Valid Loss: 5.2933\n"
          ]
        },
        {
          "output_type": "stream",
          "name": "stderr",
          "text": [
            "\r 91%|█████████ | 68/75 [08:21<00:44,  6.39s/it]"
          ]
        },
        {
          "output_type": "stream",
          "name": "stdout",
          "text": [
            "Epoch [68/75], Train Loss: 5.2933, Valid Loss: 5.2933\n"
          ]
        },
        {
          "output_type": "stream",
          "name": "stderr",
          "text": [
            "\r 92%|█████████▏| 69/75 [08:28<00:38,  6.41s/it]"
          ]
        },
        {
          "output_type": "stream",
          "name": "stdout",
          "text": [
            "Epoch [69/75], Train Loss: 5.2933, Valid Loss: 5.2933\n"
          ]
        },
        {
          "output_type": "stream",
          "name": "stderr",
          "text": [
            "\r 93%|█████████▎| 70/75 [08:34<00:31,  6.26s/it]"
          ]
        },
        {
          "output_type": "stream",
          "name": "stdout",
          "text": [
            "Epoch [70/75], Train Loss: 5.2933, Valid Loss: 5.2933\n"
          ]
        },
        {
          "output_type": "stream",
          "name": "stderr",
          "text": [
            "\r 95%|█████████▍| 71/75 [08:41<00:26,  6.51s/it]"
          ]
        },
        {
          "output_type": "stream",
          "name": "stdout",
          "text": [
            "Epoch [71/75], Train Loss: 5.2933, Valid Loss: 5.2933\n"
          ]
        },
        {
          "output_type": "stream",
          "name": "stderr",
          "text": [
            "\r 96%|█████████▌| 72/75 [08:47<00:18,  6.32s/it]"
          ]
        },
        {
          "output_type": "stream",
          "name": "stdout",
          "text": [
            "Epoch [72/75], Train Loss: 5.2933, Valid Loss: 5.2933\n"
          ]
        },
        {
          "output_type": "stream",
          "name": "stderr",
          "text": [
            "\r 97%|█████████▋| 73/75 [08:54<00:12,  6.48s/it]"
          ]
        },
        {
          "output_type": "stream",
          "name": "stdout",
          "text": [
            "Epoch [73/75], Train Loss: 5.2933, Valid Loss: 5.2933\n"
          ]
        },
        {
          "output_type": "stream",
          "name": "stderr",
          "text": [
            "\r 99%|█████████▊| 74/75 [08:59<00:06,  6.30s/it]"
          ]
        },
        {
          "output_type": "stream",
          "name": "stdout",
          "text": [
            "Epoch [74/75], Train Loss: 5.2933, Valid Loss: 5.2933\n"
          ]
        },
        {
          "output_type": "stream",
          "name": "stderr",
          "text": [
            "100%|██████████| 75/75 [09:07<00:00,  7.29s/it]"
          ]
        },
        {
          "output_type": "stream",
          "name": "stdout",
          "text": [
            "Epoch [75/75], Train Loss: 5.2933, Valid Loss: 5.2933\n"
          ]
        },
        {
          "output_type": "stream",
          "name": "stderr",
          "text": [
            "\n"
          ]
        }
      ]
    },
    {
      "cell_type": "markdown",
      "source": [
        "Visualizing result"
      ],
      "metadata": {
        "id": "VAaDJjZ-nFgS"
      }
    },
    {
      "cell_type": "code",
      "source": [
        "import matplotlib.pyplot as plt\n",
        "plt.figure(figsize=(10, 6))\n",
        "plt.plot(range(1, len(train_losses) + 1), train_losses, label='Train Loss')\n",
        "plt.plot(range(1, len(valid_losses)+ 1), valid_losses, label='Valid Loss')\n",
        "plt.xlabel('Epoch')\n",
        "plt.ylabel('Loss')\n",
        "plt.legend()\n",
        "plt.title('Training and Validation Loss')\n",
        "plt.show()"
      ],
      "metadata": {
        "id": "Bbl2LyAwXn9l",
        "colab": {
          "base_uri": "https://localhost:8080/",
          "height": 564
        },
        "outputId": "4a7b31eb-4faa-4230-8bea-38fa6fe81161"
      },
      "execution_count": 36,
      "outputs": [
        {
          "output_type": "display_data",
          "data": {
            "text/plain": [
              "<Figure size 1000x600 with 1 Axes>"
            ],
            "image/png": "[encoded data removed]"
          },
          "metadata": {}
        }
      ]
    },
    {
      "cell_type": "markdown",
      "source": [
        "Testing"
      ],
      "metadata": {
        "id": "xhBin713nI7F"
      }
    },
    {
      "cell_type": "code",
      "source": [
        "total_correct = 0\n",
        "correct=0\n",
        "total_samples = 0\n",
        "sample=0\n",
        "\n",
        "with torch.no_grad():\n",
        "     for audios, labels in test_dataloader:\n",
        "\n",
        "        audios = audios.to(device)\n",
        "        labels = labels.to(device)\n",
        "\n",
        "        audios = audios.permute(0, 2, 1, 3)  # Swap dimensions\n",
        "\n",
        "        # Reshape to match the expected input shape\n",
        "        audios = audios.view(8, 800, 15)\n",
        "        input_lengths = torch.tensor([audios.size(2)] * audios.size(0))\n",
        "\n",
        "        outputs,_ = model(audios,input_lengths)\n",
        "        threshold = 0.2\n",
        "        preds = (outputs > threshold).float()\n",
        "        preds=preds.cpu()\n",
        "\n",
        "        for i in range(len(labels)):\n",
        "          labels=labels.cpu()\n",
        "          if np.argmax(preds[i] == np.argmax(labels[i])):\n",
        "             correct = correct + 1\n",
        "          sample=sample+1\n",
        "\n",
        "          total_samples=sample\n",
        "\n",
        "# Calculate test accuracy\n",
        "test_accuracy = correct / sample\n",
        "\n",
        "print(f'Total Correct Predictions: {correct}')\n",
        "print(f'Total Samples: {total_samples}')\n",
        "print(f'Test Accuracy: {test_accuracy*100:.2f}%')"
      ],
      "metadata": {
        "id": "xvFjh8tgOGu1",
        "colab": {
          "base_uri": "https://localhost:8080/"
        },
        "outputId": "5ba2400d-e745-463b-97c5-3f9f6390ff72"
      },
      "execution_count": 37,
      "outputs": [
        {
          "output_type": "stream",
          "name": "stdout",
          "text": [
            "Total Correct Predictions: 11\n",
            "Total Samples: 24\n",
            "Test Accuracy: 45.83%\n"
          ]
        }
      ]
    }
  ],
  "metadata": {
    "colab": {
      "provenance": [],
      "gpuType": "T4"
    },
    "kernelspec": {
      "display_name": "Python 3",
      "name": "python3"
    },
    "accelerator": "GPU"
  },
  "nbformat": 4,
  "nbformat_minor": 0
}